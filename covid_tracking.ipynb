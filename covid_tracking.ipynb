{
 "cells": [
  {
   "cell_type": "code",
   "execution_count": 1,
   "metadata": {},
   "outputs": [],
   "source": [
    "# imports\n",
    "import json as js\n",
    "import requests as rts"
   ]
  },
  {
   "cell_type": "code",
   "execution_count": 2,
   "metadata": {},
   "outputs": [],
   "source": [
    "#  api urls\n",
    "covid_url = 'https://api.covidtracking.com/v1/us/daily.json'"
   ]
  },
  {
   "cell_type": "code",
   "execution_count": 3,
   "metadata": {},
   "outputs": [],
   "source": [
    "# Execute `GET` request with url\n",
    "response_data = rts.get(covid_url)"
   ]
  },
  {
   "cell_type": "code",
   "execution_count": 4,
   "metadata": {},
   "outputs": [
    {
     "name": "stdout",
     "output_type": "stream",
     "text": [
      "<Response [200]>\n"
     ]
    }
   ],
   "source": [
    "# Print `response_data variable`\n",
    "print(response_data)"
   ]
  },
  {
   "cell_type": "code",
   "execution_count": 5,
   "metadata": {},
   "outputs": [],
   "source": [
    "# Format data as JSON\n",
    "data = response_data.json()"
   ]
  },
  {
   "cell_type": "code",
   "execution_count": 6,
   "metadata": {},
   "outputs": [],
   "source": [
    "# Use json.dumps with argument indent=4 to format data\n",
    "# print(js.dumps(data, indent=4))"
   ]
  },
  {
   "cell_type": "code",
   "execution_count": 7,
   "metadata": {},
   "outputs": [
    {
     "data": {
      "text/plain": [
       "{'date': 20210307,\n",
       " 'states': 56,\n",
       " 'positive': 28756184,\n",
       " 'negative': 74582825,\n",
       " 'pending': 11808,\n",
       " 'hospitalizedCurrently': 40212,\n",
       " 'hospitalizedCumulative': 878613,\n",
       " 'inIcuCurrently': 8137,\n",
       " 'inIcuCumulative': 45475,\n",
       " 'onVentilatorCurrently': 2801,\n",
       " 'onVentilatorCumulative': 4281,\n",
       " 'dateChecked': '2021-03-07T24:00:00Z',\n",
       " 'death': 515148,\n",
       " 'hospitalized': 878613,\n",
       " 'totalTestResults': 363824818,\n",
       " 'lastModified': '2021-03-07T24:00:00Z',\n",
       " 'recovered': None,\n",
       " 'total': 0,\n",
       " 'posNeg': 0,\n",
       " 'deathIncrease': 839,\n",
       " 'hospitalizedIncrease': 726,\n",
       " 'negativeIncrease': 131835,\n",
       " 'positiveIncrease': 41530,\n",
       " 'totalTestResultsIncrease': 1169754,\n",
       " 'hash': '74952fef2e04125e96bbf3007726bc3e64a6a6d8'}"
      ]
     },
     "execution_count": 7,
     "metadata": {},
     "output_type": "execute_result"
    }
   ],
   "source": [
    "# Select from data set \n",
    "selected_value = data[0]\n",
    "selected_value"
   ]
  },
  {
   "cell_type": "code",
   "execution_count": null,
   "metadata": {},
   "outputs": [],
   "source": []
  }
 ],
 "metadata": {
  "kernelspec": {
   "display_name": "Python 3",
   "language": "python",
   "name": "python3"
  },
  "language_info": {
   "codemirror_mode": {
    "name": "ipython",
    "version": 3
   },
   "file_extension": ".py",
   "mimetype": "text/x-python",
   "name": "python",
   "nbconvert_exporter": "python",
   "pygments_lexer": "ipython3",
   "version": "3.7.9"
  }
 },
 "nbformat": 4,
 "nbformat_minor": 4
}
