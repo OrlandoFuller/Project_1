{
 "cells": [
  {
   "cell_type": "code",
   "execution_count": 2,
   "metadata": {},
   "outputs": [],
   "source": [
    "# imports\n",
    "import requests as rts\n",
    "import pandas as pd\n",
    "import hvplot.pandas\n",
    "import datetime as dt\n",
    "import matplotlib.pyplot as plt\n",
    "import plotly.express as px\n",
    "import pandas as pd\n",
    "import panel as pn"
   ]
  },
  {
   "cell_type": "code",
   "execution_count": 4,
   "metadata": {},
   "outputs": [],
   "source": [
    "# read AUDUSD csvs\n",
    "AUDUSD = pd.read_csv('data/AUDUSD1440.csv', index_col=\"date\")\n",
    "# read EURUSD csvs\n",
    "EURUSD = pd.read_csv('data/EURUSD1440.csv', index_col=\"date\")\n",
    "# read GBPUSD csvs\n",
    "GBPUSD = pd.read_csv('data/GBPUSD1440.csv', index_col=\"date\")\n",
    "# read NZDUSD csvs\n",
    "NZDUSD = pd.read_csv('data/NZDUSD1440.csv', index_col=\"date\")\n",
    "# read USDCAD csvs\n",
    "USDCAD = pd.read_csv('data/USDCAD1440.csv', index_col=\"date\")\n",
    "# read USDCHF csvs\n",
    "USDCHF = pd.read_csv('data/USDCHF1440.csv', index_col=\"date\")\n",
    "# read USDJPY csvs\n",
    "USDJPY = pd.read_csv('data/USDJPY1440.csv', index_col=\"date\")"
   ]
  },
  {
   "cell_type": "code",
   "execution_count": 5,
   "metadata": {},
   "outputs": [],
   "source": [
    "AUDUSD_close = pd.DataFrame(AUDUSD['close'])\n",
    "AUDUSD_close.columns = ['AUDUSD']\n",
    "\n",
    "EURUSD_close = pd.DataFrame(EURUSD['close'])\n",
    "EURUSD_close.columns = ['EURUSD']\n",
    "\n",
    "GBPUSD_close = pd.DataFrame(GBPUSD['close'])\n",
    "GBPUSD_close.columns = ['GBPUSD']\n",
    "\n",
    "NZDUSD_close = pd.DataFrame(NZDUSD['close'])\n",
    "NZDUSD_close.columns = ['NZDUSD']\n",
    "\n",
    "USDCAD_close = pd.DataFrame(USDCAD['close'])\n",
    "USDCAD_close.columns = ['USDCAD']\n",
    "\n",
    "USDCHF_close = pd.DataFrame(USDCHF['close'])\n",
    "USDCHF_close.columns = ['USDCHF']\n",
    "\n",
    "USDJPY_close = pd.DataFrame(USDJPY['close'])\n",
    "USDJPY_close.columns = ['USDJPY']"
   ]
  },
  {
   "cell_type": "code",
   "execution_count": 6,
   "metadata": {},
   "outputs": [],
   "source": [
    "# covid tracking 1\n",
    "# read csvs\n",
    "covid_1_data = pd.read_csv('data/CRDT Data - CRDT.csv')"
   ]
  },
  {
   "cell_type": "code",
   "execution_count": 7,
   "metadata": {},
   "outputs": [],
   "source": [
    "# covid tracking 2\n",
    "#  api urls\n",
    "covid_2_url = 'https://api.covidtracking.com/v1/us/daily.json'\n",
    "\n",
    "# Execute `GET` request with api url\n",
    "covid_2_response_data = rts.get(covid_2_url)\n",
    "\n",
    "# Format data as JSON\n",
    "data = covid_2_response_data.json()\n",
    "\n",
    "# data\n",
    "covid_2_data = pd.DataFrame(data)\n",
    "# covid_2_data.head()\n",
    "\n",
    "covid_2_data = covid_2_data.sort_values('date', ascending=True)"
   ]
  },
  {
   "cell_type": "code",
   "execution_count": 8,
   "metadata": {},
   "outputs": [
    {
     "name": "stderr",
     "output_type": "stream",
     "text": [
      "C:\\Users\\bizof\\Anaconda3\\envs\\pyvizenv\\lib\\site-packages\\ipykernel_launcher.py:1: FutureWarning: Sorting because non-concatenation axis is not aligned. A future version\n",
      "of pandas will change to not sort by default.\n",
      "\n",
      "To accept the future behavior, pass 'sort=False'.\n",
      "\n",
      "To retain the current behavior and silence the warning, pass 'sort=True'.\n",
      "\n",
      "  \"\"\"Entry point for launching an IPython kernel.\n"
     ]
    }
   ],
   "source": [
    "major7 = pd.concat([AUDUSD_close,EURUSD_close,GBPUSD_close,NZDUSD_close,USDCAD_close,USDCHF_close,USDJPY_close], axis=1).dropna()\n",
    "# major7.head()"
   ]
  },
  {
   "cell_type": "code",
   "execution_count": null,
   "metadata": {},
   "outputs": [],
   "source": [
    "major7_date_col = major7.reset_index()\n",
    "# major7_date_col"
   ]
  },
  {
   "cell_type": "code",
   "execution_count": null,
   "metadata": {},
   "outputs": [],
   "source": [
    "#  plot function\n",
    "def plot_AUDUSD():\n",
    "#      create plot\n",
    "    AUDUSD_plot = px.line(\n",
    "        major7_date_col,\n",
    "        y=\"AUDUSD\",\n",
    "        x=\"index\",\n",
    "        title='AUDUSD Closing Prices (2020)'\n",
    "    )\n",
    "    return AUDUSD_plot\n",
    "\n",
    "def plot_EURUSD():\n",
    "#      create plot\n",
    "    EURUSD_plot = px.line(\n",
    "        major7_date_col,\n",
    "        y=\"EURUSD\",\n",
    "        x=\"index\",\n",
    "        title='EURUSD Closing Prices (2020)'\n",
    "    )\n",
    "    return EURUSD_plot\n",
    "\n",
    "def plot_GBPUSD():\n",
    "#      create plot\n",
    "    GBPUSD_plot = px.line(\n",
    "        major7_date_col,\n",
    "        y=\"GBPUSD\",\n",
    "        x=\"index\",\n",
    "        title='GBPUSD Closing Prices (2020)'\n",
    "    )\n",
    "    return GBPUSD_plot\n",
    "\n",
    "def plot_NZDUSD():\n",
    "#      create plot\n",
    "    NZDUSD_plot = px.line(\n",
    "        major7_date_col,\n",
    "        y=\"NZDUSD\",\n",
    "        x=\"index\",\n",
    "        title='NZDUSD Closing Prices (2020)'\n",
    "    )\n",
    "    return NZDUSD_plot\n",
    "\n",
    "def plot_USDCAD():\n",
    "#      create plot\n",
    "    USDCAD_plot = px.line(\n",
    "        major7_date_col,\n",
    "        y=\"USDCAD\",\n",
    "        x=\"index\",\n",
    "        title='USDCAD Closing Prices (2020)'\n",
    "    )\n",
    "    return USDCAD_plot\n",
    "\n",
    "def plot_USDCHF():\n",
    "#      create plot\n",
    "    USDCHF_plot = px.line(\n",
    "        major7_date_col,\n",
    "        y=\"USDCHF\",\n",
    "        x=\"index\",\n",
    "        title='USDCHF Closing Prices (2020)'\n",
    "    )\n",
    "    return USDCHF_plot\n",
    "\n",
    "def plot_USDJPY():\n",
    "#      create plot\n",
    "    USDJPY_plot = px.line(\n",
    "        major7_date_col,\n",
    "        y=\"USDJPY\",\n",
    "        x=\"index\",\n",
    "        title='USDJPY Closing Prices (2020)'\n",
    "    )\n",
    "    return USDJPY_plot\n",
    "\n",
    "def plot_deaths():\n",
    "    \n",
    "#      create plot\n",
    "    deaths_plot = px.line(\n",
    "        covid_2_data,\n",
    "        y=\"deathIncrease\",\n",
    "        x=\"dateChecked\",\n",
    "        title='Covid19 Death Increase 2020'\n",
    "    )\n",
    "    return deaths_plot\n",
    "\n",
    "def plot_deaths_bar():\n",
    "    deaths = covid_1_data[['Deaths_White',\n",
    "       'Deaths_Black', 'Deaths_Latinx', 'Deaths_Asian', 'Deaths_AIAN',\n",
    "       'Deaths_NHPI', 'Deaths_Multiracial',\n",
    "       'Deaths_Ethnicity_Hispanic']]\n",
    "    deaths_totals = deaths.sum()\n",
    "    deaths_bar_plot = px.bar(deaths_totals, title='Total Covid-19 Deaths By Race From January 2020 to March 2021',)\n",
    "    return deaths_bar_plot\n",
    "#     rot=90,xlabel='Races',ylabel='Num of Deaths', yformatter='%.0f',width=800,height=400,\n"
   ]
  },
  {
   "cell_type": "code",
   "execution_count": null,
   "metadata": {},
   "outputs": [],
   "source": [
    "# Create panels to structure the layout of the dashboard\n",
    "px_1_column = pn.Column(\"## Line Plots\", plot_AUDUSD(), plot_EURUSD(), plot_GBPUSD(), plot_NZDUSD(),plot_USDCAD(),plot_USDCHF(),plot_USDJPY(),plot_deaths())\n",
    "px_2_column = pn.Column(\"## Bar Plots\", plot_deaths_bar())\n",
    "\n",
    "# Create tabs\n",
    "MCP_dashboard = pn.Tabs((\"Plotly Line Plots\", px_1_column),(\"Plotly Bar Plots\", px_2_column))\n",
    "\n",
    "# serve dashboard\n",
    "MCP_dashboard.servable()"
   ]
  },
  {
   "cell_type": "code",
   "execution_count": null,
   "metadata": {},
   "outputs": [],
   "source": []
  },
  {
   "cell_type": "code",
   "execution_count": null,
   "metadata": {},
   "outputs": [],
   "source": []
  }
 ],
 "metadata": {
  "kernelspec": {
   "display_name": "Python 3",
   "language": "python",
   "name": "python3"
  },
  "language_info": {
   "codemirror_mode": {
    "name": "ipython",
    "version": 3
   },
   "file_extension": ".py",
   "mimetype": "text/x-python",
   "name": "python",
   "nbconvert_exporter": "python",
   "pygments_lexer": "ipython3",
   "version": "3.7.9"
  }
 },
 "nbformat": 4,
 "nbformat_minor": 4
}
