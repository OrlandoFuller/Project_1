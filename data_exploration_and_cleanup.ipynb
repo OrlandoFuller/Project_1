{
 "cells": [
  {
   "cell_type": "markdown",
   "metadata": {},
   "source": [
    "# COVID EXPLORATION"
   ]
  },
  {
   "cell_type": "markdown",
   "metadata": {},
   "source": [
    "## IMPORTS"
   ]
  },
  {
   "cell_type": "code",
   "execution_count": 12,
   "metadata": {},
   "outputs": [],
   "source": [
    "# imports\n",
    "import requests as rts\n",
    "import pandas as pd\n",
    "import hvplot.pandas\n",
    "import datetime as dt"
   ]
  },
  {
   "cell_type": "markdown",
   "metadata": {},
   "source": [
    "## FIRST DATASET"
   ]
  },
  {
   "cell_type": "code",
   "execution_count": 2,
   "metadata": {},
   "outputs": [],
   "source": [
    "# covid tracking 1\n",
    "# read csvs\n",
    "covid_1_data = pd.read_csv('data/CRDT Data - CRDT.csv')"
   ]
  },
  {
   "cell_type": "markdown",
   "metadata": {},
   "source": [
    "## SECOND DATASET"
   ]
  },
  {
   "cell_type": "code",
   "execution_count": 3,
   "metadata": {},
   "outputs": [],
   "source": [
    "# covid tracking 2\n",
    "#  api urls\n",
    "covid_2_url = 'https://api.covidtracking.com/v1/us/daily.json'\n",
    "\n",
    "# Execute `GET` request with api url\n",
    "covid_2_response_data = rts.get(covid_2_url)\n",
    "\n",
    "# Format data as JSON\n",
    "data = covid_2_response_data.json()\n",
    "\n",
    "# data\n",
    "covid_2_data = pd.DataFrame(data)\n",
    "# covid_2_data.head()"
   ]
  },
  {
   "cell_type": "markdown",
   "metadata": {},
   "source": [
    "## THIRD DATASET"
   ]
  },
  {
   "cell_type": "code",
   "execution_count": 4,
   "metadata": {},
   "outputs": [],
   "source": [
    "# covid tracking 3\n",
    "#  api urls\n",
    "covid_3_url = 'https://pandemicdatalake.blob.core.windows.net/public/curated/covid-19/bing_covid-19_data/latest/bing_covid-19_data.json'\n",
    "\n",
    "# Execute `GET` request with url\n",
    "covid_3_response_data = rts.get(covid_2_url)\n",
    "\n",
    "# Format data as JSON\n",
    "data = covid_3_response_data.json()\n",
    "\n",
    "# data\n",
    "covid_3_data = pd.DataFrame(data)\n",
    "# covid_3_data.head()"
   ]
  },
  {
   "cell_type": "markdown",
   "metadata": {},
   "source": [
    "## FOURTH DATASET"
   ]
  },
  {
   "cell_type": "code",
   "execution_count": 5,
   "metadata": {},
   "outputs": [],
   "source": [
    "# fips\n",
    "# read csvs\n",
    "FIPS_data = pd.read_csv('data/us-state-ansi-fips.csv')\n",
    "# FIPS_data"
   ]
  },
  {
   "cell_type": "markdown",
   "metadata": {},
   "source": [
    "## PLOTS"
   ]
  },
  {
   "cell_type": "code",
   "execution_count": 6,
   "metadata": {},
   "outputs": [
    {
     "data": {},
     "metadata": {},
     "output_type": "display_data"
    },
    {
     "data": {
      "application/vnd.holoviews_exec.v0+json": "",
      "text/html": [
       "<div id='1001'>\n",
       "\n",
       "\n",
       "\n",
       "\n",
       "\n",
       "  <div class=\"bk-root\" id=\"5f2e915f-1acf-411f-bbea-576b0c50d576\" data-root-id=\"1001\"></div>\n",
       "</div>\n",
       "<script type=\"application/javascript\">(function(root) {\n",
       "  function embed_document(root) {\n",
       "    var docs_json = {\"c545f6f6-627f-433c-b418-dc142b7490f0\":{\"roots\":{\"references\":[{\"attributes\":{\"overlay\":{\"id\":\"1028\"}},\"id\":\"1026\",\"type\":\"BoxZoomTool\"},{\"attributes\":{},\"id\":\"1013\",\"type\":\"LinearScale\"},{\"attributes\":{},\"id\":\"1011\",\"type\":\"LinearScale\"},{\"attributes\":{\"axis_label\":\"\",\"bounds\":\"auto\",\"formatter\":{\"id\":\"1045\"},\"major_label_orientation\":1.5707963267948966,\"ticker\":{\"id\":\"1016\"}},\"id\":\"1015\",\"type\":\"LinearAxis\"},{\"attributes\":{\"margin\":[5,5,5,5],\"name\":\"HSpacer01561\",\"sizing_mode\":\"stretch_width\"},\"id\":\"1064\",\"type\":\"Spacer\"},{\"attributes\":{\"source\":{\"id\":\"1036\"}},\"id\":\"1043\",\"type\":\"CDSView\"},{\"attributes\":{},\"id\":\"1016\",\"type\":\"BasicTicker\"},{\"attributes\":{\"axis_label\":\"Numbers of Deaths\",\"bounds\":\"auto\",\"formatter\":{\"id\":\"1047\"},\"major_label_orientation\":\"horizontal\",\"ticker\":{\"id\":\"1020\"}},\"id\":\"1019\",\"type\":\"LinearAxis\"},{\"attributes\":{},\"id\":\"1054\",\"type\":\"UnionRenderers\"},{\"attributes\":{\"axis\":{\"id\":\"1015\"},\"grid_line_color\":null,\"ticker\":null},\"id\":\"1018\",\"type\":\"Grid\"},{\"attributes\":{\"line_color\":\"#30a2da\",\"line_width\":2,\"x\":{\"field\":\"index\"},\"y\":{\"field\":\"deathIncrease\"}},\"id\":\"1039\",\"type\":\"Line\"},{\"attributes\":{\"end\":5969.7,\"reset_end\":5969.7,\"reset_start\":-542.7,\"start\":-542.7,\"tags\":[[[\"deathIncrease\",\"deathIncrease\",null]]]},\"id\":\"1004\",\"type\":\"Range1d\"},{\"attributes\":{\"end\":419.0,\"reset_end\":419.0,\"reset_start\":0.0,\"tags\":[[[\"index\",\"index\",null]]]},\"id\":\"1003\",\"type\":\"Range1d\"},{\"attributes\":{\"line_alpha\":0.2,\"line_color\":\"#30a2da\",\"line_width\":2,\"x\":{\"field\":\"index\"},\"y\":{\"field\":\"deathIncrease\"}},\"id\":\"1041\",\"type\":\"Line\"},{\"attributes\":{},\"id\":\"1020\",\"type\":\"BasicTicker\"},{\"attributes\":{\"axis\":{\"id\":\"1019\"},\"dimension\":1,\"grid_line_color\":null,\"ticker\":null},\"id\":\"1022\",\"type\":\"Grid\"},{\"attributes\":{\"callback\":null,\"renderers\":[{\"id\":\"1042\"}],\"tags\":[\"hv_created\"],\"tooltips\":[[\"index\",\"@{index}\"],[\"deathIncrease\",\"@{deathIncrease}\"]]},\"id\":\"1005\",\"type\":\"HoverTool\"},{\"attributes\":{\"line_alpha\":0.1,\"line_color\":\"#30a2da\",\"line_width\":2,\"x\":{\"field\":\"index\"},\"y\":{\"field\":\"deathIncrease\"}},\"id\":\"1040\",\"type\":\"Line\"},{\"attributes\":{\"data_source\":{\"id\":\"1036\"},\"glyph\":{\"id\":\"1039\"},\"hover_glyph\":null,\"muted_glyph\":{\"id\":\"1041\"},\"nonselection_glyph\":{\"id\":\"1040\"},\"selection_glyph\":null,\"view\":{\"id\":\"1043\"}},\"id\":\"1042\",\"type\":\"GlyphRenderer\"},{\"attributes\":{\"data\":{\"deathIncrease\":[0,0,0,0,0,0,0,0,0,0,0,0,0,0,0,0,0,0,0,0,0,0,0,0,0,0,0,0,0,0,0,0,0,0,0,0,0,0,0,0,0,0,0,0,2,0,2,1,3,3,3,2,4,6,1,4,4,2,6,9,5,8,15,22,22,28,51,70,62,145,101,236,241,313,410,551,505,585,908,1006,1175,1287,1478,1342,1314,2038,2003,2051,2083,2075,1700,1633,2352,2545,2194,2118,1895,1763,1816,2479,2085,1809,1974,1629,1219,1290,2078,2676,2160,1809,1527,1248,1028,2490,1918,2748,1784,1456,1035,891,1509,1730,1853,1538,1237,873,854,1317,1397,1380,1290,1040,688,556,665,1335,1235,1174,923,655,679,971,975,883,835,714,447,675,886,893,896,766,694,355,385,720,780,682,652,615,293,288,724,704,648,618,508,273,336,579,698,699,603,296,209,237,905,819,863,839,755,472,329,741,863,941,939,876,527,376,1041,1149,1070,1175,1014,561,1066,1111,1503,1248,1328,1201,496,516,1241,1355,1241,1323,1086,621,430,1320,1517,1163,1226,1227,617,411,1179,1411,1129,1119,1035,577,341,1140,1300,1128,1020,1017,477,380,1014,1035,1072,999,926,452,227,347,1088,1161,1015,817,392,407,1034,1190,880,901,747,327,281,859,1156,938,847,873,310,246,724,1064,862,842,738,380,331,613,929,979,913,691,471,285,718,801,928,891,780,405,443,833,1051,1094,949,896,391,397,922,1047,1060,947,958,410,475,1517,1131,1154,1185,1125,513,577,1358,1577,1112,1301,1353,712,607,1553,1885,2010,1910,1551,923,853,2091,2281,1392,1404,1243,825,1037,2489,2811,2822,2563,2486,1163,1291,2680,3169,3132,2747,2497,1501,1357,2924,3453,3465,2866,2708,1668,1480,3137,3393,2958,1553,1426,1397,1490,3289,3900,3297,2592,2406,1455,1547,3484,3902,4079,3780,3537,2068,1733,4064,4087,3915,3679,3709,2053,1395,2141,4409,3878,3980,3591,1944,1593,3734,4077,4011,3503,2982,2059,1562,3486,3685,5212,3543,2994,1475,1309,2795,3445,3873,5427,3467,1366,1078,1353,2348,2616,2477,2160,1287,1235,2241,2447,3138,2141,1847,1051,1241,1728,2449,1743,2221,1680,842],\"index\":[0,1,2,3,4,5,6,7,8,9,10,11,12,13,14,15,16,17,18,19,20,21,22,23,24,25,26,27,28,29,30,31,32,33,34,35,36,37,38,39,40,41,42,43,44,45,46,47,48,49,50,51,52,53,54,55,56,57,58,59,60,61,62,63,64,65,66,67,68,69,70,71,72,73,74,75,76,77,78,79,80,81,82,83,84,85,86,87,88,89,90,91,92,93,94,95,96,97,98,99,100,101,102,103,104,105,106,107,108,109,110,111,112,113,114,115,116,117,118,119,120,121,122,123,124,125,126,127,128,129,130,131,132,133,134,135,136,137,138,139,140,141,142,143,144,145,146,147,148,149,150,151,152,153,154,155,156,157,158,159,160,161,162,163,164,165,166,167,168,169,170,171,172,173,174,175,176,177,178,179,180,181,182,183,184,185,186,187,188,189,190,191,192,193,194,195,196,197,198,199,200,201,202,203,204,205,206,207,208,209,210,211,212,213,214,215,216,217,218,219,220,221,222,223,224,225,226,227,228,229,230,231,232,233,234,235,236,237,238,239,240,241,242,243,244,245,246,247,248,249,250,251,252,253,254,255,256,257,258,259,260,261,262,263,264,265,266,267,268,269,270,271,272,273,274,275,276,277,278,279,280,281,282,283,284,285,286,287,288,289,290,291,292,293,294,295,296,297,298,299,300,301,302,303,304,305,306,307,308,309,310,311,312,313,314,315,316,317,318,319,320,321,322,323,324,325,326,327,328,329,330,331,332,333,334,335,336,337,338,339,340,341,342,343,344,345,346,347,348,349,350,351,352,353,354,355,356,357,358,359,360,361,362,363,364,365,366,367,368,369,370,371,372,373,374,375,376,377,378,379,380,381,382,383,384,385,386,387,388,389,390,391,392,393,394,395,396,397,398,399,400,401,402,403,404,405,406,407,408,409,410,411,412,413,414,415,416,417,418,419]},\"selected\":{\"id\":\"1037\"},\"selection_policy\":{\"id\":\"1054\"}},\"id\":\"1036\",\"type\":\"ColumnDataSource\"},{\"attributes\":{\"bottom_units\":\"screen\",\"fill_alpha\":0.5,\"fill_color\":\"lightgrey\",\"left_units\":\"screen\",\"level\":\"overlay\",\"line_alpha\":1.0,\"line_color\":\"black\",\"line_dash\":[4,4],\"line_width\":2,\"right_units\":\"screen\",\"top_units\":\"screen\"},\"id\":\"1028\",\"type\":\"BoxAnnotation\"},{\"attributes\":{\"text\":\"Covid19 Death Increase 2020\",\"text_color\":{\"value\":\"black\"},\"text_font_size\":{\"value\":\"12pt\"}},\"id\":\"1007\",\"type\":\"Title\"},{\"attributes\":{\"active_drag\":\"auto\",\"active_inspect\":\"auto\",\"active_multi\":null,\"active_scroll\":\"auto\",\"active_tap\":\"auto\",\"tools\":[{\"id\":\"1005\"},{\"id\":\"1023\"},{\"id\":\"1024\"},{\"id\":\"1025\"},{\"id\":\"1026\"},{\"id\":\"1027\"}]},\"id\":\"1029\",\"type\":\"Toolbar\"},{\"attributes\":{\"below\":[{\"id\":\"1015\"}],\"center\":[{\"id\":\"1018\"},{\"id\":\"1022\"}],\"left\":[{\"id\":\"1019\"}],\"margin\":[5,5,5,5],\"min_border_bottom\":10,\"min_border_left\":10,\"min_border_right\":10,\"min_border_top\":10,\"plot_height\":300,\"plot_width\":700,\"renderers\":[{\"id\":\"1042\"}],\"sizing_mode\":\"fixed\",\"title\":{\"id\":\"1007\"},\"toolbar\":{\"id\":\"1029\"},\"x_range\":{\"id\":\"1003\"},\"x_scale\":{\"id\":\"1011\"},\"y_range\":{\"id\":\"1004\"},\"y_scale\":{\"id\":\"1013\"}},\"id\":\"1006\",\"subtype\":\"Figure\",\"type\":\"Plot\"},{\"attributes\":{},\"id\":\"1047\",\"type\":\"BasicTickFormatter\"},{\"attributes\":{\"children\":[{\"id\":\"1002\"},{\"id\":\"1006\"},{\"id\":\"1064\"}],\"margin\":[0,0,0,0],\"name\":\"Row01556\",\"tags\":[\"embedded\"]},\"id\":\"1001\",\"type\":\"Row\"},{\"attributes\":{},\"id\":\"1045\",\"type\":\"BasicTickFormatter\"},{\"attributes\":{},\"id\":\"1023\",\"type\":\"SaveTool\"},{\"attributes\":{},\"id\":\"1024\",\"type\":\"PanTool\"},{\"attributes\":{},\"id\":\"1037\",\"type\":\"Selection\"},{\"attributes\":{},\"id\":\"1027\",\"type\":\"ResetTool\"},{\"attributes\":{},\"id\":\"1025\",\"type\":\"WheelZoomTool\"},{\"attributes\":{\"margin\":[5,5,5,5],\"name\":\"HSpacer01560\",\"sizing_mode\":\"stretch_width\"},\"id\":\"1002\",\"type\":\"Spacer\"}],\"root_ids\":[\"1001\"]},\"title\":\"Bokeh Application\",\"version\":\"2.2.3\"}};\n",
       "    var render_items = [{\"docid\":\"c545f6f6-627f-433c-b418-dc142b7490f0\",\"root_ids\":[\"1001\"],\"roots\":{\"1001\":\"5f2e915f-1acf-411f-bbea-576b0c50d576\"}}];\n",
       "    root.Bokeh.embed.embed_items_notebook(docs_json, render_items);\n",
       "  }\n",
       "  if (root.Bokeh !== undefined && root.Bokeh.Panel !== undefined) {\n",
       "    embed_document(root);\n",
       "  } else {\n",
       "    var attempts = 0;\n",
       "    var timer = setInterval(function(root) {\n",
       "      if (root.Bokeh !== undefined && root.Bokeh.Panel !== undefined) {\n",
       "        clearInterval(timer);\n",
       "        embed_document(root);\n",
       "      } else if (document.readyState == \"complete\") {\n",
       "        attempts++;\n",
       "        if (attempts > 100) {\n",
       "          clearInterval(timer);\n",
       "          console.log(\"Bokeh: ERROR: Unable to run BokehJS code because BokehJS library is missing\");\n",
       "        }\n",
       "      }\n",
       "    }, 10, root)\n",
       "  }\n",
       "})(window);</script>"
      ],
      "text/plain": [
       ":Curve   [index]   (deathIncrease)"
      ]
     },
     "execution_count": 6,
     "metadata": {
      "application/vnd.holoviews_exec.v0+json": {
       "id": "1001"
      }
     },
     "output_type": "execute_result"
    }
   ],
   "source": [
    "# sort values\n",
    "covid_2_data = covid_2_data.sort_values('date', ascending=True)\n",
    "\n",
    "# reset index\n",
    "covid_2_data = covid_2_data.reset_index()\n",
    "\n",
    "# drop new index column\n",
    "covid_2_data = covid_2_data[['date', 'dateChecked', 'death', 'deathIncrease',\n",
    "       'hash', 'hospitalized', 'hospitalizedCumulative',\n",
    "       'hospitalizedCurrently', 'hospitalizedIncrease', 'inIcuCumulative',\n",
    "       'inIcuCurrently', 'lastModified', 'negative', 'negativeIncrease',\n",
    "       'onVentilatorCumulative', 'onVentilatorCurrently', 'pending', 'posNeg',\n",
    "       'positive', 'positiveIncrease', 'recovered', 'states', 'total',\n",
    "       'totalTestResults', 'totalTestResultsIncrease']]\n",
    "\n",
    "# trimmed the tail end of data\n",
    "covid_states = covid_2_data.iloc[0:354,:]\n",
    "\n",
    "# plot covid deaths\n",
    "covid_2_data.hvplot(title='Covid19 Death Increase 2020', rot=90,\n",
    "                    y='deathIncrease',ylabel='Numbers of Deaths')\n",
    "\n",
    "# for loop to find index of last date\n",
    "# index = 0\n",
    "# for i in covid_2_data['date']:\n",
    "# #     print(i)\n",
    "#     if i == 20201231:\n",
    "#         print(index)\n",
    "#     index += 1"
   ]
  },
  {
   "cell_type": "code",
   "execution_count": 7,
   "metadata": {},
   "outputs": [
    {
     "data": {},
     "metadata": {},
     "output_type": "display_data"
    },
    {
     "data": {
      "application/vnd.holoviews_exec.v0+json": "",
      "text/html": [
       "<div id='1106'>\n",
       "\n",
       "\n",
       "\n",
       "\n",
       "\n",
       "  <div class=\"bk-root\" id=\"fbe2d288-d478-4fff-9883-876ca96aad28\" data-root-id=\"1106\"></div>\n",
       "</div>\n",
       "<script type=\"application/javascript\">(function(root) {\n",
       "  function embed_document(root) {\n",
       "    var docs_json = {\"bd8b6a91-1f99-452d-9aed-fd658020848c\":{\"roots\":{\"references\":[{\"attributes\":{\"margin\":[5,5,5,5],\"name\":\"HSpacer01736\",\"sizing_mode\":\"stretch_width\"},\"id\":\"1107\",\"type\":\"Spacer\"},{\"attributes\":{\"data\":{\"A_0\":{\"__ndarray__\":\"AAAAAAMbZUEAAAAAo1FMQQAAAIB7g0pBAAAAAOTjJUEAAAAACKgFQQAAAACAKtxAAAAAAECh7kAAAACAh0dMQQ==\",\"dtype\":\"float64\",\"order\":\"little\",\"shape\":[8]},\"index\":[\"Deaths_White\",\"Deaths_Black\",\"Deaths_Latinx\",\"Deaths_Asian\",\"Deaths_AIAN\",\"Deaths_NHPI\",\"Deaths_Multiracial\",\"Deaths_Ethnicity_Hispanic\"]},\"selected\":{\"id\":\"1141\"},\"selection_policy\":{\"id\":\"1160\"}},\"id\":\"1140\",\"type\":\"ColumnDataSource\"},{\"attributes\":{\"axis_label\":\"Num of Deaths\",\"bounds\":\"auto\",\"formatter\":{\"id\":\"1148\"},\"major_label_orientation\":\"horizontal\",\"ticker\":{\"id\":\"1124\"}},\"id\":\"1123\",\"type\":\"LinearAxis\"},{\"attributes\":{},\"id\":\"1124\",\"type\":\"BasicTicker\"},{\"attributes\":{\"axis\":{\"id\":\"1123\"},\"dimension\":1,\"grid_line_color\":null,\"ticker\":null},\"id\":\"1126\",\"type\":\"Grid\"},{\"attributes\":{\"margin\":[5,5,5,5],\"name\":\"HSpacer01737\",\"sizing_mode\":\"stretch_width\"},\"id\":\"1169\",\"type\":\"Spacer\"},{\"attributes\":{\"active_drag\":\"auto\",\"active_inspect\":\"auto\",\"active_multi\":null,\"active_scroll\":\"auto\",\"active_tap\":\"auto\",\"tools\":[{\"id\":\"1110\"},{\"id\":\"1127\"},{\"id\":\"1128\"},{\"id\":\"1129\"},{\"id\":\"1130\"},{\"id\":\"1131\"}]},\"id\":\"1133\",\"type\":\"Toolbar\"},{\"attributes\":{},\"id\":\"1160\",\"type\":\"UnionRenderers\"},{\"attributes\":{\"callback\":null,\"renderers\":[{\"id\":\"1146\"}],\"tags\":[\"hv_created\"],\"tooltips\":[[\"index\",\"@{index}\"],[\"0\",\"@{A_0}\"]]},\"id\":\"1110\",\"type\":\"HoverTool\"},{\"attributes\":{\"bottom_units\":\"screen\",\"fill_alpha\":0.5,\"fill_color\":\"lightgrey\",\"left_units\":\"screen\",\"level\":\"overlay\",\"line_alpha\":1.0,\"line_color\":\"black\",\"line_dash\":[4,4],\"line_width\":2,\"right_units\":\"screen\",\"top_units\":\"screen\"},\"id\":\"1132\",\"type\":\"BoxAnnotation\"},{\"attributes\":{\"text\":\"Total Covid-19 Deaths By Race From January 2020 to March 2021\",\"text_color\":{\"value\":\"black\"},\"text_font_size\":{\"value\":\"12pt\"}},\"id\":\"1112\",\"type\":\"Title\"},{\"attributes\":{\"format\":\"%.0f\"},\"id\":\"1148\",\"type\":\"PrintfTickFormatter\"},{\"attributes\":{\"fill_color\":{\"value\":\"#30a2da\"},\"top\":{\"field\":\"A_0\"},\"width\":{\"value\":0.8},\"x\":{\"field\":\"index\"}},\"id\":\"1143\",\"type\":\"VBar\"},{\"attributes\":{\"fill_alpha\":{\"value\":0.2},\"fill_color\":{\"value\":\"#30a2da\"},\"line_alpha\":{\"value\":0.2},\"top\":{\"field\":\"A_0\"},\"width\":{\"value\":0.8},\"x\":{\"field\":\"index\"}},\"id\":\"1145\",\"type\":\"VBar\"},{\"attributes\":{\"source\":{\"id\":\"1140\"}},\"id\":\"1147\",\"type\":\"CDSView\"},{\"attributes\":{},\"id\":\"1150\",\"type\":\"CategoricalTickFormatter\"},{\"attributes\":{\"below\":[{\"id\":\"1120\"}],\"center\":[{\"id\":\"1122\"},{\"id\":\"1126\"}],\"left\":[{\"id\":\"1123\"}],\"margin\":[5,5,5,5],\"min_border_bottom\":10,\"min_border_left\":10,\"min_border_right\":10,\"min_border_top\":10,\"plot_height\":400,\"plot_width\":800,\"renderers\":[{\"id\":\"1146\"}],\"sizing_mode\":\"fixed\",\"title\":{\"id\":\"1112\"},\"toolbar\":{\"id\":\"1133\"},\"x_range\":{\"id\":\"1108\"},\"x_scale\":{\"id\":\"1116\"},\"y_range\":{\"id\":\"1109\"},\"y_scale\":{\"id\":\"1118\"}},\"id\":\"1111\",\"subtype\":\"Figure\",\"type\":\"Plot\"},{\"attributes\":{},\"id\":\"1127\",\"type\":\"SaveTool\"},{\"attributes\":{\"fill_alpha\":{\"value\":0.1},\"fill_color\":{\"value\":\"#30a2da\"},\"line_alpha\":{\"value\":0.1},\"top\":{\"field\":\"A_0\"},\"width\":{\"value\":0.8},\"x\":{\"field\":\"index\"}},\"id\":\"1144\",\"type\":\"VBar\"},{\"attributes\":{},\"id\":\"1128\",\"type\":\"PanTool\"},{\"attributes\":{\"data_source\":{\"id\":\"1140\"},\"glyph\":{\"id\":\"1143\"},\"hover_glyph\":null,\"muted_glyph\":{\"id\":\"1145\"},\"nonselection_glyph\":{\"id\":\"1144\"},\"selection_glyph\":null,\"view\":{\"id\":\"1147\"}},\"id\":\"1146\",\"type\":\"GlyphRenderer\"},{\"attributes\":{},\"id\":\"1131\",\"type\":\"ResetTool\"},{\"attributes\":{},\"id\":\"1129\",\"type\":\"WheelZoomTool\"},{\"attributes\":{\"end\":12169020.6,\"reset_end\":12169020.6,\"reset_start\":0.0,\"tags\":[[[\"0\",\"0\",null]]]},\"id\":\"1109\",\"type\":\"Range1d\"},{\"attributes\":{},\"id\":\"1116\",\"type\":\"CategoricalScale\"},{\"attributes\":{\"overlay\":{\"id\":\"1132\"}},\"id\":\"1130\",\"type\":\"BoxZoomTool\"},{\"attributes\":{\"children\":[{\"id\":\"1107\"},{\"id\":\"1111\"},{\"id\":\"1169\"}],\"margin\":[0,0,0,0],\"name\":\"Row01732\",\"tags\":[\"embedded\"]},\"id\":\"1106\",\"type\":\"Row\"},{\"attributes\":{},\"id\":\"1121\",\"type\":\"CategoricalTicker\"},{\"attributes\":{},\"id\":\"1141\",\"type\":\"Selection\"},{\"attributes\":{\"factors\":[\"Deaths_White\",\"Deaths_Black\",\"Deaths_Latinx\",\"Deaths_Asian\",\"Deaths_AIAN\",\"Deaths_NHPI\",\"Deaths_Multiracial\",\"Deaths_Ethnicity_Hispanic\"],\"tags\":[[[\"index\",\"index\",null]]]},\"id\":\"1108\",\"type\":\"FactorRange\"},{\"attributes\":{},\"id\":\"1118\",\"type\":\"LinearScale\"},{\"attributes\":{\"axis\":{\"id\":\"1120\"},\"grid_line_color\":null,\"ticker\":null},\"id\":\"1122\",\"type\":\"Grid\"},{\"attributes\":{\"axis_label\":\"Races\",\"bounds\":\"auto\",\"formatter\":{\"id\":\"1150\"},\"major_label_orientation\":1.5707963267948966,\"ticker\":{\"id\":\"1121\"}},\"id\":\"1120\",\"type\":\"CategoricalAxis\"}],\"root_ids\":[\"1106\"]},\"title\":\"Bokeh Application\",\"version\":\"2.2.3\"}};\n",
       "    var render_items = [{\"docid\":\"bd8b6a91-1f99-452d-9aed-fd658020848c\",\"root_ids\":[\"1106\"],\"roots\":{\"1106\":\"fbe2d288-d478-4fff-9883-876ca96aad28\"}}];\n",
       "    root.Bokeh.embed.embed_items_notebook(docs_json, render_items);\n",
       "  }\n",
       "  if (root.Bokeh !== undefined && root.Bokeh.Panel !== undefined) {\n",
       "    embed_document(root);\n",
       "  } else {\n",
       "    var attempts = 0;\n",
       "    var timer = setInterval(function(root) {\n",
       "      if (root.Bokeh !== undefined && root.Bokeh.Panel !== undefined) {\n",
       "        clearInterval(timer);\n",
       "        embed_document(root);\n",
       "      } else if (document.readyState == \"complete\") {\n",
       "        attempts++;\n",
       "        if (attempts > 100) {\n",
       "          clearInterval(timer);\n",
       "          console.log(\"Bokeh: ERROR: Unable to run BokehJS code because BokehJS library is missing\");\n",
       "        }\n",
       "      }\n",
       "    }, 10, root)\n",
       "  }\n",
       "})(window);</script>"
      ],
      "text/plain": [
       ":Bars   [index]   (0)"
      ]
     },
     "execution_count": 7,
     "metadata": {
      "application/vnd.holoviews_exec.v0+json": {
       "id": "1106"
      }
     },
     "output_type": "execute_result"
    }
   ],
   "source": [
    "covid_1_data_less = covid_1_data[['Deaths_White',\n",
    "       'Deaths_Black', 'Deaths_Latinx', 'Deaths_Asian', 'Deaths_AIAN',\n",
    "       'Deaths_NHPI', 'Deaths_Multiracial',\n",
    "       'Deaths_Ethnicity_Hispanic']]\n",
    "\n",
    "deaths_plot_2 = covid_1_data_less.sum()\n",
    "\n",
    "deaths_plot_2 = deaths_plot_2.hvplot.bar(rot=90,xlabel='Races',ylabel='Num of Deaths', yformatter='%.0f',width=800,height=400,title='Total Covid-19 Deaths By Race From January 2020 to March 2021',)\n",
    "\n",
    "deaths_plot_2"
   ]
  },
  {
   "cell_type": "code",
   "execution_count": 8,
   "metadata": {},
   "outputs": [
    {
     "data": {},
     "metadata": {},
     "output_type": "display_data"
    },
    {
     "data": {
      "application/vnd.holoviews_exec.v0+json": "",
      "text/html": [
       "<div id='1206'>\n",
       "\n",
       "\n",
       "\n",
       "\n",
       "\n",
       "  <div class=\"bk-root\" id=\"68dd8395-238c-437f-9958-864088825b13\" data-root-id=\"1206\"></div>\n",
       "</div>\n",
       "<script type=\"application/javascript\">(function(root) {\n",
       "  function embed_document(root) {\n",
       "    var docs_json = {\"b111f478-a69d-4764-b3b9-b59e820c7a06\":{\"roots\":{\"references\":[{\"attributes\":{\"axis_label\":\"Num of Deaths\",\"bounds\":\"auto\",\"formatter\":{\"id\":\"1249\"},\"major_label_orientation\":\"horizontal\",\"ticker\":{\"id\":\"1224\"}},\"id\":\"1223\",\"type\":\"LinearAxis\"},{\"attributes\":{\"margin\":[5,5,5,5],\"name\":\"VSpacer01845\",\"sizing_mode\":\"stretch_height\"},\"id\":\"1279\",\"type\":\"Spacer\"},{\"attributes\":{},\"id\":\"1265\",\"type\":\"UnionRenderers\"},{\"attributes\":{\"children\":[{\"id\":\"1207\"},{\"id\":\"1211\"},{\"id\":\"1274\"},{\"id\":\"1275\"}],\"margin\":[0,0,0,0],\"name\":\"Row01838\"},\"id\":\"1206\",\"type\":\"Row\"},{\"attributes\":{\"callback\":null,\"renderers\":[{\"id\":\"1247\"}],\"tags\":[\"hv_created\"],\"tooltips\":[[\"Deaths_Total\",\"@{Deaths_Total}\"],[\"Variable\",\"@{Variable}\"],[\"value\",\"@{value}\"]]},\"id\":\"1210\",\"type\":\"HoverTool\"},{\"attributes\":{},\"id\":\"1224\",\"type\":\"BasicTicker\"},{\"attributes\":{\"margin\":[20,20,20,20],\"min_width\":250,\"options\":[\"AK\",\"AL\",\"AR\",\"AS\",\"AZ\",\"CA\",\"CO\",\"CT\",\"DC\",\"DE\",\"FL\",\"GA\",\"GU\",\"HI\",\"IA\",\"ID\",\"IL\",\"IN\",\"KS\",\"KY\",\"LA\",\"MA\",\"MD\",\"ME\",\"MI\",\"MN\",\"MO\",\"MP\",\"MS\",\"MT\",\"NC\",\"ND\",\"NE\",\"NH\",\"NJ\",\"NM\",\"NV\",\"NY\",\"OH\",\"OK\",\"OR\",\"PA\",\"PR\",\"RI\",\"SC\",\"SD\",\"TN\",\"TX\",\"UT\",\"VA\",\"VI\",\"VT\",\"WA\",\"WI\",\"WV\",\"WY\"],\"title\":\"State\",\"value\":\"AK\",\"width\":250},\"id\":\"1278\",\"type\":\"Select\"},{\"attributes\":{\"axis\":{\"id\":\"1223\"},\"dimension\":1,\"grid_line_color\":null,\"ticker\":null},\"id\":\"1226\",\"type\":\"Grid\"},{\"attributes\":{\"data\":{\"Deaths_Total\":[\"9027\",\"9027\",\"9027\",\"9027\",\"9027\",\"9027\",\"9027\",\"9027\"],\"Variable\":[\"Deaths_White\",\"Deaths_Black\",\"Deaths_Latinx\",\"Deaths_Asian\",\"Deaths_AIAN\",\"Deaths_NHPI\",\"Deaths_Multiracial\",\"Deaths_Ethnicity_Hispanic\"],\"value\":{\"__ndarray__\":\"AAAAAACgq0AAAAAAAFByQAAAAAAAAAAAAAAAAAAoi0AAAAAAAASpQAAAAAAA0INAAAAAAACgY0AAAAAAAOBwQA==\",\"dtype\":\"float64\",\"order\":\"little\",\"shape\":[8]},\"xoffsets\":[[\"9027\",\"Deaths_White\"],[\"9027\",\"Deaths_Black\"],[\"9027\",\"Deaths_Latinx\"],[\"9027\",\"Deaths_Asian\"],[\"9027\",\"Deaths_AIAN\"],[\"9027\",\"Deaths_NHPI\"],[\"9027\",\"Deaths_Multiracial\"],[\"9027\",\"Deaths_Ethnicity_Hispanic\"]]},\"selected\":{\"id\":\"1242\"},\"selection_policy\":{\"id\":\"1265\"}},\"id\":\"1241\",\"type\":\"ColumnDataSource\"},{\"attributes\":{\"margin\":[5,5,5,5],\"name\":\"HSpacer01848\",\"sizing_mode\":\"stretch_width\"},\"id\":\"1274\",\"type\":\"Spacer\"},{\"attributes\":{\"active_drag\":\"auto\",\"active_inspect\":\"auto\",\"active_multi\":null,\"active_scroll\":\"auto\",\"active_tap\":\"auto\",\"tools\":[{\"id\":\"1210\"},{\"id\":\"1227\"},{\"id\":\"1228\"},{\"id\":\"1229\"},{\"id\":\"1230\"},{\"id\":\"1231\"}]},\"id\":\"1233\",\"type\":\"Toolbar\"},{\"attributes\":{\"margin\":[5,5,5,5],\"name\":\"HSpacer01847\",\"sizing_mode\":\"stretch_width\"},\"id\":\"1207\",\"type\":\"Spacer\"},{\"attributes\":{\"bottom_units\":\"screen\",\"fill_alpha\":0.5,\"fill_color\":\"lightgrey\",\"left_units\":\"screen\",\"level\":\"overlay\",\"line_alpha\":1.0,\"line_color\":\"black\",\"line_dash\":[4,4],\"line_width\":2,\"right_units\":\"screen\",\"top_units\":\"screen\"},\"id\":\"1232\",\"type\":\"BoxAnnotation\"},{\"attributes\":{\"fill_alpha\":{\"value\":0.1},\"fill_color\":{\"field\":\"Variable\",\"transform\":{\"id\":\"1240\"}},\"line_alpha\":{\"value\":0.1},\"top\":{\"field\":\"value\"},\"width\":{\"value\":0.8},\"x\":{\"field\":\"xoffsets\"}},\"id\":\"1245\",\"type\":\"VBar\"},{\"attributes\":{\"client_comm_id\":\"e01ea2c15e36417f95d650e5120d91e0\",\"comm_id\":\"be8546de83c74933bc3411d5c7f180ad\",\"plot_id\":\"1206\"},\"id\":\"1301\",\"type\":\"panel.models.comm_manager.CommManager\"},{\"attributes\":{},\"id\":\"1242\",\"type\":\"Selection\"},{\"attributes\":{\"text\":\"Total Covid-19 Deaths By Race (State) From January 2020 to March 2021\",\"text_color\":{\"value\":\"black\"},\"text_font_size\":{\"value\":\"12pt\"}},\"id\":\"1212\",\"type\":\"Title\"},{\"attributes\":{\"axis\":{\"id\":\"1220\"},\"grid_line_color\":null,\"ticker\":null},\"id\":\"1222\",\"type\":\"Grid\"},{\"attributes\":{\"below\":[{\"id\":\"1220\"}],\"center\":[{\"id\":\"1222\"},{\"id\":\"1226\"}],\"left\":[{\"id\":\"1223\"}],\"margin\":[5,5,5,5],\"min_border_bottom\":10,\"min_border_left\":10,\"min_border_right\":10,\"min_border_top\":10,\"plot_height\":500,\"plot_width\":700,\"renderers\":[{\"id\":\"1247\"}],\"sizing_mode\":\"fixed\",\"title\":{\"id\":\"1212\"},\"toolbar\":{\"id\":\"1233\"},\"x_range\":{\"id\":\"1208\"},\"x_scale\":{\"id\":\"1216\"},\"y_range\":{\"id\":\"1209\"},\"y_scale\":{\"id\":\"1218\"}},\"id\":\"1211\",\"subtype\":\"Figure\",\"type\":\"Plot\"},{\"attributes\":{\"fill_color\":{\"field\":\"Variable\",\"transform\":{\"id\":\"1240\"}},\"top\":{\"field\":\"value\"},\"width\":{\"value\":0.8},\"x\":{\"field\":\"xoffsets\"}},\"id\":\"1244\",\"type\":\"VBar\"},{\"attributes\":{\"children\":[{\"id\":\"1276\"},{\"id\":\"1277\"},{\"id\":\"1279\"}],\"margin\":[0,0,0,0],\"name\":\"Column01846\"},\"id\":\"1275\",\"type\":\"Column\"},{\"attributes\":{},\"id\":\"1227\",\"type\":\"SaveTool\"},{\"attributes\":{},\"id\":\"1228\",\"type\":\"PanTool\"},{\"attributes\":{},\"id\":\"1231\",\"type\":\"ResetTool\"},{\"attributes\":{},\"id\":\"1229\",\"type\":\"WheelZoomTool\"},{\"attributes\":{\"margin\":[5,5,5,5],\"name\":\"VSpacer01844\",\"sizing_mode\":\"stretch_height\"},\"id\":\"1276\",\"type\":\"Spacer\"},{\"attributes\":{},\"id\":\"1251\",\"type\":\"CategoricalTickFormatter\"},{\"attributes\":{\"children\":[{\"id\":\"1278\"}],\"css_classes\":[\"panel-widget-box\"],\"margin\":[5,5,5,5],\"name\":\"WidgetBox01839\"},\"id\":\"1277\",\"type\":\"Column\"},{\"attributes\":{},\"id\":\"1216\",\"type\":\"CategoricalScale\"},{\"attributes\":{\"overlay\":{\"id\":\"1232\"}},\"id\":\"1230\",\"type\":\"BoxZoomTool\"},{\"attributes\":{\"fill_alpha\":{\"value\":0.2},\"fill_color\":{\"field\":\"Variable\",\"transform\":{\"id\":\"1240\"}},\"line_alpha\":{\"value\":0.2},\"top\":{\"field\":\"value\"},\"width\":{\"value\":0.8},\"x\":{\"field\":\"xoffsets\"}},\"id\":\"1246\",\"type\":\"VBar\"},{\"attributes\":{},\"id\":\"1221\",\"type\":\"CategoricalTicker\"},{\"attributes\":{},\"id\":\"1218\",\"type\":\"LinearScale\"},{\"attributes\":{\"format\":\"%.0f\"},\"id\":\"1249\",\"type\":\"PrintfTickFormatter\"},{\"attributes\":{\"factors\":[\"Deaths_White\",\"Deaths_Black\",\"Deaths_Latinx\",\"Deaths_Asian\",\"Deaths_AIAN\",\"Deaths_NHPI\",\"Deaths_Multiracial\",\"Deaths_Ethnicity_Hispanic\"],\"palette\":[\"#30a2da\",\"#fc4f30\",\"#e5ae38\",\"#6d904f\",\"#8b8b8b\",\"#17becf\",\"#9467bd\",\"#d62728\"]},\"id\":\"1240\",\"type\":\"CategoricalColorMapper\"},{\"attributes\":{\"end\":3889.6,\"reset_end\":3889.6,\"reset_start\":0.0,\"tags\":[[[\"value\",\"value\",null]]]},\"id\":\"1209\",\"type\":\"Range1d\"},{\"attributes\":{\"data_source\":{\"id\":\"1241\"},\"glyph\":{\"id\":\"1244\"},\"hover_glyph\":null,\"muted_glyph\":{\"id\":\"1246\"},\"nonselection_glyph\":{\"id\":\"1245\"},\"selection_glyph\":null,\"view\":{\"id\":\"1248\"}},\"id\":\"1247\",\"type\":\"GlyphRenderer\"},{\"attributes\":{\"axis_label\":\"Races\",\"bounds\":\"auto\",\"formatter\":{\"id\":\"1251\"},\"major_label_orientation\":1.5707963267948966,\"ticker\":{\"id\":\"1221\"}},\"id\":\"1220\",\"type\":\"CategoricalAxis\"},{\"attributes\":{\"factors\":[[\"9027\",\"Deaths_Ethnicity_Hispanic\"],[\"9027\",\"Deaths_Multiracial\"],[\"9027\",\"Deaths_NHPI\"],[\"9027\",\"Deaths_AIAN\"],[\"9027\",\"Deaths_Asian\"],[\"9027\",\"Deaths_Latinx\"],[\"9027\",\"Deaths_Black\"],[\"9027\",\"Deaths_White\"]],\"tags\":[[[\"Deaths_Total\",\"Deaths_Total\",null],[\"Variable\",\"Variable\",null]]]},\"id\":\"1208\",\"type\":\"FactorRange\"},{\"attributes\":{\"source\":{\"id\":\"1241\"}},\"id\":\"1248\",\"type\":\"CDSView\"}],\"root_ids\":[\"1206\",\"1301\"]},\"title\":\"Bokeh Application\",\"version\":\"2.2.3\"}};\n",
       "    var render_items = [{\"docid\":\"b111f478-a69d-4764-b3b9-b59e820c7a06\",\"root_ids\":[\"1206\"],\"roots\":{\"1206\":\"68dd8395-238c-437f-9958-864088825b13\"}}];\n",
       "    root.Bokeh.embed.embed_items_notebook(docs_json, render_items);\n",
       "  }\n",
       "  if (root.Bokeh !== undefined && root.Bokeh.Panel !== undefined) {\n",
       "    embed_document(root);\n",
       "  } else {\n",
       "    var attempts = 0;\n",
       "    var timer = setInterval(function(root) {\n",
       "      if (root.Bokeh !== undefined && root.Bokeh.Panel !== undefined) {\n",
       "        clearInterval(timer);\n",
       "        embed_document(root);\n",
       "      } else if (document.readyState == \"complete\") {\n",
       "        attempts++;\n",
       "        if (attempts > 100) {\n",
       "          clearInterval(timer);\n",
       "          console.log(\"Bokeh: ERROR: Unable to run BokehJS code because BokehJS library is missing\");\n",
       "        }\n",
       "      }\n",
       "    }, 10, root)\n",
       "  }\n",
       "})(window);</script>"
      ],
      "text/plain": [
       ":DynamicMap   [State]\n",
       "   :Bars   [Deaths_Total,Variable]   (value)"
      ]
     },
     "execution_count": 8,
     "metadata": {
      "application/vnd.holoviews_exec.v0+json": {
       "id": "1206"
      }
     },
     "output_type": "execute_result"
    }
   ],
   "source": [
    "##### covid_1_data\n",
    "deaths_plot_3 = covid_1_data[['State','Deaths_Total', 'Deaths_White',\n",
    "       'Deaths_Black', 'Deaths_Latinx', 'Deaths_Asian', 'Deaths_AIAN',\n",
    "       'Deaths_NHPI', 'Deaths_Multiracial','Deaths_Ethnicity_Hispanic']]\n",
    "\n",
    "deaths_plot_3 = deaths_plot_3.groupby(by='State').sum()\n",
    "#  Plot\n",
    "ylist = ['Deaths_White',\n",
    "       'Deaths_Black', 'Deaths_Latinx', 'Deaths_Asian', 'Deaths_AIAN',\n",
    "       'Deaths_NHPI', 'Deaths_Multiracial','Deaths_Ethnicity_Hispanic']\n",
    "\n",
    "\n",
    "deaths_plot_3 = deaths_plot_3.hvplot.bar(x='Deaths_Total', \n",
    "                        y=ylist, \n",
    "                        groupby='State', \n",
    "                        xlabel='Races', \n",
    "                        ylabel='Num of Deaths',\n",
    "                        title='Total Covid-19 Deaths By Race (State) From January 2020 to March 2021',\n",
    "                        yformatter='%.0f',\n",
    "                        rot=90,\n",
    "                        height=500\n",
    "                       )\n",
    "\n",
    "deaths_plot_3"
   ]
  },
  {
   "cell_type": "markdown",
   "metadata": {},
   "source": [
    "# CURRENCY PAIR EXPLORATION"
   ]
  },
  {
   "cell_type": "markdown",
   "metadata": {},
   "source": [
    "## IMPORTS"
   ]
  },
  {
   "cell_type": "code",
   "execution_count": 19,
   "metadata": {},
   "outputs": [
    {
     "name": "stderr",
     "output_type": "stream",
     "text": [
      "WARNING:param.panel_extension: A HoloViz extension was loaded previously. This means the extension is already initialized and the following Panel extensions could not be properly loaded: ['plotly']. If you are loading custom extensions with pn.extension(...) ensure that this is called before any other HoloViz extension such as hvPlot or HoloViews.\n"
     ]
    }
   ],
   "source": [
    "# imports\n",
    "import seaborn as sns\n",
    "import holoviews as hv\n",
    "import plotly.express as px\n",
    "import panel as pn\n",
    "from panel.interact import interact\n",
    "from panel import widgets\n",
    "pn.extension(\"plotly\")\n",
    "import warnings\n",
    "warnings.filterwarnings(\"ignore\")"
   ]
  },
  {
   "cell_type": "markdown",
   "metadata": {},
   "source": [
    "## FIFTH DATASET"
   ]
  },
  {
   "cell_type": "code",
   "execution_count": 20,
   "metadata": {},
   "outputs": [],
   "source": [
    "# read AUDUSD csvs\n",
    "AUDUSD = pd.read_csv('data/AUDUSD1440.csv', index_col=\"date\")\n",
    "# read EURUSD csvs\n",
    "EURUSD = pd.read_csv('data/EURUSD1440.csv', index_col=\"date\")\n",
    "# read GBPUSD csvs\n",
    "GBPUSD = pd.read_csv('data/GBPUSD1440.csv', index_col=\"date\")\n",
    "# read NZDUSD csvs\n",
    "NZDUSD = pd.read_csv('data/NZDUSD1440.csv', index_col=\"date\")\n",
    "# read USDCAD csvs\n",
    "USDCAD = pd.read_csv('data/USDCAD1440.csv', index_col=\"date\")\n",
    "# read USDCHF csvs\n",
    "USDCHF = pd.read_csv('data/USDCHF1440.csv', index_col=\"date\")\n",
    "# read USDJPY csvs\n",
    "USDJPY = pd.read_csv('data/USDJPY1440.csv', index_col=\"date\")"
   ]
  },
  {
   "cell_type": "markdown",
   "metadata": {},
   "source": [
    "## COMBINED CLOSE PRICES"
   ]
  },
  {
   "cell_type": "code",
   "execution_count": 21,
   "metadata": {},
   "outputs": [],
   "source": [
    "AUDUSD_close = pd.DataFrame(AUDUSD['close'])\n",
    "AUDUSD_close.columns = ['AUDUSD']\n",
    "\n",
    "EURUSD_close = pd.DataFrame(EURUSD['close'])\n",
    "EURUSD_close.columns = ['EURUSD']\n",
    "\n",
    "GBPUSD_close = pd.DataFrame(GBPUSD['close'])\n",
    "GBPUSD_close.columns = ['GBPUSD']\n",
    "\n",
    "NZDUSD_close = pd.DataFrame(NZDUSD['close'])\n",
    "NZDUSD_close.columns = ['NZDUSD']\n",
    "\n",
    "USDCAD_close = pd.DataFrame(USDCAD['close'])\n",
    "USDCAD_close.columns = ['USDCAD']\n",
    "\n",
    "USDCHF_close = pd.DataFrame(USDCHF['close'])\n",
    "USDCHF_close.columns = ['USDCHF']\n",
    "\n",
    "USDJPY_close = pd.DataFrame(USDJPY['close'])\n",
    "USDJPY_close.columns = ['USDJPY']"
   ]
  },
  {
   "cell_type": "code",
   "execution_count": 22,
   "metadata": {},
   "outputs": [
    {
     "data": {
      "text/html": [
       "<div>\n",
       "<style scoped>\n",
       "    .dataframe tbody tr th:only-of-type {\n",
       "        vertical-align: middle;\n",
       "    }\n",
       "\n",
       "    .dataframe tbody tr th {\n",
       "        vertical-align: top;\n",
       "    }\n",
       "\n",
       "    .dataframe thead th {\n",
       "        text-align: right;\n",
       "    }\n",
       "</style>\n",
       "<table border=\"1\" class=\"dataframe\">\n",
       "  <thead>\n",
       "    <tr style=\"text-align: right;\">\n",
       "      <th></th>\n",
       "      <th>AUDUSD</th>\n",
       "      <th>EURUSD</th>\n",
       "      <th>GBPUSD</th>\n",
       "      <th>NZDUSD</th>\n",
       "      <th>USDCAD</th>\n",
       "      <th>USDCHF</th>\n",
       "      <th>USDJPY</th>\n",
       "    </tr>\n",
       "  </thead>\n",
       "  <tbody>\n",
       "    <tr>\n",
       "      <th>2020.01.02</th>\n",
       "      <td>0.69822</td>\n",
       "      <td>1.11712</td>\n",
       "      <td>1.31371</td>\n",
       "      <td>0.66982</td>\n",
       "      <td>1.29844</td>\n",
       "      <td>0.97144</td>\n",
       "      <td>108.546</td>\n",
       "    </tr>\n",
       "    <tr>\n",
       "      <th>2020.01.03</th>\n",
       "      <td>0.69444</td>\n",
       "      <td>1.11558</td>\n",
       "      <td>1.30743</td>\n",
       "      <td>0.66645</td>\n",
       "      <td>1.30033</td>\n",
       "      <td>0.97239</td>\n",
       "      <td>108.108</td>\n",
       "    </tr>\n",
       "    <tr>\n",
       "      <th>2020.01.05</th>\n",
       "      <td>0.69364</td>\n",
       "      <td>1.11592</td>\n",
       "      <td>1.30688</td>\n",
       "      <td>0.66540</td>\n",
       "      <td>1.29893</td>\n",
       "      <td>0.97156</td>\n",
       "      <td>107.970</td>\n",
       "    </tr>\n",
       "    <tr>\n",
       "      <th>2020.01.06</th>\n",
       "      <td>0.69383</td>\n",
       "      <td>1.11952</td>\n",
       "      <td>1.31747</td>\n",
       "      <td>0.66681</td>\n",
       "      <td>1.29640</td>\n",
       "      <td>0.96855</td>\n",
       "      <td>108.415</td>\n",
       "    </tr>\n",
       "    <tr>\n",
       "      <th>2020.01.07</th>\n",
       "      <td>0.68674</td>\n",
       "      <td>1.11473</td>\n",
       "      <td>1.31154</td>\n",
       "      <td>0.66307</td>\n",
       "      <td>1.30011</td>\n",
       "      <td>0.96875</td>\n",
       "      <td>107.994</td>\n",
       "    </tr>\n",
       "  </tbody>\n",
       "</table>\n",
       "</div>"
      ],
      "text/plain": [
       "             AUDUSD   EURUSD   GBPUSD   NZDUSD   USDCAD   USDCHF   USDJPY\n",
       "2020.01.02  0.69822  1.11712  1.31371  0.66982  1.29844  0.97144  108.546\n",
       "2020.01.03  0.69444  1.11558  1.30743  0.66645  1.30033  0.97239  108.108\n",
       "2020.01.05  0.69364  1.11592  1.30688  0.66540  1.29893  0.97156  107.970\n",
       "2020.01.06  0.69383  1.11952  1.31747  0.66681  1.29640  0.96855  108.415\n",
       "2020.01.07  0.68674  1.11473  1.31154  0.66307  1.30011  0.96875  107.994"
      ]
     },
     "execution_count": 22,
     "metadata": {},
     "output_type": "execute_result"
    }
   ],
   "source": [
    "major7 = pd.concat([AUDUSD_close,EURUSD_close,GBPUSD_close,NZDUSD_close,USDCAD_close,USDCHF_close,USDJPY_close], axis=1).dropna()\n",
    "major7.head()"
   ]
  },
  {
   "cell_type": "code",
   "execution_count": 23,
   "metadata": {},
   "outputs": [
    {
     "data": {
      "text/html": [
       "<div>\n",
       "<style scoped>\n",
       "    .dataframe tbody tr th:only-of-type {\n",
       "        vertical-align: middle;\n",
       "    }\n",
       "\n",
       "    .dataframe tbody tr th {\n",
       "        vertical-align: top;\n",
       "    }\n",
       "\n",
       "    .dataframe thead th {\n",
       "        text-align: right;\n",
       "    }\n",
       "</style>\n",
       "<table border=\"1\" class=\"dataframe\">\n",
       "  <thead>\n",
       "    <tr style=\"text-align: right;\">\n",
       "      <th></th>\n",
       "      <th>AUDUSD</th>\n",
       "      <th>EURUSD</th>\n",
       "      <th>GBPUSD</th>\n",
       "      <th>NZDUSD</th>\n",
       "      <th>USDCAD</th>\n",
       "      <th>USDCHF</th>\n",
       "      <th>USDJPY</th>\n",
       "    </tr>\n",
       "  </thead>\n",
       "  <tbody>\n",
       "    <tr>\n",
       "      <th>2020.01.03</th>\n",
       "      <td>-0.005414</td>\n",
       "      <td>-0.001379</td>\n",
       "      <td>-0.004780</td>\n",
       "      <td>-0.005031</td>\n",
       "      <td>0.001456</td>\n",
       "      <td>0.000978</td>\n",
       "      <td>-0.004035</td>\n",
       "    </tr>\n",
       "    <tr>\n",
       "      <th>2020.01.05</th>\n",
       "      <td>-0.001152</td>\n",
       "      <td>0.000305</td>\n",
       "      <td>-0.000421</td>\n",
       "      <td>-0.001576</td>\n",
       "      <td>-0.001077</td>\n",
       "      <td>-0.000854</td>\n",
       "      <td>-0.001277</td>\n",
       "    </tr>\n",
       "    <tr>\n",
       "      <th>2020.01.06</th>\n",
       "      <td>0.000274</td>\n",
       "      <td>0.003226</td>\n",
       "      <td>0.008103</td>\n",
       "      <td>0.002119</td>\n",
       "      <td>-0.001948</td>\n",
       "      <td>-0.003098</td>\n",
       "      <td>0.004122</td>\n",
       "    </tr>\n",
       "    <tr>\n",
       "      <th>2020.01.07</th>\n",
       "      <td>-0.010219</td>\n",
       "      <td>-0.004279</td>\n",
       "      <td>-0.004501</td>\n",
       "      <td>-0.005609</td>\n",
       "      <td>0.002862</td>\n",
       "      <td>0.000206</td>\n",
       "      <td>-0.003883</td>\n",
       "    </tr>\n",
       "    <tr>\n",
       "      <th>2020.01.08</th>\n",
       "      <td>-0.000379</td>\n",
       "      <td>-0.003391</td>\n",
       "      <td>-0.001289</td>\n",
       "      <td>0.003469</td>\n",
       "      <td>0.002700</td>\n",
       "      <td>0.004697</td>\n",
       "      <td>0.009658</td>\n",
       "    </tr>\n",
       "  </tbody>\n",
       "</table>\n",
       "</div>"
      ],
      "text/plain": [
       "              AUDUSD    EURUSD    GBPUSD    NZDUSD    USDCAD    USDCHF  \\\n",
       "2020.01.03 -0.005414 -0.001379 -0.004780 -0.005031  0.001456  0.000978   \n",
       "2020.01.05 -0.001152  0.000305 -0.000421 -0.001576 -0.001077 -0.000854   \n",
       "2020.01.06  0.000274  0.003226  0.008103  0.002119 -0.001948 -0.003098   \n",
       "2020.01.07 -0.010219 -0.004279 -0.004501 -0.005609  0.002862  0.000206   \n",
       "2020.01.08 -0.000379 -0.003391 -0.001289  0.003469  0.002700  0.004697   \n",
       "\n",
       "              USDJPY  \n",
       "2020.01.03 -0.004035  \n",
       "2020.01.05 -0.001277  \n",
       "2020.01.06  0.004122  \n",
       "2020.01.07 -0.003883  \n",
       "2020.01.08  0.009658  "
      ]
     },
     "execution_count": 23,
     "metadata": {},
     "output_type": "execute_result"
    }
   ],
   "source": [
    " # Use the `pct_change` function to calculate daily returns for each stock\n",
    "daily_returns = major7.pct_change().dropna()\n",
    "daily_returns.head()"
   ]
  },
  {
   "cell_type": "code",
   "execution_count": 24,
   "metadata": {},
   "outputs": [
    {
     "data": {
      "text/html": [
       "<div>\n",
       "<style scoped>\n",
       "    .dataframe tbody tr th:only-of-type {\n",
       "        vertical-align: middle;\n",
       "    }\n",
       "\n",
       "    .dataframe tbody tr th {\n",
       "        vertical-align: top;\n",
       "    }\n",
       "\n",
       "    .dataframe thead th {\n",
       "        text-align: right;\n",
       "    }\n",
       "</style>\n",
       "<table border=\"1\" class=\"dataframe\">\n",
       "  <thead>\n",
       "    <tr style=\"text-align: right;\">\n",
       "      <th></th>\n",
       "      <th>AUDUSD</th>\n",
       "      <th>EURUSD</th>\n",
       "      <th>GBPUSD</th>\n",
       "      <th>NZDUSD</th>\n",
       "      <th>USDCAD</th>\n",
       "      <th>USDCHF</th>\n",
       "      <th>USDJPY</th>\n",
       "    </tr>\n",
       "  </thead>\n",
       "  <tbody>\n",
       "    <tr>\n",
       "      <th>AUDUSD</th>\n",
       "      <td>1.000000</td>\n",
       "      <td>0.608092</td>\n",
       "      <td>0.715049</td>\n",
       "      <td>0.908251</td>\n",
       "      <td>-0.704619</td>\n",
       "      <td>-0.489152</td>\n",
       "      <td>-0.293643</td>\n",
       "    </tr>\n",
       "    <tr>\n",
       "      <th>EURUSD</th>\n",
       "      <td>0.608092</td>\n",
       "      <td>1.000000</td>\n",
       "      <td>0.611214</td>\n",
       "      <td>0.579981</td>\n",
       "      <td>-0.415923</td>\n",
       "      <td>-0.862317</td>\n",
       "      <td>-0.514583</td>\n",
       "    </tr>\n",
       "    <tr>\n",
       "      <th>GBPUSD</th>\n",
       "      <td>0.715049</td>\n",
       "      <td>0.611214</td>\n",
       "      <td>1.000000</td>\n",
       "      <td>0.700089</td>\n",
       "      <td>-0.545201</td>\n",
       "      <td>-0.562668</td>\n",
       "      <td>-0.449300</td>\n",
       "    </tr>\n",
       "    <tr>\n",
       "      <th>NZDUSD</th>\n",
       "      <td>0.908251</td>\n",
       "      <td>0.579981</td>\n",
       "      <td>0.700089</td>\n",
       "      <td>1.000000</td>\n",
       "      <td>-0.682772</td>\n",
       "      <td>-0.448411</td>\n",
       "      <td>-0.272945</td>\n",
       "    </tr>\n",
       "    <tr>\n",
       "      <th>USDCAD</th>\n",
       "      <td>-0.704619</td>\n",
       "      <td>-0.415923</td>\n",
       "      <td>-0.545201</td>\n",
       "      <td>-0.682772</td>\n",
       "      <td>1.000000</td>\n",
       "      <td>0.287589</td>\n",
       "      <td>0.019655</td>\n",
       "    </tr>\n",
       "    <tr>\n",
       "      <th>USDCHF</th>\n",
       "      <td>-0.489152</td>\n",
       "      <td>-0.862317</td>\n",
       "      <td>-0.562668</td>\n",
       "      <td>-0.448411</td>\n",
       "      <td>0.287589</td>\n",
       "      <td>1.000000</td>\n",
       "      <td>0.599243</td>\n",
       "    </tr>\n",
       "    <tr>\n",
       "      <th>USDJPY</th>\n",
       "      <td>-0.293643</td>\n",
       "      <td>-0.514583</td>\n",
       "      <td>-0.449300</td>\n",
       "      <td>-0.272945</td>\n",
       "      <td>0.019655</td>\n",
       "      <td>0.599243</td>\n",
       "      <td>1.000000</td>\n",
       "    </tr>\n",
       "  </tbody>\n",
       "</table>\n",
       "</div>"
      ],
      "text/plain": [
       "          AUDUSD    EURUSD    GBPUSD    NZDUSD    USDCAD    USDCHF    USDJPY\n",
       "AUDUSD  1.000000  0.608092  0.715049  0.908251 -0.704619 -0.489152 -0.293643\n",
       "EURUSD  0.608092  1.000000  0.611214  0.579981 -0.415923 -0.862317 -0.514583\n",
       "GBPUSD  0.715049  0.611214  1.000000  0.700089 -0.545201 -0.562668 -0.449300\n",
       "NZDUSD  0.908251  0.579981  0.700089  1.000000 -0.682772 -0.448411 -0.272945\n",
       "USDCAD -0.704619 -0.415923 -0.545201 -0.682772  1.000000  0.287589  0.019655\n",
       "USDCHF -0.489152 -0.862317 -0.562668 -0.448411  0.287589  1.000000  0.599243\n",
       "USDJPY -0.293643 -0.514583 -0.449300 -0.272945  0.019655  0.599243  1.000000"
      ]
     },
     "execution_count": 24,
     "metadata": {},
     "output_type": "execute_result"
    }
   ],
   "source": [
    "# Use the `corr` function to calculate correlations for each stock pair\n",
    "correlation = daily_returns.corr()\n",
    "correlation "
   ]
  },
  {
   "cell_type": "code",
   "execution_count": 25,
   "metadata": {},
   "outputs": [
    {
     "data": {
      "text/plain": [
       "<AxesSubplot:>"
      ]
     },
     "execution_count": 25,
     "metadata": {},
     "output_type": "execute_result"
    },
    {
     "data": {
      "image/png": "[encoded data removed]",
      "text/plain": [
       "<Figure size 432x288 with 2 Axes>"
      ]
     },
     "metadata": {
      "needs_background": "light"
     },
     "output_type": "display_data"
    }
   ],
   "source": [
    " # Create a heatmap from the correlation values\n",
    "sns.heatmap(correlation)"
   ]
  },
  {
   "cell_type": "code",
   "execution_count": 37,
   "metadata": {},
   "outputs": [],
   "source": [
    "# reset index\n",
    "major7_date_col = major7.reset_index()"
   ]
  },
  {
   "cell_type": "code",
   "execution_count": 39,
   "metadata": {},
   "outputs": [
    {
     "data": {},
     "metadata": {},
     "output_type": "display_data"
    },
    {
     "data": {
      "application/vnd.holoviews_exec.v0+json": "",
      "text/html": [
       "<div id='2449'>\n",
       "\n",
       "\n",
       "\n",
       "\n",
       "\n",
       "  <div class=\"bk-root\" id=\"4797010d-b69e-4e6b-b0e2-72f65e349aa0\" data-root-id=\"2449\"></div>\n",
       "</div>\n",
       "<script type=\"application/javascript\">(function(root) {\n",
       "  function embed_document(root) {\n",
       "    var docs_json = {\"5db734a7-4fce-41c7-9f61-a8a7f425a475\":{\"roots\":{\"references\":[{\"attributes\":{\"text\":\"AUDUSD 2020\",\"text_color\":{\"value\":\"black\"},\"text_font_size\":{\"value\":\"12pt\"}},\"id\":\"2455\",\"type\":\"Title\"},{\"attributes\":{},\"id\":\"2501\",\"type\":\"UnionRenderers\"},{\"attributes\":{\"active_drag\":\"auto\",\"active_inspect\":\"auto\",\"active_multi\":null,\"active_scroll\":\"auto\",\"active_tap\":\"auto\",\"tools\":[{\"id\":\"2453\"},{\"id\":\"2470\"},{\"id\":\"2471\"},{\"id\":\"2472\"},{\"id\":\"2473\"},{\"id\":\"2474\"}]},\"id\":\"2476\",\"type\":\"Toolbar\"},{\"attributes\":{\"line_alpha\":0.1,\"line_color\":\"#30a2da\",\"line_width\":2,\"x\":{\"field\":\"index\"},\"y\":{\"field\":\"AUDUSD\"}},\"id\":\"2487\",\"type\":\"Line\"},{\"attributes\":{},\"id\":\"2492\",\"type\":\"CategoricalTickFormatter\"},{\"attributes\":{\"data_source\":{\"id\":\"2483\"},\"glyph\":{\"id\":\"2486\"},\"hover_glyph\":null,\"muted_glyph\":{\"id\":\"2488\"},\"nonselection_glyph\":{\"id\":\"2487\"},\"selection_glyph\":null,\"view\":{\"id\":\"2490\"}},\"id\":\"2489\",\"type\":\"GlyphRenderer\"},{\"attributes\":{\"margin\":[5,5,5,5],\"name\":\"HSpacer04819\",\"sizing_mode\":\"stretch_width\"},\"id\":\"2450\",\"type\":\"Spacer\"},{\"attributes\":{},\"id\":\"2467\",\"type\":\"BasicTicker\"},{\"attributes\":{\"axis_label\":\"AUDUSD\",\"bounds\":\"auto\",\"formatter\":{\"id\":\"2494\"},\"major_label_orientation\":\"horizontal\",\"ticker\":{\"id\":\"2467\"}},\"id\":\"2466\",\"type\":\"LinearAxis\"},{\"attributes\":{\"callback\":null,\"renderers\":[{\"id\":\"2489\"}],\"tags\":[\"hv_created\"],\"tooltips\":[[\"index\",\"@{index}\"],[\"AUDUSD\",\"@{AUDUSD}\"]]},\"id\":\"2453\",\"type\":\"HoverTool\"},{\"attributes\":{},\"id\":\"2459\",\"type\":\"CategoricalScale\"},{\"attributes\":{\"bottom_units\":\"screen\",\"fill_alpha\":0.5,\"fill_color\":\"lightgrey\",\"left_units\":\"screen\",\"level\":\"overlay\",\"line_alpha\":1.0,\"line_color\":\"black\",\"line_dash\":[4,4],\"line_width\":2,\"right_units\":\"screen\",\"top_units\":\"screen\"},\"id\":\"2475\",\"type\":\"BoxAnnotation\"},{\"attributes\":{\"below\":[{\"id\":\"2463\"}],\"center\":[{\"id\":\"2465\"},{\"id\":\"2469\"}],\"left\":[{\"id\":\"2466\"}],\"margin\":[5,5,5,5],\"min_border_bottom\":10,\"min_border_left\":10,\"min_border_right\":10,\"min_border_top\":10,\"plot_height\":300,\"plot_width\":700,\"renderers\":[{\"id\":\"2489\"}],\"sizing_mode\":\"fixed\",\"title\":{\"id\":\"2455\"},\"toolbar\":{\"id\":\"2476\"},\"x_range\":{\"id\":\"2451\"},\"x_scale\":{\"id\":\"2459\"},\"y_range\":{\"id\":\"2452\"},\"y_scale\":{\"id\":\"2461\"}},\"id\":\"2454\",\"subtype\":\"Figure\",\"type\":\"Plot\"},{\"attributes\":{\"axis\":{\"id\":\"2466\"},\"dimension\":1,\"grid_line_color\":null,\"ticker\":null},\"id\":\"2469\",\"type\":\"Grid\"},{\"attributes\":{\"children\":[{\"id\":\"2450\"},{\"id\":\"2454\"},{\"id\":\"2511\"}],\"margin\":[0,0,0,0],\"name\":\"Row04815\",\"tags\":[\"embedded\"]},\"id\":\"2449\",\"type\":\"Row\"},{\"attributes\":{\"factors\":[\"2020.01.02\",\"2020.01.03\",\"2020.01.05\",\"2020.01.06\",\"2020.01.07\",\"2020.01.08\",\"2020.01.09\",\"2020.01.10\",\"2020.01.12\",\"2020.01.13\",\"2020.01.14\",\"2020.01.15\",\"2020.01.16\",\"2020.01.17\",\"2020.01.19\",\"2020.01.20\",\"2020.01.21\",\"2020.01.22\",\"2020.01.23\",\"2020.01.24\",\"2020.01.26\",\"2020.01.27\",\"2020.01.28\",\"2020.01.29\",\"2020.01.30\",\"2020.01.31\",\"2020.02.02\",\"2020.02.03\",\"2020.02.04\",\"2020.02.05\",\"2020.02.06\",\"2020.02.07\",\"2020.02.09\",\"2020.02.10\",\"2020.02.11\",\"2020.02.12\",\"2020.02.13\",\"2020.02.14\",\"2020.02.16\",\"2020.02.17\",\"2020.02.18\",\"2020.02.19\",\"2020.02.20\",\"2020.02.21\",\"2020.02.23\",\"2020.02.24\",\"2020.02.25\",\"2020.02.26\",\"2020.02.27\",\"2020.02.28\",\"2020.03.01\",\"2020.03.02\",\"2020.03.03\",\"2020.03.04\",\"2020.03.05\",\"2020.03.06\",\"2020.03.08\",\"2020.03.09\",\"2020.03.10\",\"2020.03.11\",\"2020.03.12\",\"2020.03.13\",\"2020.03.15\",\"2020.03.16\",\"2020.03.17\",\"2020.03.18\",\"2020.03.19\",\"2020.03.20\",\"2020.03.22\",\"2020.03.23\",\"2020.03.24\",\"2020.03.25\",\"2020.03.26\",\"2020.03.27\",\"2020.03.29\",\"2020.03.30\",\"2020.03.31\",\"2020.04.01\",\"2020.04.02\",\"2020.04.03\",\"2020.04.05\",\"2020.04.06\",\"2020.04.07\",\"2020.04.08\",\"2020.04.09\",\"2020.04.10\",\"2020.04.12\",\"2020.04.13\",\"2020.04.14\",\"2020.04.15\",\"2020.04.16\",\"2020.04.17\",\"2020.04.19\",\"2020.04.20\",\"2020.04.21\",\"2020.04.22\",\"2020.04.23\",\"2020.04.24\",\"2020.04.26\",\"2020.04.27\",\"2020.04.28\",\"2020.04.29\",\"2020.04.30\",\"2020.05.01\",\"2020.05.03\",\"2020.05.04\",\"2020.05.05\",\"2020.05.06\",\"2020.05.07\",\"2020.05.08\",\"2020.05.10\",\"2020.05.11\",\"2020.05.12\",\"2020.05.13\",\"2020.05.14\",\"2020.05.15\",\"2020.05.17\",\"2020.05.18\",\"2020.05.19\",\"2020.05.20\",\"2020.05.21\",\"2020.05.22\",\"2020.05.24\",\"2020.05.25\",\"2020.05.26\",\"2020.05.27\",\"2020.05.28\",\"2020.05.29\",\"2020.05.31\",\"2020.06.01\",\"2020.06.02\",\"2020.06.03\",\"2020.06.04\",\"2020.06.05\",\"2020.06.07\",\"2020.06.08\",\"2020.06.09\",\"2020.06.10\",\"2020.06.11\",\"2020.06.12\",\"2020.06.14\",\"2020.06.15\",\"2020.06.16\",\"2020.06.17\",\"2020.06.18\",\"2020.06.19\",\"2020.06.21\",\"2020.06.22\",\"2020.06.23\",\"2020.06.24\",\"2020.06.25\",\"2020.06.26\",\"2020.06.28\",\"2020.06.29\",\"2020.06.30\",\"2020.07.01\",\"2020.07.02\",\"2020.07.03\",\"2020.07.05\",\"2020.07.06\",\"2020.07.07\",\"2020.07.08\",\"2020.07.09\",\"2020.07.10\",\"2020.07.12\",\"2020.07.13\",\"2020.07.14\",\"2020.07.15\",\"2020.07.16\",\"2020.07.17\",\"2020.07.19\",\"2020.07.20\",\"2020.07.21\",\"2020.07.22\",\"2020.07.23\",\"2020.07.24\",\"2020.07.26\",\"2020.07.27\",\"2020.07.28\",\"2020.07.29\",\"2020.07.30\",\"2020.07.31\",\"2020.08.02\",\"2020.08.03\",\"2020.08.04\",\"2020.08.05\",\"2020.08.06\",\"2020.08.07\",\"2020.08.09\",\"2020.08.10\",\"2020.08.11\",\"2020.08.12\",\"2020.08.13\",\"2020.08.14\",\"2020.08.16\",\"2020.08.17\",\"2020.08.18\",\"2020.08.19\",\"2020.08.20\",\"2020.08.21\",\"2020.08.23\",\"2020.08.24\",\"2020.08.25\",\"2020.08.26\",\"2020.08.27\",\"2020.08.28\",\"2020.08.30\",\"2020.08.31\",\"2020.09.01\",\"2020.09.02\",\"2020.09.03\",\"2020.09.04\",\"2020.09.06\",\"2020.09.07\",\"2020.09.08\",\"2020.09.09\",\"2020.09.10\",\"2020.09.11\",\"2020.09.13\",\"2020.09.14\",\"2020.09.15\",\"2020.09.16\",\"2020.09.17\",\"2020.09.18\",\"2020.09.20\",\"2020.09.21\",\"2020.09.22\",\"2020.09.23\",\"2020.09.24\",\"2020.09.25\",\"2020.09.27\",\"2020.09.28\",\"2020.09.29\",\"2020.09.30\",\"2020.10.01\",\"2020.10.02\",\"2020.10.04\",\"2020.10.05\",\"2020.10.06\",\"2020.10.07\",\"2020.10.08\",\"2020.10.09\",\"2020.10.11\",\"2020.10.12\",\"2020.10.13\",\"2020.10.14\",\"2020.10.15\",\"2020.10.16\",\"2020.10.18\",\"2020.10.19\",\"2020.10.20\",\"2020.10.21\",\"2020.10.22\",\"2020.10.23\",\"2020.10.25\",\"2020.10.26\",\"2020.10.27\",\"2020.10.28\",\"2020.10.29\",\"2020.10.30\",\"2020.11.01\",\"2020.11.02\",\"2020.11.03\",\"2020.11.04\",\"2020.11.05\",\"2020.11.06\",\"2020.11.08\",\"2020.11.09\",\"2020.11.10\",\"2020.11.11\",\"2020.11.12\",\"2020.11.13\",\"2020.11.15\",\"2020.11.16\",\"2020.11.17\",\"2020.11.18\",\"2020.11.19\",\"2020.11.20\",\"2020.11.22\",\"2020.11.23\",\"2020.11.24\",\"2020.11.25\",\"2020.11.26\",\"2020.11.27\",\"2020.11.29\",\"2020.11.30\",\"2020.12.01\",\"2020.12.02\",\"2020.12.03\",\"2020.12.04\",\"2020.12.06\",\"2020.12.07\",\"2020.12.08\",\"2020.12.09\",\"2020.12.10\",\"2020.12.11\",\"2020.12.13\",\"2020.12.14\",\"2020.12.15\",\"2020.12.16\",\"2020.12.17\",\"2020.12.18\",\"2020.12.20\",\"2020.12.21\",\"2020.12.22\",\"2020.12.23\",\"2020.12.24\",\"2020.12.27\",\"2020.12.28\",\"2020.12.29\",\"2020.12.30\",\"2020.12.31\"],\"tags\":[[[\"index\",\"index\",null]]]},\"id\":\"2451\",\"type\":\"FactorRange\"},{\"attributes\":{\"source\":{\"id\":\"2483\"}},\"id\":\"2490\",\"type\":\"CDSView\"},{\"attributes\":{\"line_alpha\":0.2,\"line_color\":\"#30a2da\",\"line_width\":2,\"x\":{\"field\":\"index\"},\"y\":{\"field\":\"AUDUSD\"}},\"id\":\"2488\",\"type\":\"Line\"},{\"attributes\":{},\"id\":\"2461\",\"type\":\"LinearScale\"},{\"attributes\":{\"end\":0.7910419999999999,\"reset_end\":0.7910419999999999,\"reset_start\":0.5463380000000001,\"start\":0.5463380000000001,\"tags\":[[[\"AUDUSD\",\"AUDUSD\",null]]]},\"id\":\"2452\",\"type\":\"Range1d\"},{\"attributes\":{},\"id\":\"2470\",\"type\":\"SaveTool\"},{\"attributes\":{\"data\":{\"AUDUSD\":{\"__ndarray__\":\"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\",\"dtype\":\"float64\",\"order\":\"little\",\"shape\":[312]},\"index\":[\"2020.01.02\",\"2020.01.03\",\"2020.01.05\",\"2020.01.06\",\"2020.01.07\",\"2020.01.08\",\"2020.01.09\",\"2020.01.10\",\"2020.01.12\",\"2020.01.13\",\"2020.01.14\",\"2020.01.15\",\"2020.01.16\",\"2020.01.17\",\"2020.01.19\",\"2020.01.20\",\"2020.01.21\",\"2020.01.22\",\"2020.01.23\",\"2020.01.24\",\"2020.01.26\",\"2020.01.27\",\"2020.01.28\",\"2020.01.29\",\"2020.01.30\",\"2020.01.31\",\"2020.02.02\",\"2020.02.03\",\"2020.02.04\",\"2020.02.05\",\"2020.02.06\",\"2020.02.07\",\"2020.02.09\",\"2020.02.10\",\"2020.02.11\",\"2020.02.12\",\"2020.02.13\",\"2020.02.14\",\"2020.02.16\",\"2020.02.17\",\"2020.02.18\",\"2020.02.19\",\"2020.02.20\",\"2020.02.21\",\"2020.02.23\",\"2020.02.24\",\"2020.02.25\",\"2020.02.26\",\"2020.02.27\",\"2020.02.28\",\"2020.03.01\",\"2020.03.02\",\"2020.03.03\",\"2020.03.04\",\"2020.03.05\",\"2020.03.06\",\"2020.03.08\",\"2020.03.09\",\"2020.03.10\",\"2020.03.11\",\"2020.03.12\",\"2020.03.13\",\"2020.03.15\",\"2020.03.16\",\"2020.03.17\",\"2020.03.18\",\"2020.03.19\",\"2020.03.20\",\"2020.03.22\",\"2020.03.23\",\"2020.03.24\",\"2020.03.25\",\"2020.03.26\",\"2020.03.27\",\"2020.03.29\",\"2020.03.30\",\"2020.03.31\",\"2020.04.01\",\"2020.04.02\",\"2020.04.03\",\"2020.04.05\",\"2020.04.06\",\"2020.04.07\",\"2020.04.08\",\"2020.04.09\",\"2020.04.10\",\"2020.04.12\",\"2020.04.13\",\"2020.04.14\",\"2020.04.15\",\"2020.04.16\",\"2020.04.17\",\"2020.04.19\",\"2020.04.20\",\"2020.04.21\",\"2020.04.22\",\"2020.04.23\",\"2020.04.24\",\"2020.04.26\",\"2020.04.27\",\"2020.04.28\",\"2020.04.29\",\"2020.04.30\",\"2020.05.01\",\"2020.05.03\",\"2020.05.04\",\"2020.05.05\",\"2020.05.06\",\"2020.05.07\",\"2020.05.08\",\"2020.05.10\",\"2020.05.11\",\"2020.05.12\",\"2020.05.13\",\"2020.05.14\",\"2020.05.15\",\"2020.05.17\",\"2020.05.18\",\"2020.05.19\",\"2020.05.20\",\"2020.05.21\",\"2020.05.22\",\"2020.05.24\",\"2020.05.25\",\"2020.05.26\",\"2020.05.27\",\"2020.05.28\",\"2020.05.29\",\"2020.05.31\",\"2020.06.01\",\"2020.06.02\",\"2020.06.03\",\"2020.06.04\",\"2020.06.05\",\"2020.06.07\",\"2020.06.08\",\"2020.06.09\",\"2020.06.10\",\"2020.06.11\",\"2020.06.12\",\"2020.06.14\",\"2020.06.15\",\"2020.06.16\",\"2020.06.17\",\"2020.06.18\",\"2020.06.19\",\"2020.06.21\",\"2020.06.22\",\"2020.06.23\",\"2020.06.24\",\"2020.06.25\",\"2020.06.26\",\"2020.06.28\",\"2020.06.29\",\"2020.06.30\",\"2020.07.01\",\"2020.07.02\",\"2020.07.03\",\"2020.07.05\",\"2020.07.06\",\"2020.07.07\",\"2020.07.08\",\"2020.07.09\",\"2020.07.10\",\"2020.07.12\",\"2020.07.13\",\"2020.07.14\",\"2020.07.15\",\"2020.07.16\",\"2020.07.17\",\"2020.07.19\",\"2020.07.20\",\"2020.07.21\",\"2020.07.22\",\"2020.07.23\",\"2020.07.24\",\"2020.07.26\",\"2020.07.27\",\"2020.07.28\",\"2020.07.29\",\"2020.07.30\",\"2020.07.31\",\"2020.08.02\",\"2020.08.03\",\"2020.08.04\",\"2020.08.05\",\"2020.08.06\",\"2020.08.07\",\"2020.08.09\",\"2020.08.10\",\"2020.08.11\",\"2020.08.12\",\"2020.08.13\",\"2020.08.14\",\"2020.08.16\",\"2020.08.17\",\"2020.08.18\",\"2020.08.19\",\"2020.08.20\",\"2020.08.21\",\"2020.08.23\",\"2020.08.24\",\"2020.08.25\",\"2020.08.26\",\"2020.08.27\",\"2020.08.28\",\"2020.08.30\",\"2020.08.31\",\"2020.09.01\",\"2020.09.02\",\"2020.09.03\",\"2020.09.04\",\"2020.09.06\",\"2020.09.07\",\"2020.09.08\",\"2020.09.09\",\"2020.09.10\",\"2020.09.11\",\"2020.09.13\",\"2020.09.14\",\"2020.09.15\",\"2020.09.16\",\"2020.09.17\",\"2020.09.18\",\"2020.09.20\",\"2020.09.21\",\"2020.09.22\",\"2020.09.23\",\"2020.09.24\",\"2020.09.25\",\"2020.09.27\",\"2020.09.28\",\"2020.09.29\",\"2020.09.30\",\"2020.10.01\",\"2020.10.02\",\"2020.10.04\",\"2020.10.05\",\"2020.10.06\",\"2020.10.07\",\"2020.10.08\",\"2020.10.09\",\"2020.10.11\",\"2020.10.12\",\"2020.10.13\",\"2020.10.14\",\"2020.10.15\",\"2020.10.16\",\"2020.10.18\",\"2020.10.19\",\"2020.10.20\",\"2020.10.21\",\"2020.10.22\",\"2020.10.23\",\"2020.10.25\",\"2020.10.26\",\"2020.10.27\",\"2020.10.28\",\"2020.10.29\",\"2020.10.30\",\"2020.11.01\",\"2020.11.02\",\"2020.11.03\",\"2020.11.04\",\"2020.11.05\",\"2020.11.06\",\"2020.11.08\",\"2020.11.09\",\"2020.11.10\",\"2020.11.11\",\"2020.11.12\",\"2020.11.13\",\"2020.11.15\",\"2020.11.16\",\"2020.11.17\",\"2020.11.18\",\"2020.11.19\",\"2020.11.20\",\"2020.11.22\",\"2020.11.23\",\"2020.11.24\",\"2020.11.25\",\"2020.11.26\",\"2020.11.27\",\"2020.11.29\",\"2020.11.30\",\"2020.12.01\",\"2020.12.02\",\"2020.12.03\",\"2020.12.04\",\"2020.12.06\",\"2020.12.07\",\"2020.12.08\",\"2020.12.09\",\"2020.12.10\",\"2020.12.11\",\"2020.12.13\",\"2020.12.14\",\"2020.12.15\",\"2020.12.16\",\"2020.12.17\",\"2020.12.18\",\"2020.12.20\",\"2020.12.21\",\"2020.12.22\",\"2020.12.23\",\"2020.12.24\",\"2020.12.27\",\"2020.12.28\",\"2020.12.29\",\"2020.12.30\",\"2020.12.31\"]},\"selected\":{\"id\":\"2484\"},\"selection_policy\":{\"id\":\"2501\"}},\"id\":\"2483\",\"type\":\"ColumnDataSource\"},{\"attributes\":{},\"id\":\"2471\",\"type\":\"PanTool\"},{\"attributes\":{},\"id\":\"2464\",\"type\":\"CategoricalTicker\"},{\"attributes\":{},\"id\":\"2474\",\"type\":\"ResetTool\"},{\"attributes\":{},\"id\":\"2472\",\"type\":\"WheelZoomTool\"},{\"attributes\":{},\"id\":\"2494\",\"type\":\"BasicTickFormatter\"},{\"attributes\":{\"overlay\":{\"id\":\"2475\"}},\"id\":\"2473\",\"type\":\"BoxZoomTool\"},{\"attributes\":{\"margin\":[5,5,5,5],\"name\":\"HSpacer04820\",\"sizing_mode\":\"stretch_width\"},\"id\":\"2511\",\"type\":\"Spacer\"},{\"attributes\":{\"axis_label\":\"\",\"bounds\":\"auto\",\"formatter\":{\"id\":\"2492\"},\"major_label_orientation\":\"horizontal\",\"ticker\":{\"id\":\"2464\"}},\"id\":\"2463\",\"type\":\"CategoricalAxis\"},{\"attributes\":{},\"id\":\"2484\",\"type\":\"Selection\"},{\"attributes\":{\"line_color\":\"#30a2da\",\"line_width\":2,\"x\":{\"field\":\"index\"},\"y\":{\"field\":\"AUDUSD\"}},\"id\":\"2486\",\"type\":\"Line\"},{\"attributes\":{\"axis\":{\"id\":\"2463\"},\"grid_line_color\":null,\"ticker\":null},\"id\":\"2465\",\"type\":\"Grid\"}],\"root_ids\":[\"2449\"]},\"title\":\"Bokeh Application\",\"version\":\"2.2.3\"}};\n",
       "    var render_items = [{\"docid\":\"5db734a7-4fce-41c7-9f61-a8a7f425a475\",\"root_ids\":[\"2449\"],\"roots\":{\"2449\":\"4797010d-b69e-4e6b-b0e2-72f65e349aa0\"}}];\n",
       "    root.Bokeh.embed.embed_items_notebook(docs_json, render_items);\n",
       "  }\n",
       "  if (root.Bokeh !== undefined && root.Bokeh.Panel !== undefined) {\n",
       "    embed_document(root);\n",
       "  } else {\n",
       "    var attempts = 0;\n",
       "    var timer = setInterval(function(root) {\n",
       "      if (root.Bokeh !== undefined && root.Bokeh.Panel !== undefined) {\n",
       "        clearInterval(timer);\n",
       "        embed_document(root);\n",
       "      } else if (document.readyState == \"complete\") {\n",
       "        attempts++;\n",
       "        if (attempts > 100) {\n",
       "          clearInterval(timer);\n",
       "          console.log(\"Bokeh: ERROR: Unable to run BokehJS code because BokehJS library is missing\");\n",
       "        }\n",
       "      }\n",
       "    }, 10, root)\n",
       "  }\n",
       "})(window);</script>"
      ],
      "text/plain": [
       ":Curve   [index]   (AUDUSD)"
      ]
     },
     "execution_count": 39,
     "metadata": {
      "application/vnd.holoviews_exec.v0+json": {
       "id": "2449"
      }
     },
     "output_type": "execute_result"
    }
   ],
   "source": [
    "# plot AUDUSD\n",
    "AUDUSD_plot = major7_date_col.hvplot(title='AUDUSD 2020', y='AUDUSD')\n",
    "AUDUSD_plot"
   ]
  },
  {
   "cell_type": "code",
   "execution_count": 40,
   "metadata": {},
   "outputs": [
    {
     "data": {},
     "metadata": {},
     "output_type": "display_data"
    },
    {
     "data": {
      "application/vnd.holoviews_exec.v0+json": "",
      "text/html": [
       "<div id='2553'>\n",
       "\n",
       "\n",
       "\n",
       "\n",
       "\n",
       "  <div class=\"bk-root\" id=\"0e3bb3fd-bb0f-4dec-99f2-18f0e190d616\" data-root-id=\"2553\"></div>\n",
       "</div>\n",
       "<script type=\"application/javascript\">(function(root) {\n",
       "  function embed_document(root) {\n",
       "    var docs_json = {\"2a16ad5b-6c8e-42a8-99d1-7d973446ebf2\":{\"roots\":{\"references\":[{\"attributes\":{\"axis_label\":\"EURUSD\",\"bounds\":\"auto\",\"formatter\":{\"id\":\"2598\"},\"major_label_orientation\":\"horizontal\",\"ticker\":{\"id\":\"2571\"}},\"id\":\"2570\",\"type\":\"LinearAxis\"},{\"attributes\":{},\"id\":\"2571\",\"type\":\"BasicTicker\"},{\"attributes\":{\"margin\":[5,5,5,5],\"name\":\"HSpacer05005\",\"sizing_mode\":\"stretch_width\"},\"id\":\"2615\",\"type\":\"Spacer\"},{\"attributes\":{\"axis\":{\"id\":\"2570\"},\"dimension\":1,\"grid_line_color\":null,\"ticker\":null},\"id\":\"2573\",\"type\":\"Grid\"},{\"attributes\":{},\"id\":\"2588\",\"type\":\"Selection\"},{\"attributes\":{\"active_drag\":\"auto\",\"active_inspect\":\"auto\",\"active_multi\":null,\"active_scroll\":\"auto\",\"active_tap\":\"auto\",\"tools\":[{\"id\":\"2557\"},{\"id\":\"2574\"},{\"id\":\"2575\"},{\"id\":\"2576\"},{\"id\":\"2577\"},{\"id\":\"2578\"}]},\"id\":\"2580\",\"type\":\"Toolbar\"},{\"attributes\":{\"factors\":[\"2020.01.02\",\"2020.01.03\",\"2020.01.05\",\"2020.01.06\",\"2020.01.07\",\"2020.01.08\",\"2020.01.09\",\"2020.01.10\",\"2020.01.12\",\"2020.01.13\",\"2020.01.14\",\"2020.01.15\",\"2020.01.16\",\"2020.01.17\",\"2020.01.19\",\"2020.01.20\",\"2020.01.21\",\"2020.01.22\",\"2020.01.23\",\"2020.01.24\",\"2020.01.26\",\"2020.01.27\",\"2020.01.28\",\"2020.01.29\",\"2020.01.30\",\"2020.01.31\",\"2020.02.02\",\"2020.02.03\",\"2020.02.04\",\"2020.02.05\",\"2020.02.06\",\"2020.02.07\",\"2020.02.09\",\"2020.02.10\",\"2020.02.11\",\"2020.02.12\",\"2020.02.13\",\"2020.02.14\",\"2020.02.16\",\"2020.02.17\",\"2020.02.18\",\"2020.02.19\",\"2020.02.20\",\"2020.02.21\",\"2020.02.23\",\"2020.02.24\",\"2020.02.25\",\"2020.02.26\",\"2020.02.27\",\"2020.02.28\",\"2020.03.01\",\"2020.03.02\",\"2020.03.03\",\"2020.03.04\",\"2020.03.05\",\"2020.03.06\",\"2020.03.08\",\"2020.03.09\",\"2020.03.10\",\"2020.03.11\",\"2020.03.12\",\"2020.03.13\",\"2020.03.15\",\"2020.03.16\",\"2020.03.17\",\"2020.03.18\",\"2020.03.19\",\"2020.03.20\",\"2020.03.22\",\"2020.03.23\",\"2020.03.24\",\"2020.03.25\",\"2020.03.26\",\"2020.03.27\",\"2020.03.29\",\"2020.03.30\",\"2020.03.31\",\"2020.04.01\",\"2020.04.02\",\"2020.04.03\",\"2020.04.05\",\"2020.04.06\",\"2020.04.07\",\"2020.04.08\",\"2020.04.09\",\"2020.04.10\",\"2020.04.12\",\"2020.04.13\",\"2020.04.14\",\"2020.04.15\",\"2020.04.16\",\"2020.04.17\",\"2020.04.19\",\"2020.04.20\",\"2020.04.21\",\"2020.04.22\",\"2020.04.23\",\"2020.04.24\",\"2020.04.26\",\"2020.04.27\",\"2020.04.28\",\"2020.04.29\",\"2020.04.30\",\"2020.05.01\",\"2020.05.03\",\"2020.05.04\",\"2020.05.05\",\"2020.05.06\",\"2020.05.07\",\"2020.05.08\",\"2020.05.10\",\"2020.05.11\",\"2020.05.12\",\"2020.05.13\",\"2020.05.14\",\"2020.05.15\",\"2020.05.17\",\"2020.05.18\",\"2020.05.19\",\"2020.05.20\",\"2020.05.21\",\"2020.05.22\",\"2020.05.24\",\"2020.05.25\",\"2020.05.26\",\"2020.05.27\",\"2020.05.28\",\"2020.05.29\",\"2020.05.31\",\"2020.06.01\",\"2020.06.02\",\"2020.06.03\",\"2020.06.04\",\"2020.06.05\",\"2020.06.07\",\"2020.06.08\",\"2020.06.09\",\"2020.06.10\",\"2020.06.11\",\"2020.06.12\",\"2020.06.14\",\"2020.06.15\",\"2020.06.16\",\"2020.06.17\",\"2020.06.18\",\"2020.06.19\",\"2020.06.21\",\"2020.06.22\",\"2020.06.23\",\"2020.06.24\",\"2020.06.25\",\"2020.06.26\",\"2020.06.28\",\"2020.06.29\",\"2020.06.30\",\"2020.07.01\",\"2020.07.02\",\"2020.07.03\",\"2020.07.05\",\"2020.07.06\",\"2020.07.07\",\"2020.07.08\",\"2020.07.09\",\"2020.07.10\",\"2020.07.12\",\"2020.07.13\",\"2020.07.14\",\"2020.07.15\",\"2020.07.16\",\"2020.07.17\",\"2020.07.19\",\"2020.07.20\",\"2020.07.21\",\"2020.07.22\",\"2020.07.23\",\"2020.07.24\",\"2020.07.26\",\"2020.07.27\",\"2020.07.28\",\"2020.07.29\",\"2020.07.30\",\"2020.07.31\",\"2020.08.02\",\"2020.08.03\",\"2020.08.04\",\"2020.08.05\",\"2020.08.06\",\"2020.08.07\",\"2020.08.09\",\"2020.08.10\",\"2020.08.11\",\"2020.08.12\",\"2020.08.13\",\"2020.08.14\",\"2020.08.16\",\"2020.08.17\",\"2020.08.18\",\"2020.08.19\",\"2020.08.20\",\"2020.08.21\",\"2020.08.23\",\"2020.08.24\",\"2020.08.25\",\"2020.08.26\",\"2020.08.27\",\"2020.08.28\",\"2020.08.30\",\"2020.08.31\",\"2020.09.01\",\"2020.09.02\",\"2020.09.03\",\"2020.09.04\",\"2020.09.06\",\"2020.09.07\",\"2020.09.08\",\"2020.09.09\",\"2020.09.10\",\"2020.09.11\",\"2020.09.13\",\"2020.09.14\",\"2020.09.15\",\"2020.09.16\",\"2020.09.17\",\"2020.09.18\",\"2020.09.20\",\"2020.09.21\",\"2020.09.22\",\"2020.09.23\",\"2020.09.24\",\"2020.09.25\",\"2020.09.27\",\"2020.09.28\",\"2020.09.29\",\"2020.09.30\",\"2020.10.01\",\"2020.10.02\",\"2020.10.04\",\"2020.10.05\",\"2020.10.06\",\"2020.10.07\",\"2020.10.08\",\"2020.10.09\",\"2020.10.11\",\"2020.10.12\",\"2020.10.13\",\"2020.10.14\",\"2020.10.15\",\"2020.10.16\",\"2020.10.18\",\"2020.10.19\",\"2020.10.20\",\"2020.10.21\",\"2020.10.22\",\"2020.10.23\",\"2020.10.25\",\"2020.10.26\",\"2020.10.27\",\"2020.10.28\",\"2020.10.29\",\"2020.10.30\",\"2020.11.01\",\"2020.11.02\",\"2020.11.03\",\"2020.11.04\",\"2020.11.05\",\"2020.11.06\",\"2020.11.08\",\"2020.11.09\",\"2020.11.10\",\"2020.11.11\",\"2020.11.12\",\"2020.11.13\",\"2020.11.15\",\"2020.11.16\",\"2020.11.17\",\"2020.11.18\",\"2020.11.19\",\"2020.11.20\",\"2020.11.22\",\"2020.11.23\",\"2020.11.24\",\"2020.11.25\",\"2020.11.26\",\"2020.11.27\",\"2020.11.29\",\"2020.11.30\",\"2020.12.01\",\"2020.12.02\",\"2020.12.03\",\"2020.12.04\",\"2020.12.06\",\"2020.12.07\",\"2020.12.08\",\"2020.12.09\",\"2020.12.10\",\"2020.12.11\",\"2020.12.13\",\"2020.12.14\",\"2020.12.15\",\"2020.12.16\",\"2020.12.17\",\"2020.12.18\",\"2020.12.20\",\"2020.12.21\",\"2020.12.22\",\"2020.12.23\",\"2020.12.24\",\"2020.12.27\",\"2020.12.28\",\"2020.12.29\",\"2020.12.30\",\"2020.12.31\"],\"tags\":[[[\"index\",\"index\",null]]]},\"id\":\"2555\",\"type\":\"FactorRange\"},{\"attributes\":{\"line_alpha\":0.2,\"line_color\":\"#30a2da\",\"line_width\":2,\"x\":{\"field\":\"index\"},\"y\":{\"field\":\"EURUSD\"}},\"id\":\"2592\",\"type\":\"Line\"},{\"attributes\":{\"line_alpha\":0.1,\"line_color\":\"#30a2da\",\"line_width\":2,\"x\":{\"field\":\"index\"},\"y\":{\"field\":\"EURUSD\"}},\"id\":\"2591\",\"type\":\"Line\"},{\"attributes\":{\"bottom_units\":\"screen\",\"fill_alpha\":0.5,\"fill_color\":\"lightgrey\",\"left_units\":\"screen\",\"level\":\"overlay\",\"line_alpha\":1.0,\"line_color\":\"black\",\"line_dash\":[4,4],\"line_width\":2,\"right_units\":\"screen\",\"top_units\":\"screen\"},\"id\":\"2579\",\"type\":\"BoxAnnotation\"},{\"attributes\":{\"text\":\"EURUSD 2020\",\"text_color\":{\"value\":\"black\"},\"text_font_size\":{\"value\":\"12pt\"}},\"id\":\"2559\",\"type\":\"Title\"},{\"attributes\":{\"children\":[{\"id\":\"2554\"},{\"id\":\"2558\"},{\"id\":\"2615\"}],\"margin\":[0,0,0,0],\"name\":\"Row05000\",\"tags\":[\"embedded\"]},\"id\":\"2553\",\"type\":\"Row\"},{\"attributes\":{\"below\":[{\"id\":\"2567\"}],\"center\":[{\"id\":\"2569\"},{\"id\":\"2573\"}],\"left\":[{\"id\":\"2570\"}],\"margin\":[5,5,5,5],\"min_border_bottom\":10,\"min_border_left\":10,\"min_border_right\":10,\"min_border_top\":10,\"plot_height\":300,\"plot_width\":700,\"renderers\":[{\"id\":\"2593\"}],\"sizing_mode\":\"fixed\",\"title\":{\"id\":\"2559\"},\"toolbar\":{\"id\":\"2580\"},\"x_range\":{\"id\":\"2555\"},\"x_scale\":{\"id\":\"2563\"},\"y_range\":{\"id\":\"2556\"},\"y_scale\":{\"id\":\"2565\"}},\"id\":\"2558\",\"subtype\":\"Figure\",\"type\":\"Plot\"},{\"attributes\":{\"margin\":[5,5,5,5],\"name\":\"HSpacer05004\",\"sizing_mode\":\"stretch_width\"},\"id\":\"2554\",\"type\":\"Spacer\"},{\"attributes\":{\"data_source\":{\"id\":\"2587\"},\"glyph\":{\"id\":\"2590\"},\"hover_glyph\":null,\"muted_glyph\":{\"id\":\"2592\"},\"nonselection_glyph\":{\"id\":\"2591\"},\"selection_glyph\":null,\"view\":{\"id\":\"2594\"}},\"id\":\"2593\",\"type\":\"GlyphRenderer\"},{\"attributes\":{\"data\":{\"EURUSD\":{\"__ndarray__\":\"AVKbOLnf8T+aJQFqatnxP7Q8D+7O2vE/mnyzzY3p8T/Z690f79XxP/Xb14FzxvE/MBLaci7F8T/so1NXPsvxP/AbX3tmyfE/jNZR1QTR8T8Fi8OZX83xP4Emwoan1/E/xZRIopfR8T882jhiLb7xP+VciqvKvvE//isrTUrB8T9d+SzPg7vxP3Noke18v/E/qrcGtkqw8T/cRgN4C6TxP9nO91PjpfE/G/UQje6g8T9t4uR+h6LxP5KRs7CnnfE/EY3uIHam8T9xOPOrOcDxP0BqEyf3u/E/qFfKMsSx8T9diqvKvqvxP2HD0ytlmfE/4X8r2bGR8T9uNIC3QILxP6YKRiV1gvE/FNBE2PB08T/xgLIpV3jxP74Ts14MZfE/gA7z5QVY8T/52jNLAlTxP7ssJjYfV/E/SoCaWrZW8T+FX+rnTUXxP5huEoPASvE/ppat9UVC8T/Qm4pUGFvxP8EcPX5vU/E/scQDyqZc8T9GX0GasWjxP9NqSNxjafE/Jo3ROqqa8T+9b3ztmaXxP0ATYcPTq/E/bhea6zTS8T/mIr4Ts97xP8f0hCUe0PE/DxDM0eP38T8cti3KbBDyPyv7rgj+N/I/sVWCxeFM8j8rTUpBtxfyP8E5I0p7A/I/p3Sw/s/h8T/dJAaBlcPxP32W58Hd2fE/ICkiwyre8T8AxjNo6J/xP+cYkL3effE/qwmi7gMQ8T9ApN++DhzxPwTnjCjtDfE/jBAebRwx8T8H0zB8REzxP381BwjmaPE/8s02N6an8T8ysfm4NtTxP9BE2PD0yvE/fGEyVTCq8T+hEAGHUKXxP8JR8uocg/E/W18ktOVc8T+xVYLF4UzxP0DZlCu8S/E/9zsUBfpE8T8i+N9KdmzxPzyInSl0XvE/X51jQPZ68T+RgxJm2n7xPxoXDoRkgfE/ppvEILBy8T+neccpOpLxP4fcDDfgc/E/jV2iemtg8T+D9X8O82XxPxNhw9MrZfE/+Um1T8dj8T88iJ0pdF7xPzeJQWDlUPE/kSdJ10w+8T+oHf6arFHxP8bctYR8UPE/3Xu45LhT8T8Ay0qTUlDxP6FsyhXeZfE/oUrNHmiF8T+oqWVrfZHxPyF2ptB5jfE/VMa/z7hw8T8pkUQvo1jxPxFTIoleRvE/3Esao3VU8T+6FFeVfVfxP6JFtvP9VPE/tOVciqtK8T+0PA/uzlrxP8f0hCUeUPE/tf0rK01K8T9XYMjqVk/xP3UfgNQmTvE/EFg5tMh28T/T2cngKHnxP+PfZ1w4kPE/pKoJou6D8T82H9eGinHxP3S1FfvLbvE/k3TN5Jtt8T9zS6shcY/xP7OACdy6m/E/RPrt68C58T+ERxtHrMXxP5wui4nNx/E/5ZttbkzP8T9Xz0nvG9/xP+4gdqbQ+fE/3o5wWvAi8j8d/pqsUQ/yP6VJKej2EvI/cQM+P4wQ8j9QU8vW+iLyP4iAQ6hSM/I/izIbZJIR8j8xzt+EQgTyP80Bgjl6/PE/rcCQ1a0e8j+jkjoBTQTyPz6uDRXj/PE/zZIANbXs8T+L/WX35OHxP01/9iNF5PE/TRWMSuoE8j+5iO/ErBfyP6YKRiV1AvI/wyreyDzy8T9trS8S2vLxPzAvwD469fE/ecxAZfz78T9iLT4FwPjxPznulA7W//E/7MA5I0r78T8CMJ5BQ//xPwN4CyQo/vE/Kh2s/3MY8j/SAN4CCQryP/5l9+RhIfI/yvj3GRcO8j+J0t7gCxPyP0sk0csoFvI/gjl6/N4m8j+RJ0nXTD7yPzXSUnk7QvI/2SWqtwY28j/VBFH3AUjyP6HWNO84RfI/j05d+SxP8j8WMIFbd3PyP8JR8uocg/I/zUBl/PuM8j9nCp3X2KXyP/59xoUDofI/IjKs4o3M8j+Nl24Sg8DyPz24O2u33fI/4KEo0Cfy8j9oP1JEhtXyP0hQ/Bhz1/I/N4lBYOXQ8j9Wn6ut2N/yP5ZDi2zn+/I/HF97ZkkA8z8IclDCTNvyP3tOet/42vI/SOF6FK7H8j9GmQ0yycjyP3x+GCE82vI/Zk6XxcTm8j9RZoNMMvLyPzTXaaSl8vI/HqfoSC7/8j8QHm0csRbzP1Fmg0wy8vI/7ginBS/68j/k2lAxzt/yPzpY/+cw3/I/6YL6ljnd8j/JAiZw6+7yPz0nvW987fI/RUdy+Q/p8j94CyQofgzzPz4FwHgGDfM/fQqA8Qwa8z+q8dJNYhDzP9ZR1QRR9/I/vVKWIY718j/h0cYRa/HyP6jjMQOV8fI/gq0SLA7n8j9LsDic+dXyP+Ayp8ti4vI/RC+jWG7p8j/AstKkFPTyP+MZNPRP8PI/Bwjm6PH78j+iC+pb5vTyPxDpt68D5/I/bJVgcTjz8j9RZoNMMvLyP6ezk8FR8vI/o12FlJ/U8j+YF2AfnbryP0cDeAskqPI/XYqryr6r8j8I5ujxe5vyP7XgRV9BmvI/mggbnl6p8j9GsdzSasjyP8Qlx53SwfI/escpOpLL8j8CvAUSFL/yPyGrWz0nvfI/miUBamrZ8j9n0NA/wcXyP4p2FVJ+0vI/qn06HjPQ8j8FUfcBSO3yP2ZmZmZm5vI/Su8bX3vm8j9fmEwVjMryPwfr/xzmy/I/si5uowG88j/J5T+k377yP6s+V1uxv/I/MuGX+nnT8j+1q5Dyk+ryP1+1MuGX+vI/RC+jWG7p8j99XBsqxvnyPxl47j1c8vI/avZAKzDk8j8MAiuHFtnyPz/BxYoazPI/QBNhw9Or8j/DR8SUSKLyP8WPMXctofI/rJDyk2qf8j8XE5uPa8PyPzgyj/zBwPI/fO2ZJQHq8j857pQO1v/yP0z9vKlIBfM/1bK1vkjo8j+4I5wWvOjyP/LqHAOy1/I/wXPv4ZLj8j+to6oJou7yP1TejnBa8PI/R+aRPxj48j8mx53SwfryP/UQje4g9vI/zLkUV5X98j+a6zTSUvnyP0WeJF0z+fI/jZyFPe3w8j+e6pCb4QbzPwBXsmMjEPM/yvj3GRcO8z9t4uR+hyLzPzBMpgpGJfM/La2GxD0W8z9UGFsIclDzP1M/bypSYfM/58HdWbtt8z+jzAaZZGTzP54kXTP5ZvM/xks3iUFg8z+uZMdGIF7zP/naM0sCVPM/BoGVQ4ts8z/hehSuR2HzP2GOHr+3afM/O99PjZdu8z9xPQrXo3DzP4czv5oDhPM/qkiFsYWg8z9C1H0AUpvzPzf92Y8UkfM/wGA3bFuU8z+fq63YX3bzP/7PYb68gPM/PZY+dEF98z9xrIvbaIDzP2KcvwmFiPM/QgQcQpWa8z+xpx3+mqzzP9HoDmJnivM/\",\"dtype\":\"float64\",\"order\":\"little\",\"shape\":[312]},\"index\":[\"2020.01.02\",\"2020.01.03\",\"2020.01.05\",\"2020.01.06\",\"2020.01.07\",\"2020.01.08\",\"2020.01.09\",\"2020.01.10\",\"2020.01.12\",\"2020.01.13\",\"2020.01.14\",\"2020.01.15\",\"2020.01.16\",\"2020.01.17\",\"2020.01.19\",\"2020.01.20\",\"2020.01.21\",\"2020.01.22\",\"2020.01.23\",\"2020.01.24\",\"2020.01.26\",\"2020.01.27\",\"2020.01.28\",\"2020.01.29\",\"2020.01.30\",\"2020.01.31\",\"2020.02.02\",\"2020.02.03\",\"2020.02.04\",\"2020.02.05\",\"2020.02.06\",\"2020.02.07\",\"2020.02.09\",\"2020.02.10\",\"2020.02.11\",\"2020.02.12\",\"2020.02.13\",\"2020.02.14\",\"2020.02.16\",\"2020.02.17\",\"2020.02.18\",\"2020.02.19\",\"2020.02.20\",\"2020.02.21\",\"2020.02.23\",\"2020.02.24\",\"2020.02.25\",\"2020.02.26\",\"2020.02.27\",\"2020.02.28\",\"2020.03.01\",\"2020.03.02\",\"2020.03.03\",\"2020.03.04\",\"2020.03.05\",\"2020.03.06\",\"2020.03.08\",\"2020.03.09\",\"2020.03.10\",\"2020.03.11\",\"2020.03.12\",\"2020.03.13\",\"2020.03.15\",\"2020.03.16\",\"2020.03.17\",\"2020.03.18\",\"2020.03.19\",\"2020.03.20\",\"2020.03.22\",\"2020.03.23\",\"2020.03.24\",\"2020.03.25\",\"2020.03.26\",\"2020.03.27\",\"2020.03.29\",\"2020.03.30\",\"2020.03.31\",\"2020.04.01\",\"2020.04.02\",\"2020.04.03\",\"2020.04.05\",\"2020.04.06\",\"2020.04.07\",\"2020.04.08\",\"2020.04.09\",\"2020.04.10\",\"2020.04.12\",\"2020.04.13\",\"2020.04.14\",\"2020.04.15\",\"2020.04.16\",\"2020.04.17\",\"2020.04.19\",\"2020.04.20\",\"2020.04.21\",\"2020.04.22\",\"2020.04.23\",\"2020.04.24\",\"2020.04.26\",\"2020.04.27\",\"2020.04.28\",\"2020.04.29\",\"2020.04.30\",\"2020.05.01\",\"2020.05.03\",\"2020.05.04\",\"2020.05.05\",\"2020.05.06\",\"2020.05.07\",\"2020.05.08\",\"2020.05.10\",\"2020.05.11\",\"2020.05.12\",\"2020.05.13\",\"2020.05.14\",\"2020.05.15\",\"2020.05.17\",\"2020.05.18\",\"2020.05.19\",\"2020.05.20\",\"2020.05.21\",\"2020.05.22\",\"2020.05.24\",\"2020.05.25\",\"2020.05.26\",\"2020.05.27\",\"2020.05.28\",\"2020.05.29\",\"2020.05.31\",\"2020.06.01\",\"2020.06.02\",\"2020.06.03\",\"2020.06.04\",\"2020.06.05\",\"2020.06.07\",\"2020.06.08\",\"2020.06.09\",\"2020.06.10\",\"2020.06.11\",\"2020.06.12\",\"2020.06.14\",\"2020.06.15\",\"2020.06.16\",\"2020.06.17\",\"2020.06.18\",\"2020.06.19\",\"2020.06.21\",\"2020.06.22\",\"2020.06.23\",\"2020.06.24\",\"2020.06.25\",\"2020.06.26\",\"2020.06.28\",\"2020.06.29\",\"2020.06.30\",\"2020.07.01\",\"2020.07.02\",\"2020.07.03\",\"2020.07.05\",\"2020.07.06\",\"2020.07.07\",\"2020.07.08\",\"2020.07.09\",\"2020.07.10\",\"2020.07.12\",\"2020.07.13\",\"2020.07.14\",\"2020.07.15\",\"2020.07.16\",\"2020.07.17\",\"2020.07.19\",\"2020.07.20\",\"2020.07.21\",\"2020.07.22\",\"2020.07.23\",\"2020.07.24\",\"2020.07.26\",\"2020.07.27\",\"2020.07.28\",\"2020.07.29\",\"2020.07.30\",\"2020.07.31\",\"2020.08.02\",\"2020.08.03\",\"2020.08.04\",\"2020.08.05\",\"2020.08.06\",\"2020.08.07\",\"2020.08.09\",\"2020.08.10\",\"2020.08.11\",\"2020.08.12\",\"2020.08.13\",\"2020.08.14\",\"2020.08.16\",\"2020.08.17\",\"2020.08.18\",\"2020.08.19\",\"2020.08.20\",\"2020.08.21\",\"2020.08.23\",\"2020.08.24\",\"2020.08.25\",\"2020.08.26\",\"2020.08.27\",\"2020.08.28\",\"2020.08.30\",\"2020.08.31\",\"2020.09.01\",\"2020.09.02\",\"2020.09.03\",\"2020.09.04\",\"2020.09.06\",\"2020.09.07\",\"2020.09.08\",\"2020.09.09\",\"2020.09.10\",\"2020.09.11\",\"2020.09.13\",\"2020.09.14\",\"2020.09.15\",\"2020.09.16\",\"2020.09.17\",\"2020.09.18\",\"2020.09.20\",\"2020.09.21\",\"2020.09.22\",\"2020.09.23\",\"2020.09.24\",\"2020.09.25\",\"2020.09.27\",\"2020.09.28\",\"2020.09.29\",\"2020.09.30\",\"2020.10.01\",\"2020.10.02\",\"2020.10.04\",\"2020.10.05\",\"2020.10.06\",\"2020.10.07\",\"2020.10.08\",\"2020.10.09\",\"2020.10.11\",\"2020.10.12\",\"2020.10.13\",\"2020.10.14\",\"2020.10.15\",\"2020.10.16\",\"2020.10.18\",\"2020.10.19\",\"2020.10.20\",\"2020.10.21\",\"2020.10.22\",\"2020.10.23\",\"2020.10.25\",\"2020.10.26\",\"2020.10.27\",\"2020.10.28\",\"2020.10.29\",\"2020.10.30\",\"2020.11.01\",\"2020.11.02\",\"2020.11.03\",\"2020.11.04\",\"2020.11.05\",\"2020.11.06\",\"2020.11.08\",\"2020.11.09\",\"2020.11.10\",\"2020.11.11\",\"2020.11.12\",\"2020.11.13\",\"2020.11.15\",\"2020.11.16\",\"2020.11.17\",\"2020.11.18\",\"2020.11.19\",\"2020.11.20\",\"2020.11.22\",\"2020.11.23\",\"2020.11.24\",\"2020.11.25\",\"2020.11.26\",\"2020.11.27\",\"2020.11.29\",\"2020.11.30\",\"2020.12.01\",\"2020.12.02\",\"2020.12.03\",\"2020.12.04\",\"2020.12.06\",\"2020.12.07\",\"2020.12.08\",\"2020.12.09\",\"2020.12.10\",\"2020.12.11\",\"2020.12.13\",\"2020.12.14\",\"2020.12.15\",\"2020.12.16\",\"2020.12.17\",\"2020.12.18\",\"2020.12.20\",\"2020.12.21\",\"2020.12.22\",\"2020.12.23\",\"2020.12.24\",\"2020.12.27\",\"2020.12.28\",\"2020.12.29\",\"2020.12.30\",\"2020.12.31\"]},\"selected\":{\"id\":\"2588\"},\"selection_policy\":{\"id\":\"2605\"}},\"id\":\"2587\",\"type\":\"ColumnDataSource\"},{\"attributes\":{},\"id\":\"2598\",\"type\":\"BasicTickFormatter\"},{\"attributes\":{},\"id\":\"2605\",\"type\":\"UnionRenderers\"},{\"attributes\":{},\"id\":\"2574\",\"type\":\"SaveTool\"},{\"attributes\":{},\"id\":\"2596\",\"type\":\"CategoricalTickFormatter\"},{\"attributes\":{},\"id\":\"2575\",\"type\":\"PanTool\"},{\"attributes\":{},\"id\":\"2578\",\"type\":\"ResetTool\"},{\"attributes\":{},\"id\":\"2576\",\"type\":\"WheelZoomTool\"},{\"attributes\":{},\"id\":\"2563\",\"type\":\"CategoricalScale\"},{\"attributes\":{\"overlay\":{\"id\":\"2579\"}},\"id\":\"2577\",\"type\":\"BoxZoomTool\"},{\"attributes\":{\"line_color\":\"#30a2da\",\"line_width\":2,\"x\":{\"field\":\"index\"},\"y\":{\"field\":\"EURUSD\"}},\"id\":\"2590\",\"type\":\"Line\"},{\"attributes\":{\"axis\":{\"id\":\"2567\"},\"grid_line_color\":null,\"ticker\":null},\"id\":\"2569\",\"type\":\"Grid\"},{\"attributes\":{\"source\":{\"id\":\"2587\"}},\"id\":\"2594\",\"type\":\"CDSView\"},{\"attributes\":{},\"id\":\"2568\",\"type\":\"CategoricalTicker\"},{\"attributes\":{},\"id\":\"2565\",\"type\":\"LinearScale\"},{\"attributes\":{\"callback\":null,\"renderers\":[{\"id\":\"2593\"}],\"tags\":[\"hv_created\"],\"tooltips\":[[\"index\",\"@{index}\"],[\"EURUSD\",\"@{EURUSD}\"]]},\"id\":\"2557\",\"type\":\"HoverTool\"},{\"attributes\":{\"axis_label\":\"\",\"bounds\":\"auto\",\"formatter\":{\"id\":\"2596\"},\"major_label_orientation\":\"horizontal\",\"ticker\":{\"id\":\"2568\"}},\"id\":\"2567\",\"type\":\"CategoricalAxis\"},{\"attributes\":{\"end\":1.2460140000000002,\"reset_end\":1.2460140000000002,\"reset_start\":1.0495260000000002,\"start\":1.0495260000000002,\"tags\":[[[\"EURUSD\",\"EURUSD\",null]]]},\"id\":\"2556\",\"type\":\"Range1d\"}],\"root_ids\":[\"2553\"]},\"title\":\"Bokeh Application\",\"version\":\"2.2.3\"}};\n",
       "    var render_items = [{\"docid\":\"2a16ad5b-6c8e-42a8-99d1-7d973446ebf2\",\"root_ids\":[\"2553\"],\"roots\":{\"2553\":\"0e3bb3fd-bb0f-4dec-99f2-18f0e190d616\"}}];\n",
       "    root.Bokeh.embed.embed_items_notebook(docs_json, render_items);\n",
       "  }\n",
       "  if (root.Bokeh !== undefined && root.Bokeh.Panel !== undefined) {\n",
       "    embed_document(root);\n",
       "  } else {\n",
       "    var attempts = 0;\n",
       "    var timer = setInterval(function(root) {\n",
       "      if (root.Bokeh !== undefined && root.Bokeh.Panel !== undefined) {\n",
       "        clearInterval(timer);\n",
       "        embed_document(root);\n",
       "      } else if (document.readyState == \"complete\") {\n",
       "        attempts++;\n",
       "        if (attempts > 100) {\n",
       "          clearInterval(timer);\n",
       "          console.log(\"Bokeh: ERROR: Unable to run BokehJS code because BokehJS library is missing\");\n",
       "        }\n",
       "      }\n",
       "    }, 10, root)\n",
       "  }\n",
       "})(window);</script>"
      ],
      "text/plain": [
       ":Curve   [index]   (EURUSD)"
      ]
     },
     "execution_count": 40,
     "metadata": {
      "application/vnd.holoviews_exec.v0+json": {
       "id": "2553"
      }
     },
     "output_type": "execute_result"
    }
   ],
   "source": [
    "# plot EURUSD\n",
    "EURUSD_plot = major7_date_col.hvplot(title='EURUSD 2020', y='EURUSD')\n",
    "EURUSD_plot"
   ]
  },
  {
   "cell_type": "code",
   "execution_count": 41,
   "metadata": {},
   "outputs": [
    {
     "data": {},
     "metadata": {},
     "output_type": "display_data"
    },
    {
     "data": {
      "application/vnd.holoviews_exec.v0+json": "",
      "text/html": [
       "<div id='2657'>\n",
       "\n",
       "\n",
       "\n",
       "\n",
       "\n",
       "  <div class=\"bk-root\" id=\"e770889c-6cd8-4f2a-b784-330b2acece7a\" data-root-id=\"2657\"></div>\n",
       "</div>\n",
       "<script type=\"application/javascript\">(function(root) {\n",
       "  function embed_document(root) {\n",
       "    var docs_json = {\"4f10106f-bc50-47aa-8912-bccf9aec0ad0\":{\"roots\":{\"references\":[{\"attributes\":{},\"id\":\"2675\",\"type\":\"BasicTicker\"},{\"attributes\":{\"axis\":{\"id\":\"2674\"},\"dimension\":1,\"grid_line_color\":null,\"ticker\":null},\"id\":\"2677\",\"type\":\"Grid\"},{\"attributes\":{\"active_drag\":\"auto\",\"active_inspect\":\"auto\",\"active_multi\":null,\"active_scroll\":\"auto\",\"active_tap\":\"auto\",\"tools\":[{\"id\":\"2661\"},{\"id\":\"2678\"},{\"id\":\"2679\"},{\"id\":\"2680\"},{\"id\":\"2681\"},{\"id\":\"2682\"}]},\"id\":\"2684\",\"type\":\"Toolbar\"},{\"attributes\":{\"axis_label\":\"GBPUSD\",\"bounds\":\"auto\",\"formatter\":{\"id\":\"2702\"},\"major_label_orientation\":\"horizontal\",\"ticker\":{\"id\":\"2675\"}},\"id\":\"2674\",\"type\":\"LinearAxis\"},{\"attributes\":{\"line_alpha\":0.2,\"line_color\":\"#30a2da\",\"line_width\":2,\"x\":{\"field\":\"index\"},\"y\":{\"field\":\"GBPUSD\"}},\"id\":\"2696\",\"type\":\"Line\"},{\"attributes\":{\"source\":{\"id\":\"2691\"}},\"id\":\"2698\",\"type\":\"CDSView\"},{\"attributes\":{\"bottom_units\":\"screen\",\"fill_alpha\":0.5,\"fill_color\":\"lightgrey\",\"left_units\":\"screen\",\"level\":\"overlay\",\"line_alpha\":1.0,\"line_color\":\"black\",\"line_dash\":[4,4],\"line_width\":2,\"right_units\":\"screen\",\"top_units\":\"screen\"},\"id\":\"2683\",\"type\":\"BoxAnnotation\"},{\"attributes\":{\"data_source\":{\"id\":\"2691\"},\"glyph\":{\"id\":\"2694\"},\"hover_glyph\":null,\"muted_glyph\":{\"id\":\"2696\"},\"nonselection_glyph\":{\"id\":\"2695\"},\"selection_glyph\":null,\"view\":{\"id\":\"2698\"}},\"id\":\"2697\",\"type\":\"GlyphRenderer\"},{\"attributes\":{},\"id\":\"2692\",\"type\":\"Selection\"},{\"attributes\":{\"children\":[{\"id\":\"2658\"},{\"id\":\"2662\"},{\"id\":\"2719\"}],\"margin\":[0,0,0,0],\"name\":\"Row05185\",\"tags\":[\"embedded\"]},\"id\":\"2657\",\"type\":\"Row\"},{\"attributes\":{\"factors\":[\"2020.01.02\",\"2020.01.03\",\"2020.01.05\",\"2020.01.06\",\"2020.01.07\",\"2020.01.08\",\"2020.01.09\",\"2020.01.10\",\"2020.01.12\",\"2020.01.13\",\"2020.01.14\",\"2020.01.15\",\"2020.01.16\",\"2020.01.17\",\"2020.01.19\",\"2020.01.20\",\"2020.01.21\",\"2020.01.22\",\"2020.01.23\",\"2020.01.24\",\"2020.01.26\",\"2020.01.27\",\"2020.01.28\",\"2020.01.29\",\"2020.01.30\",\"2020.01.31\",\"2020.02.02\",\"2020.02.03\",\"2020.02.04\",\"2020.02.05\",\"2020.02.06\",\"2020.02.07\",\"2020.02.09\",\"2020.02.10\",\"2020.02.11\",\"2020.02.12\",\"2020.02.13\",\"2020.02.14\",\"2020.02.16\",\"2020.02.17\",\"2020.02.18\",\"2020.02.19\",\"2020.02.20\",\"2020.02.21\",\"2020.02.23\",\"2020.02.24\",\"2020.02.25\",\"2020.02.26\",\"2020.02.27\",\"2020.02.28\",\"2020.03.01\",\"2020.03.02\",\"2020.03.03\",\"2020.03.04\",\"2020.03.05\",\"2020.03.06\",\"2020.03.08\",\"2020.03.09\",\"2020.03.10\",\"2020.03.11\",\"2020.03.12\",\"2020.03.13\",\"2020.03.15\",\"2020.03.16\",\"2020.03.17\",\"2020.03.18\",\"2020.03.19\",\"2020.03.20\",\"2020.03.22\",\"2020.03.23\",\"2020.03.24\",\"2020.03.25\",\"2020.03.26\",\"2020.03.27\",\"2020.03.29\",\"2020.03.30\",\"2020.03.31\",\"2020.04.01\",\"2020.04.02\",\"2020.04.03\",\"2020.04.05\",\"2020.04.06\",\"2020.04.07\",\"2020.04.08\",\"2020.04.09\",\"2020.04.10\",\"2020.04.12\",\"2020.04.13\",\"2020.04.14\",\"2020.04.15\",\"2020.04.16\",\"2020.04.17\",\"2020.04.19\",\"2020.04.20\",\"2020.04.21\",\"2020.04.22\",\"2020.04.23\",\"2020.04.24\",\"2020.04.26\",\"2020.04.27\",\"2020.04.28\",\"2020.04.29\",\"2020.04.30\",\"2020.05.01\",\"2020.05.03\",\"2020.05.04\",\"2020.05.05\",\"2020.05.06\",\"2020.05.07\",\"2020.05.08\",\"2020.05.10\",\"2020.05.11\",\"2020.05.12\",\"2020.05.13\",\"2020.05.14\",\"2020.05.15\",\"2020.05.17\",\"2020.05.18\",\"2020.05.19\",\"2020.05.20\",\"2020.05.21\",\"2020.05.22\",\"2020.05.24\",\"2020.05.25\",\"2020.05.26\",\"2020.05.27\",\"2020.05.28\",\"2020.05.29\",\"2020.05.31\",\"2020.06.01\",\"2020.06.02\",\"2020.06.03\",\"2020.06.04\",\"2020.06.05\",\"2020.06.07\",\"2020.06.08\",\"2020.06.09\",\"2020.06.10\",\"2020.06.11\",\"2020.06.12\",\"2020.06.14\",\"2020.06.15\",\"2020.06.16\",\"2020.06.17\",\"2020.06.18\",\"2020.06.19\",\"2020.06.21\",\"2020.06.22\",\"2020.06.23\",\"2020.06.24\",\"2020.06.25\",\"2020.06.26\",\"2020.06.28\",\"2020.06.29\",\"2020.06.30\",\"2020.07.01\",\"2020.07.02\",\"2020.07.03\",\"2020.07.05\",\"2020.07.06\",\"2020.07.07\",\"2020.07.08\",\"2020.07.09\",\"2020.07.10\",\"2020.07.12\",\"2020.07.13\",\"2020.07.14\",\"2020.07.15\",\"2020.07.16\",\"2020.07.17\",\"2020.07.19\",\"2020.07.20\",\"2020.07.21\",\"2020.07.22\",\"2020.07.23\",\"2020.07.24\",\"2020.07.26\",\"2020.07.27\",\"2020.07.28\",\"2020.07.29\",\"2020.07.30\",\"2020.07.31\",\"2020.08.02\",\"2020.08.03\",\"2020.08.04\",\"2020.08.05\",\"2020.08.06\",\"2020.08.07\",\"2020.08.09\",\"2020.08.10\",\"2020.08.11\",\"2020.08.12\",\"2020.08.13\",\"2020.08.14\",\"2020.08.16\",\"2020.08.17\",\"2020.08.18\",\"2020.08.19\",\"2020.08.20\",\"2020.08.21\",\"2020.08.23\",\"2020.08.24\",\"2020.08.25\",\"2020.08.26\",\"2020.08.27\",\"2020.08.28\",\"2020.08.30\",\"2020.08.31\",\"2020.09.01\",\"2020.09.02\",\"2020.09.03\",\"2020.09.04\",\"2020.09.06\",\"2020.09.07\",\"2020.09.08\",\"2020.09.09\",\"2020.09.10\",\"2020.09.11\",\"2020.09.13\",\"2020.09.14\",\"2020.09.15\",\"2020.09.16\",\"2020.09.17\",\"2020.09.18\",\"2020.09.20\",\"2020.09.21\",\"2020.09.22\",\"2020.09.23\",\"2020.09.24\",\"2020.09.25\",\"2020.09.27\",\"2020.09.28\",\"2020.09.29\",\"2020.09.30\",\"2020.10.01\",\"2020.10.02\",\"2020.10.04\",\"2020.10.05\",\"2020.10.06\",\"2020.10.07\",\"2020.10.08\",\"2020.10.09\",\"2020.10.11\",\"2020.10.12\",\"2020.10.13\",\"2020.10.14\",\"2020.10.15\",\"2020.10.16\",\"2020.10.18\",\"2020.10.19\",\"2020.10.20\",\"2020.10.21\",\"2020.10.22\",\"2020.10.23\",\"2020.10.25\",\"2020.10.26\",\"2020.10.27\",\"2020.10.28\",\"2020.10.29\",\"2020.10.30\",\"2020.11.01\",\"2020.11.02\",\"2020.11.03\",\"2020.11.04\",\"2020.11.05\",\"2020.11.06\",\"2020.11.08\",\"2020.11.09\",\"2020.11.10\",\"2020.11.11\",\"2020.11.12\",\"2020.11.13\",\"2020.11.15\",\"2020.11.16\",\"2020.11.17\",\"2020.11.18\",\"2020.11.19\",\"2020.11.20\",\"2020.11.22\",\"2020.11.23\",\"2020.11.24\",\"2020.11.25\",\"2020.11.26\",\"2020.11.27\",\"2020.11.29\",\"2020.11.30\",\"2020.12.01\",\"2020.12.02\",\"2020.12.03\",\"2020.12.04\",\"2020.12.06\",\"2020.12.07\",\"2020.12.08\",\"2020.12.09\",\"2020.12.10\",\"2020.12.11\",\"2020.12.13\",\"2020.12.14\",\"2020.12.15\",\"2020.12.16\",\"2020.12.17\",\"2020.12.18\",\"2020.12.20\",\"2020.12.21\",\"2020.12.22\",\"2020.12.23\",\"2020.12.24\",\"2020.12.27\",\"2020.12.28\",\"2020.12.29\",\"2020.12.30\",\"2020.12.31\"],\"tags\":[[[\"index\",\"index\",null]]]},\"id\":\"2659\",\"type\":\"FactorRange\"},{\"attributes\":{\"text\":\"GBPUSD 2020\",\"text_color\":{\"value\":\"black\"},\"text_font_size\":{\"value\":\"12pt\"}},\"id\":\"2663\",\"type\":\"Title\"},{\"attributes\":{\"below\":[{\"id\":\"2671\"}],\"center\":[{\"id\":\"2673\"},{\"id\":\"2677\"}],\"left\":[{\"id\":\"2674\"}],\"margin\":[5,5,5,5],\"min_border_bottom\":10,\"min_border_left\":10,\"min_border_right\":10,\"min_border_top\":10,\"plot_height\":300,\"plot_width\":700,\"renderers\":[{\"id\":\"2697\"}],\"sizing_mode\":\"fixed\",\"title\":{\"id\":\"2663\"},\"toolbar\":{\"id\":\"2684\"},\"x_range\":{\"id\":\"2659\"},\"x_scale\":{\"id\":\"2667\"},\"y_range\":{\"id\":\"2660\"},\"y_scale\":{\"id\":\"2669\"}},\"id\":\"2662\",\"subtype\":\"Figure\",\"type\":\"Plot\"},{\"attributes\":{\"margin\":[5,5,5,5],\"name\":\"HSpacer05190\",\"sizing_mode\":\"stretch_width\"},\"id\":\"2719\",\"type\":\"Spacer\"},{\"attributes\":{\"margin\":[5,5,5,5],\"name\":\"HSpacer05189\",\"sizing_mode\":\"stretch_width\"},\"id\":\"2658\",\"type\":\"Spacer\"},{\"attributes\":{},\"id\":\"2678\",\"type\":\"SaveTool\"},{\"attributes\":{\"line_alpha\":0.1,\"line_color\":\"#30a2da\",\"line_width\":2,\"x\":{\"field\":\"index\"},\"y\":{\"field\":\"GBPUSD\"}},\"id\":\"2695\",\"type\":\"Line\"},{\"attributes\":{},\"id\":\"2702\",\"type\":\"BasicTickFormatter\"},{\"attributes\":{},\"id\":\"2679\",\"type\":\"PanTool\"},{\"attributes\":{},\"id\":\"2682\",\"type\":\"ResetTool\"},{\"attributes\":{},\"id\":\"2680\",\"type\":\"WheelZoomTool\"},{\"attributes\":{\"data\":{\"GBPUSD\":{\"__ndarray__\":\"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\",\"dtype\":\"float64\",\"order\":\"little\",\"shape\":[312]},\"index\":[\"2020.01.02\",\"2020.01.03\",\"2020.01.05\",\"2020.01.06\",\"2020.01.07\",\"2020.01.08\",\"2020.01.09\",\"2020.01.10\",\"2020.01.12\",\"2020.01.13\",\"2020.01.14\",\"2020.01.15\",\"2020.01.16\",\"2020.01.17\",\"2020.01.19\",\"2020.01.20\",\"2020.01.21\",\"2020.01.22\",\"2020.01.23\",\"2020.01.24\",\"2020.01.26\",\"2020.01.27\",\"2020.01.28\",\"2020.01.29\",\"2020.01.30\",\"2020.01.31\",\"2020.02.02\",\"2020.02.03\",\"2020.02.04\",\"2020.02.05\",\"2020.02.06\",\"2020.02.07\",\"2020.02.09\",\"2020.02.10\",\"2020.02.11\",\"2020.02.12\",\"2020.02.13\",\"2020.02.14\",\"2020.02.16\",\"2020.02.17\",\"2020.02.18\",\"2020.02.19\",\"2020.02.20\",\"2020.02.21\",\"2020.02.23\",\"2020.02.24\",\"2020.02.25\",\"2020.02.26\",\"2020.02.27\",\"2020.02.28\",\"2020.03.01\",\"2020.03.02\",\"2020.03.03\",\"2020.03.04\",\"2020.03.05\",\"2020.03.06\",\"2020.03.08\",\"2020.03.09\",\"2020.03.10\",\"2020.03.11\",\"2020.03.12\",\"2020.03.13\",\"2020.03.15\",\"2020.03.16\",\"2020.03.17\",\"2020.03.18\",\"2020.03.19\",\"2020.03.20\",\"2020.03.22\",\"2020.03.23\",\"2020.03.24\",\"2020.03.25\",\"2020.03.26\",\"2020.03.27\",\"2020.03.29\",\"2020.03.30\",\"2020.03.31\",\"2020.04.01\",\"2020.04.02\",\"2020.04.03\",\"2020.04.05\",\"2020.04.06\",\"2020.04.07\",\"2020.04.08\",\"2020.04.09\",\"2020.04.10\",\"2020.04.12\",\"2020.04.13\",\"2020.04.14\",\"2020.04.15\",\"2020.04.16\",\"2020.04.17\",\"2020.04.19\",\"2020.04.20\",\"2020.04.21\",\"2020.04.22\",\"2020.04.23\",\"2020.04.24\",\"2020.04.26\",\"2020.04.27\",\"2020.04.28\",\"2020.04.29\",\"2020.04.30\",\"2020.05.01\",\"2020.05.03\",\"2020.05.04\",\"2020.05.05\",\"2020.05.06\",\"2020.05.07\",\"2020.05.08\",\"2020.05.10\",\"2020.05.11\",\"2020.05.12\",\"2020.05.13\",\"2020.05.14\",\"2020.05.15\",\"2020.05.17\",\"2020.05.18\",\"2020.05.19\",\"2020.05.20\",\"2020.05.21\",\"2020.05.22\",\"2020.05.24\",\"2020.05.25\",\"2020.05.26\",\"2020.05.27\",\"2020.05.28\",\"2020.05.29\",\"2020.05.31\",\"2020.06.01\",\"2020.06.02\",\"2020.06.03\",\"2020.06.04\",\"2020.06.05\",\"2020.06.07\",\"2020.06.08\",\"2020.06.09\",\"2020.06.10\",\"2020.06.11\",\"2020.06.12\",\"2020.06.14\",\"2020.06.15\",\"2020.06.16\",\"2020.06.17\",\"2020.06.18\",\"2020.06.19\",\"2020.06.21\",\"2020.06.22\",\"2020.06.23\",\"2020.06.24\",\"2020.06.25\",\"2020.06.26\",\"2020.06.28\",\"2020.06.29\",\"2020.06.30\",\"2020.07.01\",\"2020.07.02\",\"2020.07.03\",\"2020.07.05\",\"2020.07.06\",\"2020.07.07\",\"2020.07.08\",\"2020.07.09\",\"2020.07.10\",\"2020.07.12\",\"2020.07.13\",\"2020.07.14\",\"2020.07.15\",\"2020.07.16\",\"2020.07.17\",\"2020.07.19\",\"2020.07.20\",\"2020.07.21\",\"2020.07.22\",\"2020.07.23\",\"2020.07.24\",\"2020.07.26\",\"2020.07.27\",\"2020.07.28\",\"2020.07.29\",\"2020.07.30\",\"2020.07.31\",\"2020.08.02\",\"2020.08.03\",\"2020.08.04\",\"2020.08.05\",\"2020.08.06\",\"2020.08.07\",\"2020.08.09\",\"2020.08.10\",\"2020.08.11\",\"2020.08.12\",\"2020.08.13\",\"2020.08.14\",\"2020.08.16\",\"2020.08.17\",\"2020.08.18\",\"2020.08.19\",\"2020.08.20\",\"2020.08.21\",\"2020.08.23\",\"2020.08.24\",\"2020.08.25\",\"2020.08.26\",\"2020.08.27\",\"2020.08.28\",\"2020.08.30\",\"2020.08.31\",\"2020.09.01\",\"2020.09.02\",\"2020.09.03\",\"2020.09.04\",\"2020.09.06\",\"2020.09.07\",\"2020.09.08\",\"2020.09.09\",\"2020.09.10\",\"2020.09.11\",\"2020.09.13\",\"2020.09.14\",\"2020.09.15\",\"2020.09.16\",\"2020.09.17\",\"2020.09.18\",\"2020.09.20\",\"2020.09.21\",\"2020.09.22\",\"2020.09.23\",\"2020.09.24\",\"2020.09.25\",\"2020.09.27\",\"2020.09.28\",\"2020.09.29\",\"2020.09.30\",\"2020.10.01\",\"2020.10.02\",\"2020.10.04\",\"2020.10.05\",\"2020.10.06\",\"2020.10.07\",\"2020.10.08\",\"2020.10.09\",\"2020.10.11\",\"2020.10.12\",\"2020.10.13\",\"2020.10.14\",\"2020.10.15\",\"2020.10.16\",\"2020.10.18\",\"2020.10.19\",\"2020.10.20\",\"2020.10.21\",\"2020.10.22\",\"2020.10.23\",\"2020.10.25\",\"2020.10.26\",\"2020.10.27\",\"2020.10.28\",\"2020.10.29\",\"2020.10.30\",\"2020.11.01\",\"2020.11.02\",\"2020.11.03\",\"2020.11.04\",\"2020.11.05\",\"2020.11.06\",\"2020.11.08\",\"2020.11.09\",\"2020.11.10\",\"2020.11.11\",\"2020.11.12\",\"2020.11.13\",\"2020.11.15\",\"2020.11.16\",\"2020.11.17\",\"2020.11.18\",\"2020.11.19\",\"2020.11.20\",\"2020.11.22\",\"2020.11.23\",\"2020.11.24\",\"2020.11.25\",\"2020.11.26\",\"2020.11.27\",\"2020.11.29\",\"2020.11.30\",\"2020.12.01\",\"2020.12.02\",\"2020.12.03\",\"2020.12.04\",\"2020.12.06\",\"2020.12.07\",\"2020.12.08\",\"2020.12.09\",\"2020.12.10\",\"2020.12.11\",\"2020.12.13\",\"2020.12.14\",\"2020.12.15\",\"2020.12.16\",\"2020.12.17\",\"2020.12.18\",\"2020.12.20\",\"2020.12.21\",\"2020.12.22\",\"2020.12.23\",\"2020.12.24\",\"2020.12.27\",\"2020.12.28\",\"2020.12.29\",\"2020.12.30\",\"2020.12.31\"]},\"selected\":{\"id\":\"2692\"},\"selection_policy\":{\"id\":\"2709\"}},\"id\":\"2691\",\"type\":\"ColumnDataSource\"},{\"attributes\":{\"overlay\":{\"id\":\"2683\"}},\"id\":\"2681\",\"type\":\"BoxZoomTool\"},{\"attributes\":{},\"id\":\"2667\",\"type\":\"CategoricalScale\"},{\"attributes\":{\"axis\":{\"id\":\"2671\"},\"grid_line_color\":null,\"ticker\":null},\"id\":\"2673\",\"type\":\"Grid\"},{\"attributes\":{},\"id\":\"2672\",\"type\":\"CategoricalTicker\"},{\"attributes\":{},\"id\":\"2669\",\"type\":\"LinearScale\"},{\"attributes\":{\"callback\":null,\"renderers\":[{\"id\":\"2697\"}],\"tags\":[\"hv_created\"],\"tooltips\":[[\"index\",\"@{index}\"],[\"GBPUSD\",\"@{GBPUSD}\"]]},\"id\":\"2661\",\"type\":\"HoverTool\"},{\"attributes\":{},\"id\":\"2700\",\"type\":\"CategoricalTickFormatter\"},{\"attributes\":{},\"id\":\"2709\",\"type\":\"UnionRenderers\"},{\"attributes\":{\"axis_label\":\"\",\"bounds\":\"auto\",\"formatter\":{\"id\":\"2700\"},\"major_label_orientation\":\"horizontal\",\"ticker\":{\"id\":\"2672\"}},\"id\":\"2671\",\"type\":\"CategoricalAxis\"},{\"attributes\":{\"line_color\":\"#30a2da\",\"line_width\":2,\"x\":{\"field\":\"index\"},\"y\":{\"field\":\"GBPUSD\"}},\"id\":\"2694\",\"type\":\"Line\"},{\"attributes\":{\"end\":1.388426,\"reset_end\":1.388426,\"reset_start\":1.121114,\"start\":1.121114,\"tags\":[[[\"GBPUSD\",\"GBPUSD\",null]]]},\"id\":\"2660\",\"type\":\"Range1d\"}],\"root_ids\":[\"2657\"]},\"title\":\"Bokeh Application\",\"version\":\"2.2.3\"}};\n",
       "    var render_items = [{\"docid\":\"4f10106f-bc50-47aa-8912-bccf9aec0ad0\",\"root_ids\":[\"2657\"],\"roots\":{\"2657\":\"e770889c-6cd8-4f2a-b784-330b2acece7a\"}}];\n",
       "    root.Bokeh.embed.embed_items_notebook(docs_json, render_items);\n",
       "  }\n",
       "  if (root.Bokeh !== undefined && root.Bokeh.Panel !== undefined) {\n",
       "    embed_document(root);\n",
       "  } else {\n",
       "    var attempts = 0;\n",
       "    var timer = setInterval(function(root) {\n",
       "      if (root.Bokeh !== undefined && root.Bokeh.Panel !== undefined) {\n",
       "        clearInterval(timer);\n",
       "        embed_document(root);\n",
       "      } else if (document.readyState == \"complete\") {\n",
       "        attempts++;\n",
       "        if (attempts > 100) {\n",
       "          clearInterval(timer);\n",
       "          console.log(\"Bokeh: ERROR: Unable to run BokehJS code because BokehJS library is missing\");\n",
       "        }\n",
       "      }\n",
       "    }, 10, root)\n",
       "  }\n",
       "})(window);</script>"
      ],
      "text/plain": [
       ":Curve   [index]   (GBPUSD)"
      ]
     },
     "execution_count": 41,
     "metadata": {
      "application/vnd.holoviews_exec.v0+json": {
       "id": "2657"
      }
     },
     "output_type": "execute_result"
    }
   ],
   "source": [
    "# plot GBPUSD\n",
    "GBPUSD_plot = major7_date_col.hvplot(title='GBPUSD 2020', y='GBPUSD')\n",
    "GBPUSD_plot"
   ]
  },
  {
   "cell_type": "code",
   "execution_count": 42,
   "metadata": {},
   "outputs": [
    {
     "data": {},
     "metadata": {},
     "output_type": "display_data"
    },
    {
     "data": {
      "application/vnd.holoviews_exec.v0+json": "",
      "text/html": [
       "<div id='2761'>\n",
       "\n",
       "\n",
       "\n",
       "\n",
       "\n",
       "  <div class=\"bk-root\" id=\"981e2ea4-c34d-4cba-a37e-a49406ad734c\" data-root-id=\"2761\"></div>\n",
       "</div>\n",
       "<script type=\"application/javascript\">(function(root) {\n",
       "  function embed_document(root) {\n",
       "    var docs_json = {\"76e4d74b-d97d-4d75-9c29-2aeb782408fa\":{\"roots\":{\"references\":[{\"attributes\":{},\"id\":\"2804\",\"type\":\"CategoricalTickFormatter\"},{\"attributes\":{},\"id\":\"2813\",\"type\":\"UnionRenderers\"},{\"attributes\":{\"axis\":{\"id\":\"2778\"},\"dimension\":1,\"grid_line_color\":null,\"ticker\":null},\"id\":\"2781\",\"type\":\"Grid\"},{\"attributes\":{\"active_drag\":\"auto\",\"active_inspect\":\"auto\",\"active_multi\":null,\"active_scroll\":\"auto\",\"active_tap\":\"auto\",\"tools\":[{\"id\":\"2765\"},{\"id\":\"2782\"},{\"id\":\"2783\"},{\"id\":\"2784\"},{\"id\":\"2785\"},{\"id\":\"2786\"}]},\"id\":\"2788\",\"type\":\"Toolbar\"},{\"attributes\":{\"margin\":[5,5,5,5],\"name\":\"HSpacer05375\",\"sizing_mode\":\"stretch_width\"},\"id\":\"2823\",\"type\":\"Spacer\"},{\"attributes\":{},\"id\":\"2779\",\"type\":\"BasicTicker\"},{\"attributes\":{\"source\":{\"id\":\"2795\"}},\"id\":\"2802\",\"type\":\"CDSView\"},{\"attributes\":{\"factors\":[\"2020.01.02\",\"2020.01.03\",\"2020.01.05\",\"2020.01.06\",\"2020.01.07\",\"2020.01.08\",\"2020.01.09\",\"2020.01.10\",\"2020.01.12\",\"2020.01.13\",\"2020.01.14\",\"2020.01.15\",\"2020.01.16\",\"2020.01.17\",\"2020.01.19\",\"2020.01.20\",\"2020.01.21\",\"2020.01.22\",\"2020.01.23\",\"2020.01.24\",\"2020.01.26\",\"2020.01.27\",\"2020.01.28\",\"2020.01.29\",\"2020.01.30\",\"2020.01.31\",\"2020.02.02\",\"2020.02.03\",\"2020.02.04\",\"2020.02.05\",\"2020.02.06\",\"2020.02.07\",\"2020.02.09\",\"2020.02.10\",\"2020.02.11\",\"2020.02.12\",\"2020.02.13\",\"2020.02.14\",\"2020.02.16\",\"2020.02.17\",\"2020.02.18\",\"2020.02.19\",\"2020.02.20\",\"2020.02.21\",\"2020.02.23\",\"2020.02.24\",\"2020.02.25\",\"2020.02.26\",\"2020.02.27\",\"2020.02.28\",\"2020.03.01\",\"2020.03.02\",\"2020.03.03\",\"2020.03.04\",\"2020.03.05\",\"2020.03.06\",\"2020.03.08\",\"2020.03.09\",\"2020.03.10\",\"2020.03.11\",\"2020.03.12\",\"2020.03.13\",\"2020.03.15\",\"2020.03.16\",\"2020.03.17\",\"2020.03.18\",\"2020.03.19\",\"2020.03.20\",\"2020.03.22\",\"2020.03.23\",\"2020.03.24\",\"2020.03.25\",\"2020.03.26\",\"2020.03.27\",\"2020.03.29\",\"2020.03.30\",\"2020.03.31\",\"2020.04.01\",\"2020.04.02\",\"2020.04.03\",\"2020.04.05\",\"2020.04.06\",\"2020.04.07\",\"2020.04.08\",\"2020.04.09\",\"2020.04.10\",\"2020.04.12\",\"2020.04.13\",\"2020.04.14\",\"2020.04.15\",\"2020.04.16\",\"2020.04.17\",\"2020.04.19\",\"2020.04.20\",\"2020.04.21\",\"2020.04.22\",\"2020.04.23\",\"2020.04.24\",\"2020.04.26\",\"2020.04.27\",\"2020.04.28\",\"2020.04.29\",\"2020.04.30\",\"2020.05.01\",\"2020.05.03\",\"2020.05.04\",\"2020.05.05\",\"2020.05.06\",\"2020.05.07\",\"2020.05.08\",\"2020.05.10\",\"2020.05.11\",\"2020.05.12\",\"2020.05.13\",\"2020.05.14\",\"2020.05.15\",\"2020.05.17\",\"2020.05.18\",\"2020.05.19\",\"2020.05.20\",\"2020.05.21\",\"2020.05.22\",\"2020.05.24\",\"2020.05.25\",\"2020.05.26\",\"2020.05.27\",\"2020.05.28\",\"2020.05.29\",\"2020.05.31\",\"2020.06.01\",\"2020.06.02\",\"2020.06.03\",\"2020.06.04\",\"2020.06.05\",\"2020.06.07\",\"2020.06.08\",\"2020.06.09\",\"2020.06.10\",\"2020.06.11\",\"2020.06.12\",\"2020.06.14\",\"2020.06.15\",\"2020.06.16\",\"2020.06.17\",\"2020.06.18\",\"2020.06.19\",\"2020.06.21\",\"2020.06.22\",\"2020.06.23\",\"2020.06.24\",\"2020.06.25\",\"2020.06.26\",\"2020.06.28\",\"2020.06.29\",\"2020.06.30\",\"2020.07.01\",\"2020.07.02\",\"2020.07.03\",\"2020.07.05\",\"2020.07.06\",\"2020.07.07\",\"2020.07.08\",\"2020.07.09\",\"2020.07.10\",\"2020.07.12\",\"2020.07.13\",\"2020.07.14\",\"2020.07.15\",\"2020.07.16\",\"2020.07.17\",\"2020.07.19\",\"2020.07.20\",\"2020.07.21\",\"2020.07.22\",\"2020.07.23\",\"2020.07.24\",\"2020.07.26\",\"2020.07.27\",\"2020.07.28\",\"2020.07.29\",\"2020.07.30\",\"2020.07.31\",\"2020.08.02\",\"2020.08.03\",\"2020.08.04\",\"2020.08.05\",\"2020.08.06\",\"2020.08.07\",\"2020.08.09\",\"2020.08.10\",\"2020.08.11\",\"2020.08.12\",\"2020.08.13\",\"2020.08.14\",\"2020.08.16\",\"2020.08.17\",\"2020.08.18\",\"2020.08.19\",\"2020.08.20\",\"2020.08.21\",\"2020.08.23\",\"2020.08.24\",\"2020.08.25\",\"2020.08.26\",\"2020.08.27\",\"2020.08.28\",\"2020.08.30\",\"2020.08.31\",\"2020.09.01\",\"2020.09.02\",\"2020.09.03\",\"2020.09.04\",\"2020.09.06\",\"2020.09.07\",\"2020.09.08\",\"2020.09.09\",\"2020.09.10\",\"2020.09.11\",\"2020.09.13\",\"2020.09.14\",\"2020.09.15\",\"2020.09.16\",\"2020.09.17\",\"2020.09.18\",\"2020.09.20\",\"2020.09.21\",\"2020.09.22\",\"2020.09.23\",\"2020.09.24\",\"2020.09.25\",\"2020.09.27\",\"2020.09.28\",\"2020.09.29\",\"2020.09.30\",\"2020.10.01\",\"2020.10.02\",\"2020.10.04\",\"2020.10.05\",\"2020.10.06\",\"2020.10.07\",\"2020.10.08\",\"2020.10.09\",\"2020.10.11\",\"2020.10.12\",\"2020.10.13\",\"2020.10.14\",\"2020.10.15\",\"2020.10.16\",\"2020.10.18\",\"2020.10.19\",\"2020.10.20\",\"2020.10.21\",\"2020.10.22\",\"2020.10.23\",\"2020.10.25\",\"2020.10.26\",\"2020.10.27\",\"2020.10.28\",\"2020.10.29\",\"2020.10.30\",\"2020.11.01\",\"2020.11.02\",\"2020.11.03\",\"2020.11.04\",\"2020.11.05\",\"2020.11.06\",\"2020.11.08\",\"2020.11.09\",\"2020.11.10\",\"2020.11.11\",\"2020.11.12\",\"2020.11.13\",\"2020.11.15\",\"2020.11.16\",\"2020.11.17\",\"2020.11.18\",\"2020.11.19\",\"2020.11.20\",\"2020.11.22\",\"2020.11.23\",\"2020.11.24\",\"2020.11.25\",\"2020.11.26\",\"2020.11.27\",\"2020.11.29\",\"2020.11.30\",\"2020.12.01\",\"2020.12.02\",\"2020.12.03\",\"2020.12.04\",\"2020.12.06\",\"2020.12.07\",\"2020.12.08\",\"2020.12.09\",\"2020.12.10\",\"2020.12.11\",\"2020.12.13\",\"2020.12.14\",\"2020.12.15\",\"2020.12.16\",\"2020.12.17\",\"2020.12.18\",\"2020.12.20\",\"2020.12.21\",\"2020.12.22\",\"2020.12.23\",\"2020.12.24\",\"2020.12.27\",\"2020.12.28\",\"2020.12.29\",\"2020.12.30\",\"2020.12.31\"],\"tags\":[[[\"index\",\"index\",null]]]},\"id\":\"2763\",\"type\":\"FactorRange\"},{\"attributes\":{\"bottom_units\":\"screen\",\"fill_alpha\":0.5,\"fill_color\":\"lightgrey\",\"left_units\":\"screen\",\"level\":\"overlay\",\"line_alpha\":1.0,\"line_color\":\"black\",\"line_dash\":[4,4],\"line_width\":2,\"right_units\":\"screen\",\"top_units\":\"screen\"},\"id\":\"2787\",\"type\":\"BoxAnnotation\"},{\"attributes\":{},\"id\":\"2796\",\"type\":\"Selection\"},{\"attributes\":{\"children\":[{\"id\":\"2762\"},{\"id\":\"2766\"},{\"id\":\"2823\"}],\"margin\":[0,0,0,0],\"name\":\"Row05370\",\"tags\":[\"embedded\"]},\"id\":\"2761\",\"type\":\"Row\"},{\"attributes\":{\"text\":\"NZDUSD 2020\",\"text_color\":{\"value\":\"black\"},\"text_font_size\":{\"value\":\"12pt\"}},\"id\":\"2767\",\"type\":\"Title\"},{\"attributes\":{\"line_alpha\":0.2,\"line_color\":\"#30a2da\",\"line_width\":2,\"x\":{\"field\":\"index\"},\"y\":{\"field\":\"NZDUSD\"}},\"id\":\"2800\",\"type\":\"Line\"},{\"attributes\":{\"below\":[{\"id\":\"2775\"}],\"center\":[{\"id\":\"2777\"},{\"id\":\"2781\"}],\"left\":[{\"id\":\"2778\"}],\"margin\":[5,5,5,5],\"min_border_bottom\":10,\"min_border_left\":10,\"min_border_right\":10,\"min_border_top\":10,\"plot_height\":300,\"plot_width\":700,\"renderers\":[{\"id\":\"2801\"}],\"sizing_mode\":\"fixed\",\"title\":{\"id\":\"2767\"},\"toolbar\":{\"id\":\"2788\"},\"x_range\":{\"id\":\"2763\"},\"x_scale\":{\"id\":\"2771\"},\"y_range\":{\"id\":\"2764\"},\"y_scale\":{\"id\":\"2773\"}},\"id\":\"2766\",\"subtype\":\"Figure\",\"type\":\"Plot\"},{\"attributes\":{},\"id\":\"2782\",\"type\":\"SaveTool\"},{\"attributes\":{},\"id\":\"2783\",\"type\":\"PanTool\"},{\"attributes\":{},\"id\":\"2806\",\"type\":\"BasicTickFormatter\"},{\"attributes\":{\"margin\":[5,5,5,5],\"name\":\"HSpacer05374\",\"sizing_mode\":\"stretch_width\"},\"id\":\"2762\",\"type\":\"Spacer\"},{\"attributes\":{},\"id\":\"2786\",\"type\":\"ResetTool\"},{\"attributes\":{\"line_color\":\"#30a2da\",\"line_width\":2,\"x\":{\"field\":\"index\"},\"y\":{\"field\":\"NZDUSD\"}},\"id\":\"2798\",\"type\":\"Line\"},{\"attributes\":{},\"id\":\"2784\",\"type\":\"WheelZoomTool\"},{\"attributes\":{\"overlay\":{\"id\":\"2787\"}},\"id\":\"2785\",\"type\":\"BoxZoomTool\"},{\"attributes\":{\"data_source\":{\"id\":\"2795\"},\"glyph\":{\"id\":\"2798\"},\"hover_glyph\":null,\"muted_glyph\":{\"id\":\"2800\"},\"nonselection_glyph\":{\"id\":\"2799\"},\"selection_glyph\":null,\"view\":{\"id\":\"2802\"}},\"id\":\"2801\",\"type\":\"GlyphRenderer\"},{\"attributes\":{\"data\":{\"NZDUSD\":{\"__ndarray__\":\"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\",\"dtype\":\"float64\",\"order\":\"little\",\"shape\":[312]},\"index\":[\"2020.01.02\",\"2020.01.03\",\"2020.01.05\",\"2020.01.06\",\"2020.01.07\",\"2020.01.08\",\"2020.01.09\",\"2020.01.10\",\"2020.01.12\",\"2020.01.13\",\"2020.01.14\",\"2020.01.15\",\"2020.01.16\",\"2020.01.17\",\"2020.01.19\",\"2020.01.20\",\"2020.01.21\",\"2020.01.22\",\"2020.01.23\",\"2020.01.24\",\"2020.01.26\",\"2020.01.27\",\"2020.01.28\",\"2020.01.29\",\"2020.01.30\",\"2020.01.31\",\"2020.02.02\",\"2020.02.03\",\"2020.02.04\",\"2020.02.05\",\"2020.02.06\",\"2020.02.07\",\"2020.02.09\",\"2020.02.10\",\"2020.02.11\",\"2020.02.12\",\"2020.02.13\",\"2020.02.14\",\"2020.02.16\",\"2020.02.17\",\"2020.02.18\",\"2020.02.19\",\"2020.02.20\",\"2020.02.21\",\"2020.02.23\",\"2020.02.24\",\"2020.02.25\",\"2020.02.26\",\"2020.02.27\",\"2020.02.28\",\"2020.03.01\",\"2020.03.02\",\"2020.03.03\",\"2020.03.04\",\"2020.03.05\",\"2020.03.06\",\"2020.03.08\",\"2020.03.09\",\"2020.03.10\",\"2020.03.11\",\"2020.03.12\",\"2020.03.13\",\"2020.03.15\",\"2020.03.16\",\"2020.03.17\",\"2020.03.18\",\"2020.03.19\",\"2020.03.20\",\"2020.03.22\",\"2020.03.23\",\"2020.03.24\",\"2020.03.25\",\"2020.03.26\",\"2020.03.27\",\"2020.03.29\",\"2020.03.30\",\"2020.03.31\",\"2020.04.01\",\"2020.04.02\",\"2020.04.03\",\"2020.04.05\",\"2020.04.06\",\"2020.04.07\",\"2020.04.08\",\"2020.04.09\",\"2020.04.10\",\"2020.04.12\",\"2020.04.13\",\"2020.04.14\",\"2020.04.15\",\"2020.04.16\",\"2020.04.17\",\"2020.04.19\",\"2020.04.20\",\"2020.04.21\",\"2020.04.22\",\"2020.04.23\",\"2020.04.24\",\"2020.04.26\",\"2020.04.27\",\"2020.04.28\",\"2020.04.29\",\"2020.04.30\",\"2020.05.01\",\"2020.05.03\",\"2020.05.04\",\"2020.05.05\",\"2020.05.06\",\"2020.05.07\",\"2020.05.08\",\"2020.05.10\",\"2020.05.11\",\"2020.05.12\",\"2020.05.13\",\"2020.05.14\",\"2020.05.15\",\"2020.05.17\",\"2020.05.18\",\"2020.05.19\",\"2020.05.20\",\"2020.05.21\",\"2020.05.22\",\"2020.05.24\",\"2020.05.25\",\"2020.05.26\",\"2020.05.27\",\"2020.05.28\",\"2020.05.29\",\"2020.05.31\",\"2020.06.01\",\"2020.06.02\",\"2020.06.03\",\"2020.06.04\",\"2020.06.05\",\"2020.06.07\",\"2020.06.08\",\"2020.06.09\",\"2020.06.10\",\"2020.06.11\",\"2020.06.12\",\"2020.06.14\",\"2020.06.15\",\"2020.06.16\",\"2020.06.17\",\"2020.06.18\",\"2020.06.19\",\"2020.06.21\",\"2020.06.22\",\"2020.06.23\",\"2020.06.24\",\"2020.06.25\",\"2020.06.26\",\"2020.06.28\",\"2020.06.29\",\"2020.06.30\",\"2020.07.01\",\"2020.07.02\",\"2020.07.03\",\"2020.07.05\",\"2020.07.06\",\"2020.07.07\",\"2020.07.08\",\"2020.07.09\",\"2020.07.10\",\"2020.07.12\",\"2020.07.13\",\"2020.07.14\",\"2020.07.15\",\"2020.07.16\",\"2020.07.17\",\"2020.07.19\",\"2020.07.20\",\"2020.07.21\",\"2020.07.22\",\"2020.07.23\",\"2020.07.24\",\"2020.07.26\",\"2020.07.27\",\"2020.07.28\",\"2020.07.29\",\"2020.07.30\",\"2020.07.31\",\"2020.08.02\",\"2020.08.03\",\"2020.08.04\",\"2020.08.05\",\"2020.08.06\",\"2020.08.07\",\"2020.08.09\",\"2020.08.10\",\"2020.08.11\",\"2020.08.12\",\"2020.08.13\",\"2020.08.14\",\"2020.08.16\",\"2020.08.17\",\"2020.08.18\",\"2020.08.19\",\"2020.08.20\",\"2020.08.21\",\"2020.08.23\",\"2020.08.24\",\"2020.08.25\",\"2020.08.26\",\"2020.08.27\",\"2020.08.28\",\"2020.08.30\",\"2020.08.31\",\"2020.09.01\",\"2020.09.02\",\"2020.09.03\",\"2020.09.04\",\"2020.09.06\",\"2020.09.07\",\"2020.09.08\",\"2020.09.09\",\"2020.09.10\",\"2020.09.11\",\"2020.09.13\",\"2020.09.14\",\"2020.09.15\",\"2020.09.16\",\"2020.09.17\",\"2020.09.18\",\"2020.09.20\",\"2020.09.21\",\"2020.09.22\",\"2020.09.23\",\"2020.09.24\",\"2020.09.25\",\"2020.09.27\",\"2020.09.28\",\"2020.09.29\",\"2020.09.30\",\"2020.10.01\",\"2020.10.02\",\"2020.10.04\",\"2020.10.05\",\"2020.10.06\",\"2020.10.07\",\"2020.10.08\",\"2020.10.09\",\"2020.10.11\",\"2020.10.12\",\"2020.10.13\",\"2020.10.14\",\"2020.10.15\",\"2020.10.16\",\"2020.10.18\",\"2020.10.19\",\"2020.10.20\",\"2020.10.21\",\"2020.10.22\",\"2020.10.23\",\"2020.10.25\",\"2020.10.26\",\"2020.10.27\",\"2020.10.28\",\"2020.10.29\",\"2020.10.30\",\"2020.11.01\",\"2020.11.02\",\"2020.11.03\",\"2020.11.04\",\"2020.11.05\",\"2020.11.06\",\"2020.11.08\",\"2020.11.09\",\"2020.11.10\",\"2020.11.11\",\"2020.11.12\",\"2020.11.13\",\"2020.11.15\",\"2020.11.16\",\"2020.11.17\",\"2020.11.18\",\"2020.11.19\",\"2020.11.20\",\"2020.11.22\",\"2020.11.23\",\"2020.11.24\",\"2020.11.25\",\"2020.11.26\",\"2020.11.27\",\"2020.11.29\",\"2020.11.30\",\"2020.12.01\",\"2020.12.02\",\"2020.12.03\",\"2020.12.04\",\"2020.12.06\",\"2020.12.07\",\"2020.12.08\",\"2020.12.09\",\"2020.12.10\",\"2020.12.11\",\"2020.12.13\",\"2020.12.14\",\"2020.12.15\",\"2020.12.16\",\"2020.12.17\",\"2020.12.18\",\"2020.12.20\",\"2020.12.21\",\"2020.12.22\",\"2020.12.23\",\"2020.12.24\",\"2020.12.27\",\"2020.12.28\",\"2020.12.29\",\"2020.12.30\",\"2020.12.31\"]},\"selected\":{\"id\":\"2796\"},\"selection_policy\":{\"id\":\"2813\"}},\"id\":\"2795\",\"type\":\"ColumnDataSource\"},{\"attributes\":{},\"id\":\"2771\",\"type\":\"CategoricalScale\"},{\"attributes\":{\"line_alpha\":0.1,\"line_color\":\"#30a2da\",\"line_width\":2,\"x\":{\"field\":\"index\"},\"y\":{\"field\":\"NZDUSD\"}},\"id\":\"2799\",\"type\":\"Line\"},{\"attributes\":{\"axis\":{\"id\":\"2775\"},\"grid_line_color\":null,\"ticker\":null},\"id\":\"2777\",\"type\":\"Grid\"},{\"attributes\":{},\"id\":\"2776\",\"type\":\"CategoricalTicker\"},{\"attributes\":{},\"id\":\"2773\",\"type\":\"LinearScale\"},{\"attributes\":{\"callback\":null,\"renderers\":[{\"id\":\"2801\"}],\"tags\":[\"hv_created\"],\"tooltips\":[[\"index\",\"@{index}\"],[\"NZDUSD\",\"@{NZDUSD}\"]]},\"id\":\"2765\",\"type\":\"HoverTool\"},{\"attributes\":{\"axis_label\":\"\",\"bounds\":\"auto\",\"formatter\":{\"id\":\"2804\"},\"major_label_orientation\":\"horizontal\",\"ticker\":{\"id\":\"2776\"}},\"id\":\"2775\",\"type\":\"CategoricalAxis\"},{\"attributes\":{\"axis_label\":\"NZDUSD\",\"bounds\":\"auto\",\"formatter\":{\"id\":\"2806\"},\"major_label_orientation\":\"horizontal\",\"ticker\":{\"id\":\"2779\"}},\"id\":\"2778\",\"type\":\"LinearAxis\"},{\"attributes\":{\"end\":0.737425,\"reset_end\":0.737425,\"reset_start\":0.5453650000000001,\"start\":0.5453650000000001,\"tags\":[[[\"NZDUSD\",\"NZDUSD\",null]]]},\"id\":\"2764\",\"type\":\"Range1d\"}],\"root_ids\":[\"2761\"]},\"title\":\"Bokeh Application\",\"version\":\"2.2.3\"}};\n",
       "    var render_items = [{\"docid\":\"76e4d74b-d97d-4d75-9c29-2aeb782408fa\",\"root_ids\":[\"2761\"],\"roots\":{\"2761\":\"981e2ea4-c34d-4cba-a37e-a49406ad734c\"}}];\n",
       "    root.Bokeh.embed.embed_items_notebook(docs_json, render_items);\n",
       "  }\n",
       "  if (root.Bokeh !== undefined && root.Bokeh.Panel !== undefined) {\n",
       "    embed_document(root);\n",
       "  } else {\n",
       "    var attempts = 0;\n",
       "    var timer = setInterval(function(root) {\n",
       "      if (root.Bokeh !== undefined && root.Bokeh.Panel !== undefined) {\n",
       "        clearInterval(timer);\n",
       "        embed_document(root);\n",
       "      } else if (document.readyState == \"complete\") {\n",
       "        attempts++;\n",
       "        if (attempts > 100) {\n",
       "          clearInterval(timer);\n",
       "          console.log(\"Bokeh: ERROR: Unable to run BokehJS code because BokehJS library is missing\");\n",
       "        }\n",
       "      }\n",
       "    }, 10, root)\n",
       "  }\n",
       "})(window);</script>"
      ],
      "text/plain": [
       ":Curve   [index]   (NZDUSD)"
      ]
     },
     "execution_count": 42,
     "metadata": {
      "application/vnd.holoviews_exec.v0+json": {
       "id": "2761"
      }
     },
     "output_type": "execute_result"
    }
   ],
   "source": [
    "# plot NZDUSD\n",
    "NZDUSD_plot = major7_date_col.hvplot(title='NZDUSD 2020', y='NZDUSD')\n",
    "NZDUSD_plot"
   ]
  },
  {
   "cell_type": "code",
   "execution_count": 43,
   "metadata": {},
   "outputs": [
    {
     "data": {},
     "metadata": {},
     "output_type": "display_data"
    },
    {
     "data": {
      "application/vnd.holoviews_exec.v0+json": "",
      "text/html": [
       "<div id='2865'>\n",
       "\n",
       "\n",
       "\n",
       "\n",
       "\n",
       "  <div class=\"bk-root\" id=\"03eb0806-0f50-4dda-a465-3ffaeb7be428\" data-root-id=\"2865\"></div>\n",
       "</div>\n",
       "<script type=\"application/javascript\">(function(root) {\n",
       "  function embed_document(root) {\n",
       "    var docs_json = {\"664d91a6-a4d0-4b3a-99b0-da5eb97dbc57\":{\"roots\":{\"references\":[{\"attributes\":{\"axis\":{\"id\":\"2882\"},\"dimension\":1,\"grid_line_color\":null,\"ticker\":null},\"id\":\"2885\",\"type\":\"Grid\"},{\"attributes\":{\"active_drag\":\"auto\",\"active_inspect\":\"auto\",\"active_multi\":null,\"active_scroll\":\"auto\",\"active_tap\":\"auto\",\"tools\":[{\"id\":\"2869\"},{\"id\":\"2886\"},{\"id\":\"2887\"},{\"id\":\"2888\"},{\"id\":\"2889\"},{\"id\":\"2890\"}]},\"id\":\"2892\",\"type\":\"Toolbar\"},{\"attributes\":{},\"id\":\"2883\",\"type\":\"BasicTicker\"},{\"attributes\":{\"axis_label\":\"USDCAD\",\"bounds\":\"auto\",\"formatter\":{\"id\":\"2910\"},\"major_label_orientation\":\"horizontal\",\"ticker\":{\"id\":\"2883\"}},\"id\":\"2882\",\"type\":\"LinearAxis\"},{\"attributes\":{},\"id\":\"2910\",\"type\":\"BasicTickFormatter\"},{\"attributes\":{\"margin\":[5,5,5,5],\"name\":\"HSpacer05560\",\"sizing_mode\":\"stretch_width\"},\"id\":\"2927\",\"type\":\"Spacer\"},{\"attributes\":{\"callback\":null,\"renderers\":[{\"id\":\"2905\"}],\"tags\":[\"hv_created\"],\"tooltips\":[[\"index\",\"@{index}\"],[\"USDCAD\",\"@{USDCAD}\"]]},\"id\":\"2869\",\"type\":\"HoverTool\"},{\"attributes\":{\"bottom_units\":\"screen\",\"fill_alpha\":0.5,\"fill_color\":\"lightgrey\",\"left_units\":\"screen\",\"level\":\"overlay\",\"line_alpha\":1.0,\"line_color\":\"black\",\"line_dash\":[4,4],\"line_width\":2,\"right_units\":\"screen\",\"top_units\":\"screen\"},\"id\":\"2891\",\"type\":\"BoxAnnotation\"},{\"attributes\":{\"margin\":[5,5,5,5],\"name\":\"HSpacer05559\",\"sizing_mode\":\"stretch_width\"},\"id\":\"2866\",\"type\":\"Spacer\"},{\"attributes\":{\"below\":[{\"id\":\"2879\"}],\"center\":[{\"id\":\"2881\"},{\"id\":\"2885\"}],\"left\":[{\"id\":\"2882\"}],\"margin\":[5,5,5,5],\"min_border_bottom\":10,\"min_border_left\":10,\"min_border_right\":10,\"min_border_top\":10,\"plot_height\":300,\"plot_width\":700,\"renderers\":[{\"id\":\"2905\"}],\"sizing_mode\":\"fixed\",\"title\":{\"id\":\"2871\"},\"toolbar\":{\"id\":\"2892\"},\"x_range\":{\"id\":\"2867\"},\"x_scale\":{\"id\":\"2875\"},\"y_range\":{\"id\":\"2868\"},\"y_scale\":{\"id\":\"2877\"}},\"id\":\"2870\",\"subtype\":\"Figure\",\"type\":\"Plot\"},{\"attributes\":{\"data\":{\"USDCAD\":{\"__ndarray__\":\"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\",\"dtype\":\"float64\",\"order\":\"little\",\"shape\":[312]},\"index\":[\"2020.01.02\",\"2020.01.03\",\"2020.01.05\",\"2020.01.06\",\"2020.01.07\",\"2020.01.08\",\"2020.01.09\",\"2020.01.10\",\"2020.01.12\",\"2020.01.13\",\"2020.01.14\",\"2020.01.15\",\"2020.01.16\",\"2020.01.17\",\"2020.01.19\",\"2020.01.20\",\"2020.01.21\",\"2020.01.22\",\"2020.01.23\",\"2020.01.24\",\"2020.01.26\",\"2020.01.27\",\"2020.01.28\",\"2020.01.29\",\"2020.01.30\",\"2020.01.31\",\"2020.02.02\",\"2020.02.03\",\"2020.02.04\",\"2020.02.05\",\"2020.02.06\",\"2020.02.07\",\"2020.02.09\",\"2020.02.10\",\"2020.02.11\",\"2020.02.12\",\"2020.02.13\",\"2020.02.14\",\"2020.02.16\",\"2020.02.17\",\"2020.02.18\",\"2020.02.19\",\"2020.02.20\",\"2020.02.21\",\"2020.02.23\",\"2020.02.24\",\"2020.02.25\",\"2020.02.26\",\"2020.02.27\",\"2020.02.28\",\"2020.03.01\",\"2020.03.02\",\"2020.03.03\",\"2020.03.04\",\"2020.03.05\",\"2020.03.06\",\"2020.03.08\",\"2020.03.09\",\"2020.03.10\",\"2020.03.11\",\"2020.03.12\",\"2020.03.13\",\"2020.03.15\",\"2020.03.16\",\"2020.03.17\",\"2020.03.18\",\"2020.03.19\",\"2020.03.20\",\"2020.03.22\",\"2020.03.23\",\"2020.03.24\",\"2020.03.25\",\"2020.03.26\",\"2020.03.27\",\"2020.03.29\",\"2020.03.30\",\"2020.03.31\",\"2020.04.01\",\"2020.04.02\",\"2020.04.03\",\"2020.04.05\",\"2020.04.06\",\"2020.04.07\",\"2020.04.08\",\"2020.04.09\",\"2020.04.10\",\"2020.04.12\",\"2020.04.13\",\"2020.04.14\",\"2020.04.15\",\"2020.04.16\",\"2020.04.17\",\"2020.04.19\",\"2020.04.20\",\"2020.04.21\",\"2020.04.22\",\"2020.04.23\",\"2020.04.24\",\"2020.04.26\",\"2020.04.27\",\"2020.04.28\",\"2020.04.29\",\"2020.04.30\",\"2020.05.01\",\"2020.05.03\",\"2020.05.04\",\"2020.05.05\",\"2020.05.06\",\"2020.05.07\",\"2020.05.08\",\"2020.05.10\",\"2020.05.11\",\"2020.05.12\",\"2020.05.13\",\"2020.05.14\",\"2020.05.15\",\"2020.05.17\",\"2020.05.18\",\"2020.05.19\",\"2020.05.20\",\"2020.05.21\",\"2020.05.22\",\"2020.05.24\",\"2020.05.25\",\"2020.05.26\",\"2020.05.27\",\"2020.05.28\",\"2020.05.29\",\"2020.05.31\",\"2020.06.01\",\"2020.06.02\",\"2020.06.03\",\"2020.06.04\",\"2020.06.05\",\"2020.06.07\",\"2020.06.08\",\"2020.06.09\",\"2020.06.10\",\"2020.06.11\",\"2020.06.12\",\"2020.06.14\",\"2020.06.15\",\"2020.06.16\",\"2020.06.17\",\"2020.06.18\",\"2020.06.19\",\"2020.06.21\",\"2020.06.22\",\"2020.06.23\",\"2020.06.24\",\"2020.06.25\",\"2020.06.26\",\"2020.06.28\",\"2020.06.29\",\"2020.06.30\",\"2020.07.01\",\"2020.07.02\",\"2020.07.03\",\"2020.07.05\",\"2020.07.06\",\"2020.07.07\",\"2020.07.08\",\"2020.07.09\",\"2020.07.10\",\"2020.07.12\",\"2020.07.13\",\"2020.07.14\",\"2020.07.15\",\"2020.07.16\",\"2020.07.17\",\"2020.07.19\",\"2020.07.20\",\"2020.07.21\",\"2020.07.22\",\"2020.07.23\",\"2020.07.24\",\"2020.07.26\",\"2020.07.27\",\"2020.07.28\",\"2020.07.29\",\"2020.07.30\",\"2020.07.31\",\"2020.08.02\",\"2020.08.03\",\"2020.08.04\",\"2020.08.05\",\"2020.08.06\",\"2020.08.07\",\"2020.08.09\",\"2020.08.10\",\"2020.08.11\",\"2020.08.12\",\"2020.08.13\",\"2020.08.14\",\"2020.08.16\",\"2020.08.17\",\"2020.08.18\",\"2020.08.19\",\"2020.08.20\",\"2020.08.21\",\"2020.08.23\",\"2020.08.24\",\"2020.08.25\",\"2020.08.26\",\"2020.08.27\",\"2020.08.28\",\"2020.08.30\",\"2020.08.31\",\"2020.09.01\",\"2020.09.02\",\"2020.09.03\",\"2020.09.04\",\"2020.09.06\",\"2020.09.07\",\"2020.09.08\",\"2020.09.09\",\"2020.09.10\",\"2020.09.11\",\"2020.09.13\",\"2020.09.14\",\"2020.09.15\",\"2020.09.16\",\"2020.09.17\",\"2020.09.18\",\"2020.09.20\",\"2020.09.21\",\"2020.09.22\",\"2020.09.23\",\"2020.09.24\",\"2020.09.25\",\"2020.09.27\",\"2020.09.28\",\"2020.09.29\",\"2020.09.30\",\"2020.10.01\",\"2020.10.02\",\"2020.10.04\",\"2020.10.05\",\"2020.10.06\",\"2020.10.07\",\"2020.10.08\",\"2020.10.09\",\"2020.10.11\",\"2020.10.12\",\"2020.10.13\",\"2020.10.14\",\"2020.10.15\",\"2020.10.16\",\"2020.10.18\",\"2020.10.19\",\"2020.10.20\",\"2020.10.21\",\"2020.10.22\",\"2020.10.23\",\"2020.10.25\",\"2020.10.26\",\"2020.10.27\",\"2020.10.28\",\"2020.10.29\",\"2020.10.30\",\"2020.11.01\",\"2020.11.02\",\"2020.11.03\",\"2020.11.04\",\"2020.11.05\",\"2020.11.06\",\"2020.11.08\",\"2020.11.09\",\"2020.11.10\",\"2020.11.11\",\"2020.11.12\",\"2020.11.13\",\"2020.11.15\",\"2020.11.16\",\"2020.11.17\",\"2020.11.18\",\"2020.11.19\",\"2020.11.20\",\"2020.11.22\",\"2020.11.23\",\"2020.11.24\",\"2020.11.25\",\"2020.11.26\",\"2020.11.27\",\"2020.11.29\",\"2020.11.30\",\"2020.12.01\",\"2020.12.02\",\"2020.12.03\",\"2020.12.04\",\"2020.12.06\",\"2020.12.07\",\"2020.12.08\",\"2020.12.09\",\"2020.12.10\",\"2020.12.11\",\"2020.12.13\",\"2020.12.14\",\"2020.12.15\",\"2020.12.16\",\"2020.12.17\",\"2020.12.18\",\"2020.12.20\",\"2020.12.21\",\"2020.12.22\",\"2020.12.23\",\"2020.12.24\",\"2020.12.27\",\"2020.12.28\",\"2020.12.29\",\"2020.12.30\",\"2020.12.31\"]},\"selected\":{\"id\":\"2900\"},\"selection_policy\":{\"id\":\"2917\"}},\"id\":\"2899\",\"type\":\"ColumnDataSource\"},{\"attributes\":{\"text\":\"USDCAD 2020\",\"text_color\":{\"value\":\"black\"},\"text_font_size\":{\"value\":\"12pt\"}},\"id\":\"2871\",\"type\":\"Title\"},{\"attributes\":{\"line_alpha\":0.2,\"line_color\":\"#30a2da\",\"line_width\":2,\"x\":{\"field\":\"index\"},\"y\":{\"field\":\"USDCAD\"}},\"id\":\"2904\",\"type\":\"Line\"},{\"attributes\":{\"source\":{\"id\":\"2899\"}},\"id\":\"2906\",\"type\":\"CDSView\"},{\"attributes\":{},\"id\":\"2908\",\"type\":\"CategoricalTickFormatter\"},{\"attributes\":{\"data_source\":{\"id\":\"2899\"},\"glyph\":{\"id\":\"2902\"},\"hover_glyph\":null,\"muted_glyph\":{\"id\":\"2904\"},\"nonselection_glyph\":{\"id\":\"2903\"},\"selection_glyph\":null,\"view\":{\"id\":\"2906\"}},\"id\":\"2905\",\"type\":\"GlyphRenderer\"},{\"attributes\":{\"line_color\":\"#30a2da\",\"line_width\":2,\"x\":{\"field\":\"index\"},\"y\":{\"field\":\"USDCAD\"}},\"id\":\"2902\",\"type\":\"Line\"},{\"attributes\":{\"children\":[{\"id\":\"2866\"},{\"id\":\"2870\"},{\"id\":\"2927\"}],\"margin\":[0,0,0,0],\"name\":\"Row05555\",\"tags\":[\"embedded\"]},\"id\":\"2865\",\"type\":\"Row\"},{\"attributes\":{},\"id\":\"2886\",\"type\":\"SaveTool\"},{\"attributes\":{\"end\":1.4709780000000001,\"reset_end\":1.4709780000000001,\"reset_start\":1.2516420000000001,\"start\":1.2516420000000001,\"tags\":[[[\"USDCAD\",\"USDCAD\",null]]]},\"id\":\"2868\",\"type\":\"Range1d\"},{\"attributes\":{},\"id\":\"2887\",\"type\":\"PanTool\"},{\"attributes\":{},\"id\":\"2890\",\"type\":\"ResetTool\"},{\"attributes\":{\"line_alpha\":0.1,\"line_color\":\"#30a2da\",\"line_width\":2,\"x\":{\"field\":\"index\"},\"y\":{\"field\":\"USDCAD\"}},\"id\":\"2903\",\"type\":\"Line\"},{\"attributes\":{},\"id\":\"2888\",\"type\":\"WheelZoomTool\"},{\"attributes\":{\"overlay\":{\"id\":\"2891\"}},\"id\":\"2889\",\"type\":\"BoxZoomTool\"},{\"attributes\":{},\"id\":\"2917\",\"type\":\"UnionRenderers\"},{\"attributes\":{},\"id\":\"2875\",\"type\":\"CategoricalScale\"},{\"attributes\":{\"axis\":{\"id\":\"2879\"},\"grid_line_color\":null,\"ticker\":null},\"id\":\"2881\",\"type\":\"Grid\"},{\"attributes\":{},\"id\":\"2880\",\"type\":\"CategoricalTicker\"},{\"attributes\":{},\"id\":\"2877\",\"type\":\"LinearScale\"},{\"attributes\":{\"factors\":[\"2020.01.02\",\"2020.01.03\",\"2020.01.05\",\"2020.01.06\",\"2020.01.07\",\"2020.01.08\",\"2020.01.09\",\"2020.01.10\",\"2020.01.12\",\"2020.01.13\",\"2020.01.14\",\"2020.01.15\",\"2020.01.16\",\"2020.01.17\",\"2020.01.19\",\"2020.01.20\",\"2020.01.21\",\"2020.01.22\",\"2020.01.23\",\"2020.01.24\",\"2020.01.26\",\"2020.01.27\",\"2020.01.28\",\"2020.01.29\",\"2020.01.30\",\"2020.01.31\",\"2020.02.02\",\"2020.02.03\",\"2020.02.04\",\"2020.02.05\",\"2020.02.06\",\"2020.02.07\",\"2020.02.09\",\"2020.02.10\",\"2020.02.11\",\"2020.02.12\",\"2020.02.13\",\"2020.02.14\",\"2020.02.16\",\"2020.02.17\",\"2020.02.18\",\"2020.02.19\",\"2020.02.20\",\"2020.02.21\",\"2020.02.23\",\"2020.02.24\",\"2020.02.25\",\"2020.02.26\",\"2020.02.27\",\"2020.02.28\",\"2020.03.01\",\"2020.03.02\",\"2020.03.03\",\"2020.03.04\",\"2020.03.05\",\"2020.03.06\",\"2020.03.08\",\"2020.03.09\",\"2020.03.10\",\"2020.03.11\",\"2020.03.12\",\"2020.03.13\",\"2020.03.15\",\"2020.03.16\",\"2020.03.17\",\"2020.03.18\",\"2020.03.19\",\"2020.03.20\",\"2020.03.22\",\"2020.03.23\",\"2020.03.24\",\"2020.03.25\",\"2020.03.26\",\"2020.03.27\",\"2020.03.29\",\"2020.03.30\",\"2020.03.31\",\"2020.04.01\",\"2020.04.02\",\"2020.04.03\",\"2020.04.05\",\"2020.04.06\",\"2020.04.07\",\"2020.04.08\",\"2020.04.09\",\"2020.04.10\",\"2020.04.12\",\"2020.04.13\",\"2020.04.14\",\"2020.04.15\",\"2020.04.16\",\"2020.04.17\",\"2020.04.19\",\"2020.04.20\",\"2020.04.21\",\"2020.04.22\",\"2020.04.23\",\"2020.04.24\",\"2020.04.26\",\"2020.04.27\",\"2020.04.28\",\"2020.04.29\",\"2020.04.30\",\"2020.05.01\",\"2020.05.03\",\"2020.05.04\",\"2020.05.05\",\"2020.05.06\",\"2020.05.07\",\"2020.05.08\",\"2020.05.10\",\"2020.05.11\",\"2020.05.12\",\"2020.05.13\",\"2020.05.14\",\"2020.05.15\",\"2020.05.17\",\"2020.05.18\",\"2020.05.19\",\"2020.05.20\",\"2020.05.21\",\"2020.05.22\",\"2020.05.24\",\"2020.05.25\",\"2020.05.26\",\"2020.05.27\",\"2020.05.28\",\"2020.05.29\",\"2020.05.31\",\"2020.06.01\",\"2020.06.02\",\"2020.06.03\",\"2020.06.04\",\"2020.06.05\",\"2020.06.07\",\"2020.06.08\",\"2020.06.09\",\"2020.06.10\",\"2020.06.11\",\"2020.06.12\",\"2020.06.14\",\"2020.06.15\",\"2020.06.16\",\"2020.06.17\",\"2020.06.18\",\"2020.06.19\",\"2020.06.21\",\"2020.06.22\",\"2020.06.23\",\"2020.06.24\",\"2020.06.25\",\"2020.06.26\",\"2020.06.28\",\"2020.06.29\",\"2020.06.30\",\"2020.07.01\",\"2020.07.02\",\"2020.07.03\",\"2020.07.05\",\"2020.07.06\",\"2020.07.07\",\"2020.07.08\",\"2020.07.09\",\"2020.07.10\",\"2020.07.12\",\"2020.07.13\",\"2020.07.14\",\"2020.07.15\",\"2020.07.16\",\"2020.07.17\",\"2020.07.19\",\"2020.07.20\",\"2020.07.21\",\"2020.07.22\",\"2020.07.23\",\"2020.07.24\",\"2020.07.26\",\"2020.07.27\",\"2020.07.28\",\"2020.07.29\",\"2020.07.30\",\"2020.07.31\",\"2020.08.02\",\"2020.08.03\",\"2020.08.04\",\"2020.08.05\",\"2020.08.06\",\"2020.08.07\",\"2020.08.09\",\"2020.08.10\",\"2020.08.11\",\"2020.08.12\",\"2020.08.13\",\"2020.08.14\",\"2020.08.16\",\"2020.08.17\",\"2020.08.18\",\"2020.08.19\",\"2020.08.20\",\"2020.08.21\",\"2020.08.23\",\"2020.08.24\",\"2020.08.25\",\"2020.08.26\",\"2020.08.27\",\"2020.08.28\",\"2020.08.30\",\"2020.08.31\",\"2020.09.01\",\"2020.09.02\",\"2020.09.03\",\"2020.09.04\",\"2020.09.06\",\"2020.09.07\",\"2020.09.08\",\"2020.09.09\",\"2020.09.10\",\"2020.09.11\",\"2020.09.13\",\"2020.09.14\",\"2020.09.15\",\"2020.09.16\",\"2020.09.17\",\"2020.09.18\",\"2020.09.20\",\"2020.09.21\",\"2020.09.22\",\"2020.09.23\",\"2020.09.24\",\"2020.09.25\",\"2020.09.27\",\"2020.09.28\",\"2020.09.29\",\"2020.09.30\",\"2020.10.01\",\"2020.10.02\",\"2020.10.04\",\"2020.10.05\",\"2020.10.06\",\"2020.10.07\",\"2020.10.08\",\"2020.10.09\",\"2020.10.11\",\"2020.10.12\",\"2020.10.13\",\"2020.10.14\",\"2020.10.15\",\"2020.10.16\",\"2020.10.18\",\"2020.10.19\",\"2020.10.20\",\"2020.10.21\",\"2020.10.22\",\"2020.10.23\",\"2020.10.25\",\"2020.10.26\",\"2020.10.27\",\"2020.10.28\",\"2020.10.29\",\"2020.10.30\",\"2020.11.01\",\"2020.11.02\",\"2020.11.03\",\"2020.11.04\",\"2020.11.05\",\"2020.11.06\",\"2020.11.08\",\"2020.11.09\",\"2020.11.10\",\"2020.11.11\",\"2020.11.12\",\"2020.11.13\",\"2020.11.15\",\"2020.11.16\",\"2020.11.17\",\"2020.11.18\",\"2020.11.19\",\"2020.11.20\",\"2020.11.22\",\"2020.11.23\",\"2020.11.24\",\"2020.11.25\",\"2020.11.26\",\"2020.11.27\",\"2020.11.29\",\"2020.11.30\",\"2020.12.01\",\"2020.12.02\",\"2020.12.03\",\"2020.12.04\",\"2020.12.06\",\"2020.12.07\",\"2020.12.08\",\"2020.12.09\",\"2020.12.10\",\"2020.12.11\",\"2020.12.13\",\"2020.12.14\",\"2020.12.15\",\"2020.12.16\",\"2020.12.17\",\"2020.12.18\",\"2020.12.20\",\"2020.12.21\",\"2020.12.22\",\"2020.12.23\",\"2020.12.24\",\"2020.12.27\",\"2020.12.28\",\"2020.12.29\",\"2020.12.30\",\"2020.12.31\"],\"tags\":[[[\"index\",\"index\",null]]]},\"id\":\"2867\",\"type\":\"FactorRange\"},{\"attributes\":{\"axis_label\":\"\",\"bounds\":\"auto\",\"formatter\":{\"id\":\"2908\"},\"major_label_orientation\":\"horizontal\",\"ticker\":{\"id\":\"2880\"}},\"id\":\"2879\",\"type\":\"CategoricalAxis\"},{\"attributes\":{},\"id\":\"2900\",\"type\":\"Selection\"}],\"root_ids\":[\"2865\"]},\"title\":\"Bokeh Application\",\"version\":\"2.2.3\"}};\n",
       "    var render_items = [{\"docid\":\"664d91a6-a4d0-4b3a-99b0-da5eb97dbc57\",\"root_ids\":[\"2865\"],\"roots\":{\"2865\":\"03eb0806-0f50-4dda-a465-3ffaeb7be428\"}}];\n",
       "    root.Bokeh.embed.embed_items_notebook(docs_json, render_items);\n",
       "  }\n",
       "  if (root.Bokeh !== undefined && root.Bokeh.Panel !== undefined) {\n",
       "    embed_document(root);\n",
       "  } else {\n",
       "    var attempts = 0;\n",
       "    var timer = setInterval(function(root) {\n",
       "      if (root.Bokeh !== undefined && root.Bokeh.Panel !== undefined) {\n",
       "        clearInterval(timer);\n",
       "        embed_document(root);\n",
       "      } else if (document.readyState == \"complete\") {\n",
       "        attempts++;\n",
       "        if (attempts > 100) {\n",
       "          clearInterval(timer);\n",
       "          console.log(\"Bokeh: ERROR: Unable to run BokehJS code because BokehJS library is missing\");\n",
       "        }\n",
       "      }\n",
       "    }, 10, root)\n",
       "  }\n",
       "})(window);</script>"
      ],
      "text/plain": [
       ":Curve   [index]   (USDCAD)"
      ]
     },
     "execution_count": 43,
     "metadata": {
      "application/vnd.holoviews_exec.v0+json": {
       "id": "2865"
      }
     },
     "output_type": "execute_result"
    }
   ],
   "source": [
    "# plot USDCAD\n",
    "USDCAD_plot = major7_date_col.hvplot(title='USDCAD 2020', y='USDCAD')\n",
    "USDCAD_plot"
   ]
  },
  {
   "cell_type": "code",
   "execution_count": 44,
   "metadata": {},
   "outputs": [
    {
     "data": {},
     "metadata": {},
     "output_type": "display_data"
    },
    {
     "data": {
      "application/vnd.holoviews_exec.v0+json": "",
      "text/html": [
       "<div id='2969'>\n",
       "\n",
       "\n",
       "\n",
       "\n",
       "\n",
       "  <div class=\"bk-root\" id=\"a99c53a4-b377-4a4c-abfc-e0ece4775b19\" data-root-id=\"2969\"></div>\n",
       "</div>\n",
       "<script type=\"application/javascript\">(function(root) {\n",
       "  function embed_document(root) {\n",
       "    var docs_json = {\"a1b74604-8921-4435-b216-4ffd4c4fccfa\":{\"roots\":{\"references\":[{\"attributes\":{\"axis_label\":\"USDCHF\",\"bounds\":\"auto\",\"formatter\":{\"id\":\"3014\"},\"major_label_orientation\":\"horizontal\",\"ticker\":{\"id\":\"2987\"}},\"id\":\"2986\",\"type\":\"LinearAxis\"},{\"attributes\":{},\"id\":\"2987\",\"type\":\"BasicTicker\"},{\"attributes\":{\"axis\":{\"id\":\"2986\"},\"dimension\":1,\"grid_line_color\":null,\"ticker\":null},\"id\":\"2989\",\"type\":\"Grid\"},{\"attributes\":{\"callback\":null,\"renderers\":[{\"id\":\"3009\"}],\"tags\":[\"hv_created\"],\"tooltips\":[[\"index\",\"@{index}\"],[\"USDCHF\",\"@{USDCHF}\"]]},\"id\":\"2973\",\"type\":\"HoverTool\"},{\"attributes\":{\"children\":[{\"id\":\"2970\"},{\"id\":\"2974\"},{\"id\":\"3031\"}],\"margin\":[0,0,0,0],\"name\":\"Row05740\",\"tags\":[\"embedded\"]},\"id\":\"2969\",\"type\":\"Row\"},{\"attributes\":{\"line_alpha\":0.1,\"line_color\":\"#30a2da\",\"line_width\":2,\"x\":{\"field\":\"index\"},\"y\":{\"field\":\"USDCHF\"}},\"id\":\"3007\",\"type\":\"Line\"},{\"attributes\":{\"line_alpha\":0.2,\"line_color\":\"#30a2da\",\"line_width\":2,\"x\":{\"field\":\"index\"},\"y\":{\"field\":\"USDCHF\"}},\"id\":\"3008\",\"type\":\"Line\"},{\"attributes\":{},\"id\":\"3012\",\"type\":\"CategoricalTickFormatter\"},{\"attributes\":{\"bottom_units\":\"screen\",\"fill_alpha\":0.5,\"fill_color\":\"lightgrey\",\"left_units\":\"screen\",\"level\":\"overlay\",\"line_alpha\":1.0,\"line_color\":\"black\",\"line_dash\":[4,4],\"line_width\":2,\"right_units\":\"screen\",\"top_units\":\"screen\"},\"id\":\"2995\",\"type\":\"BoxAnnotation\"},{\"attributes\":{\"factors\":[\"2020.01.02\",\"2020.01.03\",\"2020.01.05\",\"2020.01.06\",\"2020.01.07\",\"2020.01.08\",\"2020.01.09\",\"2020.01.10\",\"2020.01.12\",\"2020.01.13\",\"2020.01.14\",\"2020.01.15\",\"2020.01.16\",\"2020.01.17\",\"2020.01.19\",\"2020.01.20\",\"2020.01.21\",\"2020.01.22\",\"2020.01.23\",\"2020.01.24\",\"2020.01.26\",\"2020.01.27\",\"2020.01.28\",\"2020.01.29\",\"2020.01.30\",\"2020.01.31\",\"2020.02.02\",\"2020.02.03\",\"2020.02.04\",\"2020.02.05\",\"2020.02.06\",\"2020.02.07\",\"2020.02.09\",\"2020.02.10\",\"2020.02.11\",\"2020.02.12\",\"2020.02.13\",\"2020.02.14\",\"2020.02.16\",\"2020.02.17\",\"2020.02.18\",\"2020.02.19\",\"2020.02.20\",\"2020.02.21\",\"2020.02.23\",\"2020.02.24\",\"2020.02.25\",\"2020.02.26\",\"2020.02.27\",\"2020.02.28\",\"2020.03.01\",\"2020.03.02\",\"2020.03.03\",\"2020.03.04\",\"2020.03.05\",\"2020.03.06\",\"2020.03.08\",\"2020.03.09\",\"2020.03.10\",\"2020.03.11\",\"2020.03.12\",\"2020.03.13\",\"2020.03.15\",\"2020.03.16\",\"2020.03.17\",\"2020.03.18\",\"2020.03.19\",\"2020.03.20\",\"2020.03.22\",\"2020.03.23\",\"2020.03.24\",\"2020.03.25\",\"2020.03.26\",\"2020.03.27\",\"2020.03.29\",\"2020.03.30\",\"2020.03.31\",\"2020.04.01\",\"2020.04.02\",\"2020.04.03\",\"2020.04.05\",\"2020.04.06\",\"2020.04.07\",\"2020.04.08\",\"2020.04.09\",\"2020.04.10\",\"2020.04.12\",\"2020.04.13\",\"2020.04.14\",\"2020.04.15\",\"2020.04.16\",\"2020.04.17\",\"2020.04.19\",\"2020.04.20\",\"2020.04.21\",\"2020.04.22\",\"2020.04.23\",\"2020.04.24\",\"2020.04.26\",\"2020.04.27\",\"2020.04.28\",\"2020.04.29\",\"2020.04.30\",\"2020.05.01\",\"2020.05.03\",\"2020.05.04\",\"2020.05.05\",\"2020.05.06\",\"2020.05.07\",\"2020.05.08\",\"2020.05.10\",\"2020.05.11\",\"2020.05.12\",\"2020.05.13\",\"2020.05.14\",\"2020.05.15\",\"2020.05.17\",\"2020.05.18\",\"2020.05.19\",\"2020.05.20\",\"2020.05.21\",\"2020.05.22\",\"2020.05.24\",\"2020.05.25\",\"2020.05.26\",\"2020.05.27\",\"2020.05.28\",\"2020.05.29\",\"2020.05.31\",\"2020.06.01\",\"2020.06.02\",\"2020.06.03\",\"2020.06.04\",\"2020.06.05\",\"2020.06.07\",\"2020.06.08\",\"2020.06.09\",\"2020.06.10\",\"2020.06.11\",\"2020.06.12\",\"2020.06.14\",\"2020.06.15\",\"2020.06.16\",\"2020.06.17\",\"2020.06.18\",\"2020.06.19\",\"2020.06.21\",\"2020.06.22\",\"2020.06.23\",\"2020.06.24\",\"2020.06.25\",\"2020.06.26\",\"2020.06.28\",\"2020.06.29\",\"2020.06.30\",\"2020.07.01\",\"2020.07.02\",\"2020.07.03\",\"2020.07.05\",\"2020.07.06\",\"2020.07.07\",\"2020.07.08\",\"2020.07.09\",\"2020.07.10\",\"2020.07.12\",\"2020.07.13\",\"2020.07.14\",\"2020.07.15\",\"2020.07.16\",\"2020.07.17\",\"2020.07.19\",\"2020.07.20\",\"2020.07.21\",\"2020.07.22\",\"2020.07.23\",\"2020.07.24\",\"2020.07.26\",\"2020.07.27\",\"2020.07.28\",\"2020.07.29\",\"2020.07.30\",\"2020.07.31\",\"2020.08.02\",\"2020.08.03\",\"2020.08.04\",\"2020.08.05\",\"2020.08.06\",\"2020.08.07\",\"2020.08.09\",\"2020.08.10\",\"2020.08.11\",\"2020.08.12\",\"2020.08.13\",\"2020.08.14\",\"2020.08.16\",\"2020.08.17\",\"2020.08.18\",\"2020.08.19\",\"2020.08.20\",\"2020.08.21\",\"2020.08.23\",\"2020.08.24\",\"2020.08.25\",\"2020.08.26\",\"2020.08.27\",\"2020.08.28\",\"2020.08.30\",\"2020.08.31\",\"2020.09.01\",\"2020.09.02\",\"2020.09.03\",\"2020.09.04\",\"2020.09.06\",\"2020.09.07\",\"2020.09.08\",\"2020.09.09\",\"2020.09.10\",\"2020.09.11\",\"2020.09.13\",\"2020.09.14\",\"2020.09.15\",\"2020.09.16\",\"2020.09.17\",\"2020.09.18\",\"2020.09.20\",\"2020.09.21\",\"2020.09.22\",\"2020.09.23\",\"2020.09.24\",\"2020.09.25\",\"2020.09.27\",\"2020.09.28\",\"2020.09.29\",\"2020.09.30\",\"2020.10.01\",\"2020.10.02\",\"2020.10.04\",\"2020.10.05\",\"2020.10.06\",\"2020.10.07\",\"2020.10.08\",\"2020.10.09\",\"2020.10.11\",\"2020.10.12\",\"2020.10.13\",\"2020.10.14\",\"2020.10.15\",\"2020.10.16\",\"2020.10.18\",\"2020.10.19\",\"2020.10.20\",\"2020.10.21\",\"2020.10.22\",\"2020.10.23\",\"2020.10.25\",\"2020.10.26\",\"2020.10.27\",\"2020.10.28\",\"2020.10.29\",\"2020.10.30\",\"2020.11.01\",\"2020.11.02\",\"2020.11.03\",\"2020.11.04\",\"2020.11.05\",\"2020.11.06\",\"2020.11.08\",\"2020.11.09\",\"2020.11.10\",\"2020.11.11\",\"2020.11.12\",\"2020.11.13\",\"2020.11.15\",\"2020.11.16\",\"2020.11.17\",\"2020.11.18\",\"2020.11.19\",\"2020.11.20\",\"2020.11.22\",\"2020.11.23\",\"2020.11.24\",\"2020.11.25\",\"2020.11.26\",\"2020.11.27\",\"2020.11.29\",\"2020.11.30\",\"2020.12.01\",\"2020.12.02\",\"2020.12.03\",\"2020.12.04\",\"2020.12.06\",\"2020.12.07\",\"2020.12.08\",\"2020.12.09\",\"2020.12.10\",\"2020.12.11\",\"2020.12.13\",\"2020.12.14\",\"2020.12.15\",\"2020.12.16\",\"2020.12.17\",\"2020.12.18\",\"2020.12.20\",\"2020.12.21\",\"2020.12.22\",\"2020.12.23\",\"2020.12.24\",\"2020.12.27\",\"2020.12.28\",\"2020.12.29\",\"2020.12.30\",\"2020.12.31\"],\"tags\":[[[\"index\",\"index\",null]]]},\"id\":\"2971\",\"type\":\"FactorRange\"},{\"attributes\":{\"active_drag\":\"auto\",\"active_inspect\":\"auto\",\"active_multi\":null,\"active_scroll\":\"auto\",\"active_tap\":\"auto\",\"tools\":[{\"id\":\"2973\"},{\"id\":\"2990\"},{\"id\":\"2991\"},{\"id\":\"2992\"},{\"id\":\"2993\"},{\"id\":\"2994\"}]},\"id\":\"2996\",\"type\":\"Toolbar\"},{\"attributes\":{\"text\":\"USDCHF 2020\",\"text_color\":{\"value\":\"black\"},\"text_font_size\":{\"value\":\"12pt\"}},\"id\":\"2975\",\"type\":\"Title\"},{\"attributes\":{\"below\":[{\"id\":\"2983\"}],\"center\":[{\"id\":\"2985\"},{\"id\":\"2989\"}],\"left\":[{\"id\":\"2986\"}],\"margin\":[5,5,5,5],\"min_border_bottom\":10,\"min_border_left\":10,\"min_border_right\":10,\"min_border_top\":10,\"plot_height\":300,\"plot_width\":700,\"renderers\":[{\"id\":\"3009\"}],\"sizing_mode\":\"fixed\",\"title\":{\"id\":\"2975\"},\"toolbar\":{\"id\":\"2996\"},\"x_range\":{\"id\":\"2971\"},\"x_scale\":{\"id\":\"2979\"},\"y_range\":{\"id\":\"2972\"},\"y_scale\":{\"id\":\"2981\"}},\"id\":\"2974\",\"subtype\":\"Figure\",\"type\":\"Plot\"},{\"attributes\":{\"margin\":[5,5,5,5],\"name\":\"HSpacer05744\",\"sizing_mode\":\"stretch_width\"},\"id\":\"2970\",\"type\":\"Spacer\"},{\"attributes\":{\"data_source\":{\"id\":\"3003\"},\"glyph\":{\"id\":\"3006\"},\"hover_glyph\":null,\"muted_glyph\":{\"id\":\"3008\"},\"nonselection_glyph\":{\"id\":\"3007\"},\"selection_glyph\":null,\"view\":{\"id\":\"3010\"}},\"id\":\"3009\",\"type\":\"GlyphRenderer\"},{\"attributes\":{},\"id\":\"3014\",\"type\":\"BasicTickFormatter\"},{\"attributes\":{\"data\":{\"USDCHF\":{\"__ndarray__\":\"9dbAVgkW7z9Zox6i0R3vP59BQ/8EF+8/PE7RkVz+7j8AAAAAAADvPzBMpgpGJe8/huEjYkok7z9vKlJhbCHvP2pq2VpfJO8/p5GWytsR7z8XYB+duvLuPy0JUFPL1u4/GmmpvB3h7j/RkVz+Q/ruP0EOSphp++4/sFqZ8Ev97j/+z2G+vADvP9vhr8ka9e4/gnNGlPYG7z/BqKROQBPvPyUeUDblCu8/KH6MuWsJ7z9v+rMfKSLvPxUF+kSeJO8/2AjE6/oF7z/aM0sC1NTuP6N1VDVB1O4/nNzvUBTo7j/430p2bATvP7s/3qtWJu8/xRaCHJQw7z+cFrzoK0jvP/5byY6NQO8/SREZVvFG7z+31hcJbTnvPygK9Ik8Se8/+MJkqmBU7z92/YLdsG3vPyeIug9Aau8/GCE82jhi7z9nvRjKiXbvP0JWt3pOeu8/0EnvG1977z/pK0gzFk3vP8E0DB8RU+8/JNHLKJZb7z+yFp8CYDzvP4/f2/RnP+8/Ob72zJIA7z/Ac+/hkuPuP9RDNLqD2O4/7fXuj/eq7j/37o/3qpXuP+kOYmcKne4/FLNeDOVE7j9BDkqYafvtP05iEFg5tO0/Gw3gLZCg7T90DMhe7/7tP+QPBp57D+4/skY9RKM77j9dFhObj2vuP5YmpaDbS+4/c79DUaBP7j9LAtTUsrXuP/5IERlW8e4/yAc9m1Wf7z/XwFYJFofvPyL99nXgnO8/vVKWIY517z9bXyS05VzvP6MG0zB8RO8/X7Abti3K7j+wG7YtymzuP/Tg7qzddu4/O2u3XWiu7j+5dTdPdcjuP0d3EDtT6O4/HHxhMlUw7z8tQxzr4jbvP1hRg2kYPu8/FDqvsUtU7z/1T3CxogbvPyV1ApoIG+8/PSe9b3zt7j8YCW05l+LuP6KcaFch5e4/M6fLYmLz7j+37uapDrnuP20+rg0V4+4/UtUEUfcB7z9xVdl3RfDuP55jQPZ69+4/fVwbKsb57j8K16NwPQrvP4GaWrbWF+8/7mRwlLw67z8bJa/OMSDvP0SjO4idKe8/1q2ek9437z+QiCmRRC/vP7G/7J48LO8/6iEa3UHs7j9uwOeHEcLuP8NM27+y0u4/at5xio7k7j87/DVZox7vP2whyEEJM+8/xY8xdy0h7z/kDwaeew/vP7u4jQbwFu8/4QZ8fhgh7z++wRcmUwXvP9A/wcWKGu8/vW987Zkl7z+dEaW9wRfvP306HjNQGe8/vhjKiXYV7z/ZX3ZPHhbvP1aH3Aw34O4/j6omiLoP7z9tc2N6whLvP7mI78SsF+8/LGUZ4lgX7z8TSfQyiuXuP3v83qY/++4/XHfzVIfc7j/EJced0sHuPzzCacGLvu4/OpLLf0i/7j+At0CC4sfuP4oHlE25wu4/+64I/reS7j8JG55eKcvuP6G+ZU6Xxe4/LgQ5KGGm7j9An8iTpGvuP7G/7J48LO4/3c1THXIz7j/VCWgibHjuP36kiAyreO4/XI/C9Shc7j9xPQrXo3DuPyJxj6UPXe4/Nh/Xhopx7j/VCWgibHjuP2WNeohGd+4/PpEnSddM7j9fEfxvJTvuP/UyiuWWVu4/glZgyOpW7j/Xuz/eq1buP08oRMAhVO4/dM3km21u7j8guqC+ZU7uPxbj/E0oRO4//isrTUpB7j/RHcTOFDruPwPso1NXPu4/910R/G8l7j9F09nJ4CjuP/Mf0m9fB+4/LZW3I5wW7j+TkbOwpx3uP7mI78SsF+4/3nahuU4j7j/GaB1VTRDuPws89x4uOe4/UmFsIchB7j+1oWKcvwnuP0YldQKaCO4/Io51cRsN7j/UE5Z4QNntPwLU1LK1vu0/X3tmSYCa7T9MpgpGJXXtP7MCQ1a3eu0/PQ/uztpt7T9Xz0nvG1/tPwE1tWytL+0/KjV7oBUY7T+zdtuF5jrtP5qPa0PFOO0/InGPpQ9d7T94KAr0iTztP4/axMn9Du0/sWg6Oxkc7T/ChqdXyjLtPynj32dcOO0/0ETY8PRK7T8T2nIuxVXtP3LhQEgWMO0/sWg6Oxkc7T+C+pY5XRbtP/N2hNOCF+0/iGNd3EYD7T+DxeHMr+bsP/37jAsHQu0/8L+V7NgI7T9CQ/8EFyvtP7PviuB/K+0/WMoyxLEu7T8gXtcv2A3tP+v/HObLC+0/C170FaQZ7T89J71vfO3sP8x6MZQT7ew/sTOFzmvs7D/PDyOERxvtP2N6whIPKO0/6PaSxmgd7T+zdtuF5jrtP5kvL8A+Ou0/MuGX+nlT7T8YITzaOGLtP3IR34lZL+0/yk+qfToe7T/11sBWCRbtPzElkuhlFO0/bqMBvAUS7T9X7C+7Jw/tP5PBUfLqHO0/yJi7lpAP7T/T9q+sNCntP6W4quy7Iu0/D/PlBdhH7T84T3XIzXDtP8PwETElku0/nYAmwoan7T8om3KFd7ntPxRE3Qcgte0/E2ba/pWV7T/TUnk7wmntPxKI1/ULdu0/8ikAxjNo7T+GxD2WPnTtP8qrcwzIXu0/KAr0iTxJ7T9Wn6ut2F/tP7x0kxgEVu0/m21uTE9Y7T96qkNuhhvtP2/6sx8pIu0/1y/YDdsW7T+1LcpskEntPwd8fhghPO0/aRg+IqZE7T9I4XoUrkftPwyTqYJRSe0/UVPL1voi7T+/8bVnlgTtP0Ruhhvw+ew/nLryWZ4H7T8dUDblCu/sP706x4Ds9ew/xmgdVU0Q7T8p1T4djxntP/5NKETAIe0/jzaOWItP7T/Xuz/eq1btP32W58HdWe0/LEgzFk1n7T9N845TdCTtP7G/7J48LO0/HPD5YYTw7D/KbJBJRs7sP0j5SbVPx+w/aJHtfD817T+cFrzoK0jtPxPaci7FVe0/nnb4a7JG7T/5FADjGTTtPzjzqzlAMO0/UdobfGEy7T/TxhFr8SntPz2Dhv4JLu0/DkWBPpEn7T9KY7SOqibtP/m9TX/2I+0/pg9dUN8y7T9m2v6VlSbtP8ZoHVVNEO0/ipP7HYoC7T/C+j+H+fLsP+VhodY07+w/jnqIRncQ7T/TvOMUHcnsP6kwthDkoOw/piIVxhaC7D/udygK9InsP0Otad5xiuw/xJlfzQGC7D/HounsZHDsPy3Pg7uzduw/mg0yychZ7D/YaaSl8nbsP1Ym/FI/b+w/48KBkCxg7D9mD7QCQ1bsP4S2nEtxVew/jgbwFkhQ7D/+KytNSkHsP7nkuFM6WOw/Zt8Vwf9W7D+alIJuL2nsPw1xrIvbaOw/y7kUV5V97D+cS3FV2XfsP5J0zeSbbew/tM2N6QlL7D+8lpAPejbsP1UYWwhyUOw/\",\"dtype\":\"float64\",\"order\":\"little\",\"shape\":[312]},\"index\":[\"2020.01.02\",\"2020.01.03\",\"2020.01.05\",\"2020.01.06\",\"2020.01.07\",\"2020.01.08\",\"2020.01.09\",\"2020.01.10\",\"2020.01.12\",\"2020.01.13\",\"2020.01.14\",\"2020.01.15\",\"2020.01.16\",\"2020.01.17\",\"2020.01.19\",\"2020.01.20\",\"2020.01.21\",\"2020.01.22\",\"2020.01.23\",\"2020.01.24\",\"2020.01.26\",\"2020.01.27\",\"2020.01.28\",\"2020.01.29\",\"2020.01.30\",\"2020.01.31\",\"2020.02.02\",\"2020.02.03\",\"2020.02.04\",\"2020.02.05\",\"2020.02.06\",\"2020.02.07\",\"2020.02.09\",\"2020.02.10\",\"2020.02.11\",\"2020.02.12\",\"2020.02.13\",\"2020.02.14\",\"2020.02.16\",\"2020.02.17\",\"2020.02.18\",\"2020.02.19\",\"2020.02.20\",\"2020.02.21\",\"2020.02.23\",\"2020.02.24\",\"2020.02.25\",\"2020.02.26\",\"2020.02.27\",\"2020.02.28\",\"2020.03.01\",\"2020.03.02\",\"2020.03.03\",\"2020.03.04\",\"2020.03.05\",\"2020.03.06\",\"2020.03.08\",\"2020.03.09\",\"2020.03.10\",\"2020.03.11\",\"2020.03.12\",\"2020.03.13\",\"2020.03.15\",\"2020.03.16\",\"2020.03.17\",\"2020.03.18\",\"2020.03.19\",\"2020.03.20\",\"2020.03.22\",\"2020.03.23\",\"2020.03.24\",\"2020.03.25\",\"2020.03.26\",\"2020.03.27\",\"2020.03.29\",\"2020.03.30\",\"2020.03.31\",\"2020.04.01\",\"2020.04.02\",\"2020.04.03\",\"2020.04.05\",\"2020.04.06\",\"2020.04.07\",\"2020.04.08\",\"2020.04.09\",\"2020.04.10\",\"2020.04.12\",\"2020.04.13\",\"2020.04.14\",\"2020.04.15\",\"2020.04.16\",\"2020.04.17\",\"2020.04.19\",\"2020.04.20\",\"2020.04.21\",\"2020.04.22\",\"2020.04.23\",\"2020.04.24\",\"2020.04.26\",\"2020.04.27\",\"2020.04.28\",\"2020.04.29\",\"2020.04.30\",\"2020.05.01\",\"2020.05.03\",\"2020.05.04\",\"2020.05.05\",\"2020.05.06\",\"2020.05.07\",\"2020.05.08\",\"2020.05.10\",\"2020.05.11\",\"2020.05.12\",\"2020.05.13\",\"2020.05.14\",\"2020.05.15\",\"2020.05.17\",\"2020.05.18\",\"2020.05.19\",\"2020.05.20\",\"2020.05.21\",\"2020.05.22\",\"2020.05.24\",\"2020.05.25\",\"2020.05.26\",\"2020.05.27\",\"2020.05.28\",\"2020.05.29\",\"2020.05.31\",\"2020.06.01\",\"2020.06.02\",\"2020.06.03\",\"2020.06.04\",\"2020.06.05\",\"2020.06.07\",\"2020.06.08\",\"2020.06.09\",\"2020.06.10\",\"2020.06.11\",\"2020.06.12\",\"2020.06.14\",\"2020.06.15\",\"2020.06.16\",\"2020.06.17\",\"2020.06.18\",\"2020.06.19\",\"2020.06.21\",\"2020.06.22\",\"2020.06.23\",\"2020.06.24\",\"2020.06.25\",\"2020.06.26\",\"2020.06.28\",\"2020.06.29\",\"2020.06.30\",\"2020.07.01\",\"2020.07.02\",\"2020.07.03\",\"2020.07.05\",\"2020.07.06\",\"2020.07.07\",\"2020.07.08\",\"2020.07.09\",\"2020.07.10\",\"2020.07.12\",\"2020.07.13\",\"2020.07.14\",\"2020.07.15\",\"2020.07.16\",\"2020.07.17\",\"2020.07.19\",\"2020.07.20\",\"2020.07.21\",\"2020.07.22\",\"2020.07.23\",\"2020.07.24\",\"2020.07.26\",\"2020.07.27\",\"2020.07.28\",\"2020.07.29\",\"2020.07.30\",\"2020.07.31\",\"2020.08.02\",\"2020.08.03\",\"2020.08.04\",\"2020.08.05\",\"2020.08.06\",\"2020.08.07\",\"2020.08.09\",\"2020.08.10\",\"2020.08.11\",\"2020.08.12\",\"2020.08.13\",\"2020.08.14\",\"2020.08.16\",\"2020.08.17\",\"2020.08.18\",\"2020.08.19\",\"2020.08.20\",\"2020.08.21\",\"2020.08.23\",\"2020.08.24\",\"2020.08.25\",\"2020.08.26\",\"2020.08.27\",\"2020.08.28\",\"2020.08.30\",\"2020.08.31\",\"2020.09.01\",\"2020.09.02\",\"2020.09.03\",\"2020.09.04\",\"2020.09.06\",\"2020.09.07\",\"2020.09.08\",\"2020.09.09\",\"2020.09.10\",\"2020.09.11\",\"2020.09.13\",\"2020.09.14\",\"2020.09.15\",\"2020.09.16\",\"2020.09.17\",\"2020.09.18\",\"2020.09.20\",\"2020.09.21\",\"2020.09.22\",\"2020.09.23\",\"2020.09.24\",\"2020.09.25\",\"2020.09.27\",\"2020.09.28\",\"2020.09.29\",\"2020.09.30\",\"2020.10.01\",\"2020.10.02\",\"2020.10.04\",\"2020.10.05\",\"2020.10.06\",\"2020.10.07\",\"2020.10.08\",\"2020.10.09\",\"2020.10.11\",\"2020.10.12\",\"2020.10.13\",\"2020.10.14\",\"2020.10.15\",\"2020.10.16\",\"2020.10.18\",\"2020.10.19\",\"2020.10.20\",\"2020.10.21\",\"2020.10.22\",\"2020.10.23\",\"2020.10.25\",\"2020.10.26\",\"2020.10.27\",\"2020.10.28\",\"2020.10.29\",\"2020.10.30\",\"2020.11.01\",\"2020.11.02\",\"2020.11.03\",\"2020.11.04\",\"2020.11.05\",\"2020.11.06\",\"2020.11.08\",\"2020.11.09\",\"2020.11.10\",\"2020.11.11\",\"2020.11.12\",\"2020.11.13\",\"2020.11.15\",\"2020.11.16\",\"2020.11.17\",\"2020.11.18\",\"2020.11.19\",\"2020.11.20\",\"2020.11.22\",\"2020.11.23\",\"2020.11.24\",\"2020.11.25\",\"2020.11.26\",\"2020.11.27\",\"2020.11.29\",\"2020.11.30\",\"2020.12.01\",\"2020.12.02\",\"2020.12.03\",\"2020.12.04\",\"2020.12.06\",\"2020.12.07\",\"2020.12.08\",\"2020.12.09\",\"2020.12.10\",\"2020.12.11\",\"2020.12.13\",\"2020.12.14\",\"2020.12.15\",\"2020.12.16\",\"2020.12.17\",\"2020.12.18\",\"2020.12.20\",\"2020.12.21\",\"2020.12.22\",\"2020.12.23\",\"2020.12.24\",\"2020.12.27\",\"2020.12.28\",\"2020.12.29\",\"2020.12.30\",\"2020.12.31\"]},\"selected\":{\"id\":\"3004\"},\"selection_policy\":{\"id\":\"3021\"}},\"id\":\"3003\",\"type\":\"ColumnDataSource\"},{\"attributes\":{\"margin\":[5,5,5,5],\"name\":\"HSpacer05745\",\"sizing_mode\":\"stretch_width\"},\"id\":\"3031\",\"type\":\"Spacer\"},{\"attributes\":{},\"id\":\"2990\",\"type\":\"SaveTool\"},{\"attributes\":{},\"id\":\"2991\",\"type\":\"PanTool\"},{\"attributes\":{},\"id\":\"2994\",\"type\":\"ResetTool\"},{\"attributes\":{},\"id\":\"2992\",\"type\":\"WheelZoomTool\"},{\"attributes\":{},\"id\":\"2979\",\"type\":\"CategoricalScale\"},{\"attributes\":{\"overlay\":{\"id\":\"2995\"}},\"id\":\"2993\",\"type\":\"BoxZoomTool\"},{\"attributes\":{\"line_color\":\"#30a2da\",\"line_width\":2,\"x\":{\"field\":\"index\"},\"y\":{\"field\":\"USDCHF\"}},\"id\":\"3006\",\"type\":\"Line\"},{\"attributes\":{\"axis\":{\"id\":\"2983\"},\"grid_line_color\":null,\"ticker\":null},\"id\":\"2985\",\"type\":\"Grid\"},{\"attributes\":{\"source\":{\"id\":\"3003\"}},\"id\":\"3010\",\"type\":\"CDSView\"},{\"attributes\":{},\"id\":\"2984\",\"type\":\"CategoricalTicker\"},{\"attributes\":{},\"id\":\"2981\",\"type\":\"LinearScale\"},{\"attributes\":{},\"id\":\"3021\",\"type\":\"UnionRenderers\"},{\"attributes\":{},\"id\":\"3004\",\"type\":\"Selection\"},{\"attributes\":{\"axis_label\":\"\",\"bounds\":\"auto\",\"formatter\":{\"id\":\"3012\"},\"major_label_orientation\":\"horizontal\",\"ticker\":{\"id\":\"2984\"}},\"id\":\"2983\",\"type\":\"CategoricalAxis\"},{\"attributes\":{\"end\":0.9988549999999999,\"reset_end\":0.9988549999999999,\"reset_start\":0.8709950000000001,\"start\":0.8709950000000001,\"tags\":[[[\"USDCHF\",\"USDCHF\",null]]]},\"id\":\"2972\",\"type\":\"Range1d\"}],\"root_ids\":[\"2969\"]},\"title\":\"Bokeh Application\",\"version\":\"2.2.3\"}};\n",
       "    var render_items = [{\"docid\":\"a1b74604-8921-4435-b216-4ffd4c4fccfa\",\"root_ids\":[\"2969\"],\"roots\":{\"2969\":\"a99c53a4-b377-4a4c-abfc-e0ece4775b19\"}}];\n",
       "    root.Bokeh.embed.embed_items_notebook(docs_json, render_items);\n",
       "  }\n",
       "  if (root.Bokeh !== undefined && root.Bokeh.Panel !== undefined) {\n",
       "    embed_document(root);\n",
       "  } else {\n",
       "    var attempts = 0;\n",
       "    var timer = setInterval(function(root) {\n",
       "      if (root.Bokeh !== undefined && root.Bokeh.Panel !== undefined) {\n",
       "        clearInterval(timer);\n",
       "        embed_document(root);\n",
       "      } else if (document.readyState == \"complete\") {\n",
       "        attempts++;\n",
       "        if (attempts > 100) {\n",
       "          clearInterval(timer);\n",
       "          console.log(\"Bokeh: ERROR: Unable to run BokehJS code because BokehJS library is missing\");\n",
       "        }\n",
       "      }\n",
       "    }, 10, root)\n",
       "  }\n",
       "})(window);</script>"
      ],
      "text/plain": [
       ":Curve   [index]   (USDCHF)"
      ]
     },
     "execution_count": 44,
     "metadata": {
      "application/vnd.holoviews_exec.v0+json": {
       "id": "2969"
      }
     },
     "output_type": "execute_result"
    }
   ],
   "source": [
    "# plot USDCHF\n",
    "USDCHF_plot = major7_date_col.hvplot(title='USDCHF 2020', y='USDCHF')\n",
    "USDCHF_plot"
   ]
  },
  {
   "cell_type": "code",
   "execution_count": 45,
   "metadata": {},
   "outputs": [
    {
     "data": {},
     "metadata": {},
     "output_type": "display_data"
    },
    {
     "data": {
      "application/vnd.holoviews_exec.v0+json": "",
      "text/html": [
       "<div id='3073'>\n",
       "\n",
       "\n",
       "\n",
       "\n",
       "\n",
       "  <div class=\"bk-root\" id=\"a1493e4b-d51d-4e28-8220-3e78373347e2\" data-root-id=\"3073\"></div>\n",
       "</div>\n",
       "<script type=\"application/javascript\">(function(root) {\n",
       "  function embed_document(root) {\n",
       "    var docs_json = {\"33182737-d0ba-42a3-b6f0-f0eab178e1d8\":{\"roots\":{\"references\":[{\"attributes\":{},\"id\":\"3108\",\"type\":\"Selection\"},{\"attributes\":{\"data_source\":{\"id\":\"3107\"},\"glyph\":{\"id\":\"3110\"},\"hover_glyph\":null,\"muted_glyph\":{\"id\":\"3112\"},\"nonselection_glyph\":{\"id\":\"3111\"},\"selection_glyph\":null,\"view\":{\"id\":\"3114\"}},\"id\":\"3113\",\"type\":\"GlyphRenderer\"},{\"attributes\":{\"text\":\"USDJPY 2020\",\"text_color\":{\"value\":\"black\"},\"text_font_size\":{\"value\":\"12pt\"}},\"id\":\"3079\",\"type\":\"Title\"},{\"attributes\":{},\"id\":\"3125\",\"type\":\"UnionRenderers\"},{\"attributes\":{\"active_drag\":\"auto\",\"active_inspect\":\"auto\",\"active_multi\":null,\"active_scroll\":\"auto\",\"active_tap\":\"auto\",\"tools\":[{\"id\":\"3077\"},{\"id\":\"3094\"},{\"id\":\"3095\"},{\"id\":\"3096\"},{\"id\":\"3097\"},{\"id\":\"3098\"}]},\"id\":\"3100\",\"type\":\"Toolbar\"},{\"attributes\":{\"below\":[{\"id\":\"3087\"}],\"center\":[{\"id\":\"3089\"},{\"id\":\"3093\"}],\"left\":[{\"id\":\"3090\"}],\"margin\":[5,5,5,5],\"min_border_bottom\":10,\"min_border_left\":10,\"min_border_right\":10,\"min_border_top\":10,\"plot_height\":300,\"plot_width\":700,\"renderers\":[{\"id\":\"3113\"}],\"sizing_mode\":\"fixed\",\"title\":{\"id\":\"3079\"},\"toolbar\":{\"id\":\"3100\"},\"x_range\":{\"id\":\"3075\"},\"x_scale\":{\"id\":\"3083\"},\"y_range\":{\"id\":\"3076\"},\"y_scale\":{\"id\":\"3085\"}},\"id\":\"3078\",\"subtype\":\"Figure\",\"type\":\"Plot\"},{\"attributes\":{\"source\":{\"id\":\"3107\"}},\"id\":\"3114\",\"type\":\"CDSView\"},{\"attributes\":{},\"id\":\"3094\",\"type\":\"SaveTool\"},{\"attributes\":{},\"id\":\"3116\",\"type\":\"CategoricalTickFormatter\"},{\"attributes\":{},\"id\":\"3095\",\"type\":\"PanTool\"},{\"attributes\":{},\"id\":\"3091\",\"type\":\"BasicTicker\"},{\"attributes\":{},\"id\":\"3098\",\"type\":\"ResetTool\"},{\"attributes\":{\"line_alpha\":0.2,\"line_color\":\"#30a2da\",\"line_width\":2,\"x\":{\"field\":\"index\"},\"y\":{\"field\":\"USDJPY\"}},\"id\":\"3112\",\"type\":\"Line\"},{\"attributes\":{\"bottom_units\":\"screen\",\"fill_alpha\":0.5,\"fill_color\":\"lightgrey\",\"left_units\":\"screen\",\"level\":\"overlay\",\"line_alpha\":1.0,\"line_color\":\"black\",\"line_dash\":[4,4],\"line_width\":2,\"right_units\":\"screen\",\"top_units\":\"screen\"},\"id\":\"3099\",\"type\":\"BoxAnnotation\"},{\"attributes\":{},\"id\":\"3096\",\"type\":\"WheelZoomTool\"},{\"attributes\":{\"data\":{\"USDJPY\":{\"__ndarray__\":\"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\",\"dtype\":\"float64\",\"order\":\"little\",\"shape\":[312]},\"index\":[\"2020.01.02\",\"2020.01.03\",\"2020.01.05\",\"2020.01.06\",\"2020.01.07\",\"2020.01.08\",\"2020.01.09\",\"2020.01.10\",\"2020.01.12\",\"2020.01.13\",\"2020.01.14\",\"2020.01.15\",\"2020.01.16\",\"2020.01.17\",\"2020.01.19\",\"2020.01.20\",\"2020.01.21\",\"2020.01.22\",\"2020.01.23\",\"2020.01.24\",\"2020.01.26\",\"2020.01.27\",\"2020.01.28\",\"2020.01.29\",\"2020.01.30\",\"2020.01.31\",\"2020.02.02\",\"2020.02.03\",\"2020.02.04\",\"2020.02.05\",\"2020.02.06\",\"2020.02.07\",\"2020.02.09\",\"2020.02.10\",\"2020.02.11\",\"2020.02.12\",\"2020.02.13\",\"2020.02.14\",\"2020.02.16\",\"2020.02.17\",\"2020.02.18\",\"2020.02.19\",\"2020.02.20\",\"2020.02.21\",\"2020.02.23\",\"2020.02.24\",\"2020.02.25\",\"2020.02.26\",\"2020.02.27\",\"2020.02.28\",\"2020.03.01\",\"2020.03.02\",\"2020.03.03\",\"2020.03.04\",\"2020.03.05\",\"2020.03.06\",\"2020.03.08\",\"2020.03.09\",\"2020.03.10\",\"2020.03.11\",\"2020.03.12\",\"2020.03.13\",\"2020.03.15\",\"2020.03.16\",\"2020.03.17\",\"2020.03.18\",\"2020.03.19\",\"2020.03.20\",\"2020.03.22\",\"2020.03.23\",\"2020.03.24\",\"2020.03.25\",\"2020.03.26\",\"2020.03.27\",\"2020.03.29\",\"2020.03.30\",\"2020.03.31\",\"2020.04.01\",\"2020.04.02\",\"2020.04.03\",\"2020.04.05\",\"2020.04.06\",\"2020.04.07\",\"2020.04.08\",\"2020.04.09\",\"2020.04.10\",\"2020.04.12\",\"2020.04.13\",\"2020.04.14\",\"2020.04.15\",\"2020.04.16\",\"2020.04.17\",\"2020.04.19\",\"2020.04.20\",\"2020.04.21\",\"2020.04.22\",\"2020.04.23\",\"2020.04.24\",\"2020.04.26\",\"2020.04.27\",\"2020.04.28\",\"2020.04.29\",\"2020.04.30\",\"2020.05.01\",\"2020.05.03\",\"2020.05.04\",\"2020.05.05\",\"2020.05.06\",\"2020.05.07\",\"2020.05.08\",\"2020.05.10\",\"2020.05.11\",\"2020.05.12\",\"2020.05.13\",\"2020.05.14\",\"2020.05.15\",\"2020.05.17\",\"2020.05.18\",\"2020.05.19\",\"2020.05.20\",\"2020.05.21\",\"2020.05.22\",\"2020.05.24\",\"2020.05.25\",\"2020.05.26\",\"2020.05.27\",\"2020.05.28\",\"2020.05.29\",\"2020.05.31\",\"2020.06.01\",\"2020.06.02\",\"2020.06.03\",\"2020.06.04\",\"2020.06.05\",\"2020.06.07\",\"2020.06.08\",\"2020.06.09\",\"2020.06.10\",\"2020.06.11\",\"2020.06.12\",\"2020.06.14\",\"2020.06.15\",\"2020.06.16\",\"2020.06.17\",\"2020.06.18\",\"2020.06.19\",\"2020.06.21\",\"2020.06.22\",\"2020.06.23\",\"2020.06.24\",\"2020.06.25\",\"2020.06.26\",\"2020.06.28\",\"2020.06.29\",\"2020.06.30\",\"2020.07.01\",\"2020.07.02\",\"2020.07.03\",\"2020.07.05\",\"2020.07.06\",\"2020.07.07\",\"2020.07.08\",\"2020.07.09\",\"2020.07.10\",\"2020.07.12\",\"2020.07.13\",\"2020.07.14\",\"2020.07.15\",\"2020.07.16\",\"2020.07.17\",\"2020.07.19\",\"2020.07.20\",\"2020.07.21\",\"2020.07.22\",\"2020.07.23\",\"2020.07.24\",\"2020.07.26\",\"2020.07.27\",\"2020.07.28\",\"2020.07.29\",\"2020.07.30\",\"2020.07.31\",\"2020.08.02\",\"2020.08.03\",\"2020.08.04\",\"2020.08.05\",\"2020.08.06\",\"2020.08.07\",\"2020.08.09\",\"2020.08.10\",\"2020.08.11\",\"2020.08.12\",\"2020.08.13\",\"2020.08.14\",\"2020.08.16\",\"2020.08.17\",\"2020.08.18\",\"2020.08.19\",\"2020.08.20\",\"2020.08.21\",\"2020.08.23\",\"2020.08.24\",\"2020.08.25\",\"2020.08.26\",\"2020.08.27\",\"2020.08.28\",\"2020.08.30\",\"2020.08.31\",\"2020.09.01\",\"2020.09.02\",\"2020.09.03\",\"2020.09.04\",\"2020.09.06\",\"2020.09.07\",\"2020.09.08\",\"2020.09.09\",\"2020.09.10\",\"2020.09.11\",\"2020.09.13\",\"2020.09.14\",\"2020.09.15\",\"2020.09.16\",\"2020.09.17\",\"2020.09.18\",\"2020.09.20\",\"2020.09.21\",\"2020.09.22\",\"2020.09.23\",\"2020.09.24\",\"2020.09.25\",\"2020.09.27\",\"2020.09.28\",\"2020.09.29\",\"2020.09.30\",\"2020.10.01\",\"2020.10.02\",\"2020.10.04\",\"2020.10.05\",\"2020.10.06\",\"2020.10.07\",\"2020.10.08\",\"2020.10.09\",\"2020.10.11\",\"2020.10.12\",\"2020.10.13\",\"2020.10.14\",\"2020.10.15\",\"2020.10.16\",\"2020.10.18\",\"2020.10.19\",\"2020.10.20\",\"2020.10.21\",\"2020.10.22\",\"2020.10.23\",\"2020.10.25\",\"2020.10.26\",\"2020.10.27\",\"2020.10.28\",\"2020.10.29\",\"2020.10.30\",\"2020.11.01\",\"2020.11.02\",\"2020.11.03\",\"2020.11.04\",\"2020.11.05\",\"2020.11.06\",\"2020.11.08\",\"2020.11.09\",\"2020.11.10\",\"2020.11.11\",\"2020.11.12\",\"2020.11.13\",\"2020.11.15\",\"2020.11.16\",\"2020.11.17\",\"2020.11.18\",\"2020.11.19\",\"2020.11.20\",\"2020.11.22\",\"2020.11.23\",\"2020.11.24\",\"2020.11.25\",\"2020.11.26\",\"2020.11.27\",\"2020.11.29\",\"2020.11.30\",\"2020.12.01\",\"2020.12.02\",\"2020.12.03\",\"2020.12.04\",\"2020.12.06\",\"2020.12.07\",\"2020.12.08\",\"2020.12.09\",\"2020.12.10\",\"2020.12.11\",\"2020.12.13\",\"2020.12.14\",\"2020.12.15\",\"2020.12.16\",\"2020.12.17\",\"2020.12.18\",\"2020.12.20\",\"2020.12.21\",\"2020.12.22\",\"2020.12.23\",\"2020.12.24\",\"2020.12.27\",\"2020.12.28\",\"2020.12.29\",\"2020.12.30\",\"2020.12.31\"]},\"selected\":{\"id\":\"3108\"},\"selection_policy\":{\"id\":\"3125\"}},\"id\":\"3107\",\"type\":\"ColumnDataSource\"},{\"attributes\":{\"overlay\":{\"id\":\"3099\"}},\"id\":\"3097\",\"type\":\"BoxZoomTool\"},{\"attributes\":{\"children\":[{\"id\":\"3074\"},{\"id\":\"3078\"},{\"id\":\"3135\"}],\"margin\":[0,0,0,0],\"name\":\"Row05925\",\"tags\":[\"embedded\"]},\"id\":\"3073\",\"type\":\"Row\"},{\"attributes\":{\"line_alpha\":0.1,\"line_color\":\"#30a2da\",\"line_width\":2,\"x\":{\"field\":\"index\"},\"y\":{\"field\":\"USDJPY\"}},\"id\":\"3111\",\"type\":\"Line\"},{\"attributes\":{},\"id\":\"3083\",\"type\":\"CategoricalScale\"},{\"attributes\":{\"factors\":[\"2020.01.02\",\"2020.01.03\",\"2020.01.05\",\"2020.01.06\",\"2020.01.07\",\"2020.01.08\",\"2020.01.09\",\"2020.01.10\",\"2020.01.12\",\"2020.01.13\",\"2020.01.14\",\"2020.01.15\",\"2020.01.16\",\"2020.01.17\",\"2020.01.19\",\"2020.01.20\",\"2020.01.21\",\"2020.01.22\",\"2020.01.23\",\"2020.01.24\",\"2020.01.26\",\"2020.01.27\",\"2020.01.28\",\"2020.01.29\",\"2020.01.30\",\"2020.01.31\",\"2020.02.02\",\"2020.02.03\",\"2020.02.04\",\"2020.02.05\",\"2020.02.06\",\"2020.02.07\",\"2020.02.09\",\"2020.02.10\",\"2020.02.11\",\"2020.02.12\",\"2020.02.13\",\"2020.02.14\",\"2020.02.16\",\"2020.02.17\",\"2020.02.18\",\"2020.02.19\",\"2020.02.20\",\"2020.02.21\",\"2020.02.23\",\"2020.02.24\",\"2020.02.25\",\"2020.02.26\",\"2020.02.27\",\"2020.02.28\",\"2020.03.01\",\"2020.03.02\",\"2020.03.03\",\"2020.03.04\",\"2020.03.05\",\"2020.03.06\",\"2020.03.08\",\"2020.03.09\",\"2020.03.10\",\"2020.03.11\",\"2020.03.12\",\"2020.03.13\",\"2020.03.15\",\"2020.03.16\",\"2020.03.17\",\"2020.03.18\",\"2020.03.19\",\"2020.03.20\",\"2020.03.22\",\"2020.03.23\",\"2020.03.24\",\"2020.03.25\",\"2020.03.26\",\"2020.03.27\",\"2020.03.29\",\"2020.03.30\",\"2020.03.31\",\"2020.04.01\",\"2020.04.02\",\"2020.04.03\",\"2020.04.05\",\"2020.04.06\",\"2020.04.07\",\"2020.04.08\",\"2020.04.09\",\"2020.04.10\",\"2020.04.12\",\"2020.04.13\",\"2020.04.14\",\"2020.04.15\",\"2020.04.16\",\"2020.04.17\",\"2020.04.19\",\"2020.04.20\",\"2020.04.21\",\"2020.04.22\",\"2020.04.23\",\"2020.04.24\",\"2020.04.26\",\"2020.04.27\",\"2020.04.28\",\"2020.04.29\",\"2020.04.30\",\"2020.05.01\",\"2020.05.03\",\"2020.05.04\",\"2020.05.05\",\"2020.05.06\",\"2020.05.07\",\"2020.05.08\",\"2020.05.10\",\"2020.05.11\",\"2020.05.12\",\"2020.05.13\",\"2020.05.14\",\"2020.05.15\",\"2020.05.17\",\"2020.05.18\",\"2020.05.19\",\"2020.05.20\",\"2020.05.21\",\"2020.05.22\",\"2020.05.24\",\"2020.05.25\",\"2020.05.26\",\"2020.05.27\",\"2020.05.28\",\"2020.05.29\",\"2020.05.31\",\"2020.06.01\",\"2020.06.02\",\"2020.06.03\",\"2020.06.04\",\"2020.06.05\",\"2020.06.07\",\"2020.06.08\",\"2020.06.09\",\"2020.06.10\",\"2020.06.11\",\"2020.06.12\",\"2020.06.14\",\"2020.06.15\",\"2020.06.16\",\"2020.06.17\",\"2020.06.18\",\"2020.06.19\",\"2020.06.21\",\"2020.06.22\",\"2020.06.23\",\"2020.06.24\",\"2020.06.25\",\"2020.06.26\",\"2020.06.28\",\"2020.06.29\",\"2020.06.30\",\"2020.07.01\",\"2020.07.02\",\"2020.07.03\",\"2020.07.05\",\"2020.07.06\",\"2020.07.07\",\"2020.07.08\",\"2020.07.09\",\"2020.07.10\",\"2020.07.12\",\"2020.07.13\",\"2020.07.14\",\"2020.07.15\",\"2020.07.16\",\"2020.07.17\",\"2020.07.19\",\"2020.07.20\",\"2020.07.21\",\"2020.07.22\",\"2020.07.23\",\"2020.07.24\",\"2020.07.26\",\"2020.07.27\",\"2020.07.28\",\"2020.07.29\",\"2020.07.30\",\"2020.07.31\",\"2020.08.02\",\"2020.08.03\",\"2020.08.04\",\"2020.08.05\",\"2020.08.06\",\"2020.08.07\",\"2020.08.09\",\"2020.08.10\",\"2020.08.11\",\"2020.08.12\",\"2020.08.13\",\"2020.08.14\",\"2020.08.16\",\"2020.08.17\",\"2020.08.18\",\"2020.08.19\",\"2020.08.20\",\"2020.08.21\",\"2020.08.23\",\"2020.08.24\",\"2020.08.25\",\"2020.08.26\",\"2020.08.27\",\"2020.08.28\",\"2020.08.30\",\"2020.08.31\",\"2020.09.01\",\"2020.09.02\",\"2020.09.03\",\"2020.09.04\",\"2020.09.06\",\"2020.09.07\",\"2020.09.08\",\"2020.09.09\",\"2020.09.10\",\"2020.09.11\",\"2020.09.13\",\"2020.09.14\",\"2020.09.15\",\"2020.09.16\",\"2020.09.17\",\"2020.09.18\",\"2020.09.20\",\"2020.09.21\",\"2020.09.22\",\"2020.09.23\",\"2020.09.24\",\"2020.09.25\",\"2020.09.27\",\"2020.09.28\",\"2020.09.29\",\"2020.09.30\",\"2020.10.01\",\"2020.10.02\",\"2020.10.04\",\"2020.10.05\",\"2020.10.06\",\"2020.10.07\",\"2020.10.08\",\"2020.10.09\",\"2020.10.11\",\"2020.10.12\",\"2020.10.13\",\"2020.10.14\",\"2020.10.15\",\"2020.10.16\",\"2020.10.18\",\"2020.10.19\",\"2020.10.20\",\"2020.10.21\",\"2020.10.22\",\"2020.10.23\",\"2020.10.25\",\"2020.10.26\",\"2020.10.27\",\"2020.10.28\",\"2020.10.29\",\"2020.10.30\",\"2020.11.01\",\"2020.11.02\",\"2020.11.03\",\"2020.11.04\",\"2020.11.05\",\"2020.11.06\",\"2020.11.08\",\"2020.11.09\",\"2020.11.10\",\"2020.11.11\",\"2020.11.12\",\"2020.11.13\",\"2020.11.15\",\"2020.11.16\",\"2020.11.17\",\"2020.11.18\",\"2020.11.19\",\"2020.11.20\",\"2020.11.22\",\"2020.11.23\",\"2020.11.24\",\"2020.11.25\",\"2020.11.26\",\"2020.11.27\",\"2020.11.29\",\"2020.11.30\",\"2020.12.01\",\"2020.12.02\",\"2020.12.03\",\"2020.12.04\",\"2020.12.06\",\"2020.12.07\",\"2020.12.08\",\"2020.12.09\",\"2020.12.10\",\"2020.12.11\",\"2020.12.13\",\"2020.12.14\",\"2020.12.15\",\"2020.12.16\",\"2020.12.17\",\"2020.12.18\",\"2020.12.20\",\"2020.12.21\",\"2020.12.22\",\"2020.12.23\",\"2020.12.24\",\"2020.12.27\",\"2020.12.28\",\"2020.12.29\",\"2020.12.30\",\"2020.12.31\"],\"tags\":[[[\"index\",\"index\",null]]]},\"id\":\"3075\",\"type\":\"FactorRange\"},{\"attributes\":{\"end\":112.9243,\"reset_end\":112.9243,\"reset_start\":101.48469999999999,\"start\":101.48469999999999,\"tags\":[[[\"USDJPY\",\"USDJPY\",null]]]},\"id\":\"3076\",\"type\":\"Range1d\"},{\"attributes\":{\"axis\":{\"id\":\"3087\"},\"grid_line_color\":null,\"ticker\":null},\"id\":\"3089\",\"type\":\"Grid\"},{\"attributes\":{\"line_color\":\"#30a2da\",\"line_width\":2,\"x\":{\"field\":\"index\"},\"y\":{\"field\":\"USDJPY\"}},\"id\":\"3110\",\"type\":\"Line\"},{\"attributes\":{},\"id\":\"3088\",\"type\":\"CategoricalTicker\"},{\"attributes\":{},\"id\":\"3085\",\"type\":\"LinearScale\"},{\"attributes\":{\"axis_label\":\"\",\"bounds\":\"auto\",\"formatter\":{\"id\":\"3116\"},\"major_label_orientation\":\"horizontal\",\"ticker\":{\"id\":\"3088\"}},\"id\":\"3087\",\"type\":\"CategoricalAxis\"},{\"attributes\":{\"callback\":null,\"renderers\":[{\"id\":\"3113\"}],\"tags\":[\"hv_created\"],\"tooltips\":[[\"index\",\"@{index}\"],[\"USDJPY\",\"@{USDJPY}\"]]},\"id\":\"3077\",\"type\":\"HoverTool\"},{\"attributes\":{\"margin\":[5,5,5,5],\"name\":\"HSpacer05929\",\"sizing_mode\":\"stretch_width\"},\"id\":\"3074\",\"type\":\"Spacer\"},{\"attributes\":{\"axis_label\":\"USDJPY\",\"bounds\":\"auto\",\"formatter\":{\"id\":\"3118\"},\"major_label_orientation\":\"horizontal\",\"ticker\":{\"id\":\"3091\"}},\"id\":\"3090\",\"type\":\"LinearAxis\"},{\"attributes\":{},\"id\":\"3118\",\"type\":\"BasicTickFormatter\"},{\"attributes\":{\"margin\":[5,5,5,5],\"name\":\"HSpacer05930\",\"sizing_mode\":\"stretch_width\"},\"id\":\"3135\",\"type\":\"Spacer\"},{\"attributes\":{\"axis\":{\"id\":\"3090\"},\"dimension\":1,\"grid_line_color\":null,\"ticker\":null},\"id\":\"3093\",\"type\":\"Grid\"}],\"root_ids\":[\"3073\"]},\"title\":\"Bokeh Application\",\"version\":\"2.2.3\"}};\n",
       "    var render_items = [{\"docid\":\"33182737-d0ba-42a3-b6f0-f0eab178e1d8\",\"root_ids\":[\"3073\"],\"roots\":{\"3073\":\"a1493e4b-d51d-4e28-8220-3e78373347e2\"}}];\n",
       "    root.Bokeh.embed.embed_items_notebook(docs_json, render_items);\n",
       "  }\n",
       "  if (root.Bokeh !== undefined && root.Bokeh.Panel !== undefined) {\n",
       "    embed_document(root);\n",
       "  } else {\n",
       "    var attempts = 0;\n",
       "    var timer = setInterval(function(root) {\n",
       "      if (root.Bokeh !== undefined && root.Bokeh.Panel !== undefined) {\n",
       "        clearInterval(timer);\n",
       "        embed_document(root);\n",
       "      } else if (document.readyState == \"complete\") {\n",
       "        attempts++;\n",
       "        if (attempts > 100) {\n",
       "          clearInterval(timer);\n",
       "          console.log(\"Bokeh: ERROR: Unable to run BokehJS code because BokehJS library is missing\");\n",
       "        }\n",
       "      }\n",
       "    }, 10, root)\n",
       "  }\n",
       "})(window);</script>"
      ],
      "text/plain": [
       ":Curve   [index]   (USDJPY)"
      ]
     },
     "execution_count": 45,
     "metadata": {
      "application/vnd.holoviews_exec.v0+json": {
       "id": "3073"
      }
     },
     "output_type": "execute_result"
    }
   ],
   "source": [
    "# plot USDJPY\n",
    "USDJPY_plot = major7_date_col.hvplot(title='USDJPY 2020', y='USDJPY')\n",
    "USDJPY_plot"
   ]
  },
  {
   "cell_type": "code",
   "execution_count": null,
   "metadata": {},
   "outputs": [],
   "source": []
  }
 ],
 "metadata": {
  "kernelspec": {
   "display_name": "Python 3",
   "language": "python",
   "name": "python3"
  },
  "language_info": {
   "codemirror_mode": {
    "name": "ipython",
    "version": 3
   },
   "file_extension": ".py",
   "mimetype": "text/x-python",
   "name": "python",
   "nbconvert_exporter": "python",
   "pygments_lexer": "ipython3",
   "version": "3.7.9"
  }
 },
 "nbformat": 4,
 "nbformat_minor": 4
}
